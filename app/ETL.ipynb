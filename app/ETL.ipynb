{
 "metadata": {
  "language_info": {
   "codemirror_mode": {
    "name": "ipython",
    "version": 3
   },
   "file_extension": ".py",
   "mimetype": "text/x-python",
   "name": "python",
   "nbconvert_exporter": "python",
   "pygments_lexer": "ipython3",
   "version": "3.7.6-final"
  },
  "orig_nbformat": 2,
  "kernelspec": {
   "name": "Python 3.7.6 64-bit (conda)",
   "display_name": "Python 3.7.6 64-bit (conda)",
   "metadata": {
    "interpreter": {
     "hash": "04ac14935f6ed29b3349ee8f41114d2dfa2ba78ce87cf701ad9b7ca15955b787"
    }
   }
  }
 },
 "nbformat": 4,
 "nbformat_minor": 2,
 "cells": [
  {
   "cell_type": "code",
   "execution_count": 3,
   "metadata": {},
   "outputs": [],
   "source": [
    "import yfinance as yf\n",
    "import pandas as pd\n",
    "import matplotlib.pyplot as plt\n",
    "import seaborn\n",
    "from flask import request"
   ]
  },
  {
   "cell_type": "code",
   "execution_count": 14,
   "metadata": {},
   "outputs": [],
   "source": [
    "stock = input(\"Enter the stock code: \") \n",
    "stockstdate = input(\"Enter the start date in the following format (YYYY-MM-DD): \") \n",
    "stockedate= input(\"Enter the end date in the following format (YYYY-MM-DD): \") "
   ]
  },
  {
   "cell_type": "code",
   "execution_count": null,
   "metadata": {},
   "outputs": [],
   "source": [
    "#stock = request.args['stock']\n",
    "#stockstdate = request.args['startdate'] \n",
    "#stockedate=request.args['enddate'] "
   ]
  },
  {
   "cell_type": "code",
   "execution_count": 15,
   "metadata": {},
   "outputs": [],
   "source": [
    "stockv = yf.Ticker(stock)\n",
    "sdate = (stockstdate)\n",
    "edate = (stockedate)"
   ]
  },
  {
   "cell_type": "code",
   "execution_count": 18,
   "metadata": {},
   "outputs": [
    {
     "output_type": "execute_result",
     "data": {
      "text/plain": "yfinance.Ticker object &lt;MSFT&gt;"
     },
     "metadata": {},
     "execution_count": 18
    }
   ],
   "source": [
    "stockv"
   ]
  },
  {
   "cell_type": "code",
   "execution_count": 19,
   "metadata": {
    "tags": []
   },
   "outputs": [
    {
     "output_type": "stream",
     "name": "stdout",
     "text": "[*********************100%***********************]  1 of 1 completed\n"
    }
   ],
   "source": [
    "data_df = yf.download(stock, start=sdate, end=edate)\n"
   ]
  },
  {
   "cell_type": "code",
   "execution_count": 20,
   "metadata": {},
   "outputs": [
    {
     "output_type": "execute_result",
     "data": {
      "text/plain": "                  Open        High         Low       Close   Adj Close  \\\nDate                                                                     \n2020-01-02  158.779999  160.729996  158.330002  160.619995  159.352386   \n2020-01-03  158.320007  159.949997  158.059998  158.619995  157.368179   \n2020-01-06  157.080002  159.100006  156.509995  159.029999  157.774948   \n2020-01-07  159.320007  159.669998  157.320007  157.580002  156.336395   \n2020-01-08  158.929993  160.800003  157.949997  160.089996  158.826569   \n...                ...         ...         ...         ...         ...   \n2020-04-24  172.059998  174.559998  170.710007  174.550003  173.645462   \n2020-04-27  176.589996  176.899994  173.300003  174.050003  173.148056   \n2020-04-28  175.589996  175.669998  169.389999  169.809998  168.930023   \n2020-04-29  173.220001  177.679993  171.880005  177.429993  176.510529   \n2020-04-30  180.000000  180.399994  176.229996  179.210007  178.281311   \n\n              Volume  \nDate                  \n2020-01-02  22622100  \n2020-01-03  21116200  \n2020-01-06  20813700  \n2020-01-07  21634100  \n2020-01-08  27746500  \n...              ...  \n2020-04-24  34305300  \n2020-04-27  33194400  \n2020-04-28  34392700  \n2020-04-29  51286600  \n2020-04-30  53661300  \n\n[83 rows x 6 columns]",
      "text/html": "<div>\n<style scoped>\n    .dataframe tbody tr th:only-of-type {\n        vertical-align: middle;\n    }\n\n    .dataframe tbody tr th {\n        vertical-align: top;\n    }\n\n    .dataframe thead th {\n        text-align: right;\n    }\n</style>\n<table border=\"1\" class=\"dataframe\">\n  <thead>\n    <tr style=\"text-align: right;\">\n      <th></th>\n      <th>Open</th>\n      <th>High</th>\n      <th>Low</th>\n      <th>Close</th>\n      <th>Adj Close</th>\n      <th>Volume</th>\n    </tr>\n    <tr>\n      <th>Date</th>\n      <th></th>\n      <th></th>\n      <th></th>\n      <th></th>\n      <th></th>\n      <th></th>\n    </tr>\n  </thead>\n  <tbody>\n    <tr>\n      <th>2020-01-02</th>\n      <td>158.779999</td>\n      <td>160.729996</td>\n      <td>158.330002</td>\n      <td>160.619995</td>\n      <td>159.352386</td>\n      <td>22622100</td>\n    </tr>\n    <tr>\n      <th>2020-01-03</th>\n      <td>158.320007</td>\n      <td>159.949997</td>\n      <td>158.059998</td>\n      <td>158.619995</td>\n      <td>157.368179</td>\n      <td>21116200</td>\n    </tr>\n    <tr>\n      <th>2020-01-06</th>\n      <td>157.080002</td>\n      <td>159.100006</td>\n      <td>156.509995</td>\n      <td>159.029999</td>\n      <td>157.774948</td>\n      <td>20813700</td>\n    </tr>\n    <tr>\n      <th>2020-01-07</th>\n      <td>159.320007</td>\n      <td>159.669998</td>\n      <td>157.320007</td>\n      <td>157.580002</td>\n      <td>156.336395</td>\n      <td>21634100</td>\n    </tr>\n    <tr>\n      <th>2020-01-08</th>\n      <td>158.929993</td>\n      <td>160.800003</td>\n      <td>157.949997</td>\n      <td>160.089996</td>\n      <td>158.826569</td>\n      <td>27746500</td>\n    </tr>\n    <tr>\n      <th>...</th>\n      <td>...</td>\n      <td>...</td>\n      <td>...</td>\n      <td>...</td>\n      <td>...</td>\n      <td>...</td>\n    </tr>\n    <tr>\n      <th>2020-04-24</th>\n      <td>172.059998</td>\n      <td>174.559998</td>\n      <td>170.710007</td>\n      <td>174.550003</td>\n      <td>173.645462</td>\n      <td>34305300</td>\n    </tr>\n    <tr>\n      <th>2020-04-27</th>\n      <td>176.589996</td>\n      <td>176.899994</td>\n      <td>173.300003</td>\n      <td>174.050003</td>\n      <td>173.148056</td>\n      <td>33194400</td>\n    </tr>\n    <tr>\n      <th>2020-04-28</th>\n      <td>175.589996</td>\n      <td>175.669998</td>\n      <td>169.389999</td>\n      <td>169.809998</td>\n      <td>168.930023</td>\n      <td>34392700</td>\n    </tr>\n    <tr>\n      <th>2020-04-29</th>\n      <td>173.220001</td>\n      <td>177.679993</td>\n      <td>171.880005</td>\n      <td>177.429993</td>\n      <td>176.510529</td>\n      <td>51286600</td>\n    </tr>\n    <tr>\n      <th>2020-04-30</th>\n      <td>180.000000</td>\n      <td>180.399994</td>\n      <td>176.229996</td>\n      <td>179.210007</td>\n      <td>178.281311</td>\n      <td>53661300</td>\n    </tr>\n  </tbody>\n</table>\n<p>83 rows × 6 columns</p>\n</div>"
     },
     "metadata": {},
     "execution_count": 20
    }
   ],
   "source": [
    "data_df"
   ]
  },
  {
   "cell_type": "code",
   "execution_count": null,
   "metadata": {},
   "outputs": [],
   "source": []
  }
 ]
}