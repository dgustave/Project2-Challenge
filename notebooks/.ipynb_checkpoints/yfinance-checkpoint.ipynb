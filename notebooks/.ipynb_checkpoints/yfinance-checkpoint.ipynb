{
 "cells": [
  {
   "cell_type": "code",
   "execution_count": 2,
   "metadata": {},
   "outputs": [],
   "source": [
    "import yfinance as yf\n",
    "import pandas as pd\n",
    "from pandas_datareader import data as pdr\n",
    "from datetime import date\n",
    "yf.pdr_override()"
   ]
  },
  {
   "cell_type": "code",
   "execution_count": 3,
   "metadata": {},
   "outputs": [
    {
     "ename": "SyntaxError",
     "evalue": "invalid character in identifier (<ipython-input-3-38773a545e8d>, line 1)",
     "output_type": "error",
     "traceback": [
      "\u001b[1;36m  File \u001b[1;32m\"<ipython-input-3-38773a545e8d>\"\u001b[1;36m, line \u001b[1;32m1\u001b[0m\n\u001b[1;33m    ticker_list=[‘DJIA’, ‘DOW’, ‘LB’, ‘EXPE’, ‘PXD’, ‘MCHP’, ‘CRM’, ‘JEC’ , ‘NRG’, ‘HFC’, ‘NOW’]\u001b[0m\n\u001b[1;37m                      ^\u001b[0m\n\u001b[1;31mSyntaxError\u001b[0m\u001b[1;31m:\u001b[0m invalid character in identifier\n"
     ]
    }
   ],
   "source": [
    "ticker_list=[\"DJIA\", \"DOW\", \"LB\", \"EXPE\", \"PXD\", \"MCHP\", \"CRM\", \"JEC\" , \"NRG\", \"HFC\", \"NOW\"]\n",
    "today = date.today()\n",
    "# We can get data by our choice by giving days bracket\n",
    "start_date= “2017–01–01”\n",
    "end_date=”2019–11–30\"\n",
    "files=[]\n",
    "def getData(ticker):\n",
    "print (ticker)\n",
    "data = pdr.get_data_yahoo(ticker, start=start_date, end=today)\n",
    "data"
   ]
  },
  {
   "cell_type": "code",
   "execution_count": null,
   "metadata": {},
   "outputs": [],
   "source": []
  }
 ],
 "metadata": {
  "kernelspec": {
   "display_name": "Python 3",
   "language": "python",
   "name": "python3"
  },
  "language_info": {
   "codemirror_mode": {
    "name": "ipython",
    "version": 3
   },
   "file_extension": ".py",
   "mimetype": "text/x-python",
   "name": "python",
   "nbconvert_exporter": "python",
   "pygments_lexer": "ipython3",
   "version": "3.8.3"
  }
 },
 "nbformat": 4,
 "nbformat_minor": 4
}
