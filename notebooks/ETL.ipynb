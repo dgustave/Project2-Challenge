{
 "metadata": {
  "language_info": {
   "codemirror_mode": {
    "name": "ipython",
    "version": 3
   },
   "file_extension": ".py",
   "mimetype": "text/x-python",
   "name": "python",
   "nbconvert_exporter": "python",
   "pygments_lexer": "ipython3",
   "version": "3.7.6-final"
  },
  "orig_nbformat": 2,
  "kernelspec": {
   "name": "Python 3.7.6 64-bit (conda)",
   "display_name": "Python 3.7.6 64-bit (conda)",
   "metadata": {
    "interpreter": {
     "hash": "04ac14935f6ed29b3349ee8f41114d2dfa2ba78ce87cf701ad9b7ca15955b787"
    }
   }
  }
 },
 "nbformat": 4,
 "nbformat_minor": 2,
 "cells": [
  {
   "cell_type": "code",
   "execution_count": 1,
   "metadata": {},
   "outputs": [],
   "source": [
    "import yfinance as yf\n",
    "import pandas as pd\n",
    "import matplotlib.pyplot as plt\n",
    "import seaborn\n",
    "from flask import request\n",
    "import plotly.graph_objects as go"
   ]
  },
  {
   "cell_type": "code",
   "execution_count": 2,
   "metadata": {},
   "outputs": [],
   "source": [
    "stock = input(\"Enter the stock code: \") \n",
    "stockstdate = input(\"Enter the start date in the following format (YYYY-MM-DD): \") \n",
    "stockedate= input(\"Enter the end date in the following format (YYYY-MM-DD): \") "
   ]
  },
  {
   "cell_type": "code",
   "execution_count": null,
   "metadata": {},
   "outputs": [],
   "source": [
    "from flask import Flask \n",
    "from flask import request \n",
    "\n",
    "@app.route('/Stock Select', methods=['POST', 'GET']) \n",
    "def Stock() \n",
    "\tif request.method == 'POST': \n",
    "\t\tstock = request.form['stock'] \n",
    "\t\tstockstdate = request.form['startdate'] \n",
    "        stockedate = request.form['enddate']\n",
    "\t\t \n",
    "\telse: \n",
    "\treturn print(\"Error\")"
   ]
  },
  {
   "cell_type": "code",
   "execution_count": null,
   "metadata": {},
   "outputs": [],
   "source": [
    "#stock = request.args['stock']\n",
    "#stockstdate = request.args['startdate'] \n",
    "#stockedate=request.args['enddate'] "
   ]
  },
  {
   "cell_type": "code",
   "execution_count": 3,
   "metadata": {},
   "outputs": [
    {
     "output_type": "error",
     "ename": "NameError",
     "evalue": "name 'stocksdate' is not defined",
     "traceback": [
      "\u001b[1;31m---------------------------------------------------------------------------\u001b[0m",
      "\u001b[1;31mNameError\u001b[0m                                 Traceback (most recent call last)",
      "\u001b[1;32m<ipython-input-3-c407d9e4dcfb>\u001b[0m in \u001b[0;36m<module>\u001b[1;34m\u001b[0m\n\u001b[0;32m      1\u001b[0m \u001b[1;32mimport\u001b[0m \u001b[0mdatetime\u001b[0m\u001b[1;33m\u001b[0m\u001b[1;33m\u001b[0m\u001b[0m\n\u001b[1;32m----> 2\u001b[1;33m \u001b[0mstocksdate2\u001b[0m \u001b[1;33m=\u001b[0m \u001b[0mstocksdate\u001b[0m\u001b[1;33m.\u001b[0m\u001b[0mstrftime\u001b[0m\u001b[1;33m(\u001b[0m\u001b[1;34m'%Y-%m-%d'\u001b[0m\u001b[1;33m)\u001b[0m\u001b[1;33m\u001b[0m\u001b[1;33m\u001b[0m\u001b[0m\n\u001b[0m\u001b[0;32m      3\u001b[0m \u001b[0mstockedate2\u001b[0m \u001b[1;33m=\u001b[0m \u001b[0mstockedate\u001b[0m\u001b[1;33m.\u001b[0m\u001b[0mstrftime\u001b[0m\u001b[1;33m(\u001b[0m\u001b[1;34m'%m-%d-%Y'\u001b[0m\u001b[1;33m)\u001b[0m\u001b[1;33m\u001b[0m\u001b[1;33m\u001b[0m\u001b[0m\n",
      "\u001b[1;31mNameError\u001b[0m: name 'stocksdate' is not defined"
     ]
    }
   ],
   "source": [
    "import datetime\n",
    "stocksdate2 = stocksdate.strftime('%Y-%m-%d')\n",
    "stockedate2 = stockedate.strftime('%m-%d-%Y')"
   ]
  },
  {
   "cell_type": "code",
   "execution_count": 19,
   "metadata": {},
   "outputs": [],
   "source": [
    "stockv = yf.Ticker(stock)\n",
    "sdate = (stockstdate)\n",
    "edate = (stockedate)"
   ]
  },
  {
   "cell_type": "code",
   "execution_count": 43,
   "metadata": {},
   "outputs": [
    {
     "output_type": "execute_result",
     "data": {
      "text/plain": [
       "yfinance.Ticker object <GOOG>"
      ]
     },
     "metadata": {},
     "execution_count": 43
    }
   ],
   "source": [
    "stockv"
   ]
  },
  {
   "cell_type": "code",
   "execution_count": 44,
   "metadata": {
    "tags": []
   },
   "outputs": [
    {
     "output_type": "stream",
     "name": "stdout",
     "text": [
      "[*********************100%***********************]  1 of 1 completed\n"
     ]
    }
   ],
   "source": [
    "data_df = yf.download(stock, start=sdate, end=edate)\n"
   ]
  },
  {
   "cell_type": "code",
   "execution_count": 45,
   "metadata": {},
   "outputs": [
    {
     "output_type": "execute_result",
     "data": {
      "text/plain": [
       "                   Open         High          Low        Close    Adj Close  \\\n",
       "Date                                                                          \n",
       "2020-01-02  1341.550049  1368.140015  1341.550049  1367.369995  1367.369995   \n",
       "2020-01-03  1347.859985  1372.500000  1345.543945  1360.660034  1360.660034   \n",
       "2020-01-06  1350.000000  1396.500000  1350.000000  1394.209961  1394.209961   \n",
       "2020-01-07  1397.939941  1402.989990  1390.380005  1393.339966  1393.339966   \n",
       "2020-01-08  1392.079956  1411.579956  1390.839966  1404.319946  1404.319946   \n",
       "2020-01-09  1420.569946  1427.329956  1410.270020  1419.829956  1419.829956   \n",
       "2020-01-10  1427.560059  1434.928955  1418.349976  1429.729980  1429.729980   \n",
       "2020-01-13  1436.130005  1440.520020  1426.020020  1439.229980  1439.229980   \n",
       "2020-01-14  1439.010010  1441.800049  1428.369995  1430.880005  1430.880005   \n",
       "2020-01-15  1430.209961  1441.395020  1430.209961  1439.199951  1439.199951   \n",
       "2020-01-16  1447.439941  1451.989990  1440.920044  1451.699951  1451.699951   \n",
       "2020-01-17  1462.910034  1481.295044  1458.219971  1480.390015  1480.390015   \n",
       "2020-01-21  1479.119995  1491.849976  1471.199951  1484.400024  1484.400024   \n",
       "2020-01-22  1491.000000  1503.213989  1484.930054  1485.949951  1485.949951   \n",
       "2020-01-23  1487.640015  1495.520020  1482.099976  1486.650024  1486.650024   \n",
       "2020-01-24  1493.589966  1495.494995  1465.250000  1466.709961  1466.709961   \n",
       "2020-01-27  1431.000000  1438.069946  1421.199951  1433.900024  1433.900024   \n",
       "2020-01-28  1443.000000  1456.000000  1432.469971  1452.560059  1452.560059   \n",
       "2020-01-29  1458.800049  1465.430054  1446.739990  1458.630005  1458.630005   \n",
       "2020-01-30  1439.959961  1457.280029  1436.400024  1455.839966  1455.839966   \n",
       "2020-01-31  1468.900024  1470.130005  1428.530029  1434.229980  1434.229980   \n",
       "\n",
       "             Volume  \n",
       "Date                 \n",
       "2020-01-02  1406600  \n",
       "2020-01-03  1186400  \n",
       "2020-01-06  1732300  \n",
       "2020-01-07  1502700  \n",
       "2020-01-08  1528000  \n",
       "2020-01-09  1500900  \n",
       "2020-01-10  1820700  \n",
       "2020-01-13  1652300  \n",
       "2020-01-14  1558900  \n",
       "2020-01-15  1282700  \n",
       "2020-01-16  1173700  \n",
       "2020-01-17  2396200  \n",
       "2020-01-21  2036700  \n",
       "2020-01-22  1610800  \n",
       "2020-01-23  1351200  \n",
       "2020-01-24  1784600  \n",
       "2020-01-27  1755200  \n",
       "2020-01-28  1577400  \n",
       "2020-01-29  1077700  \n",
       "2020-01-30  1339400  \n",
       "2020-01-31  2417200  "
      ],
      "text/html": "<div>\n<style scoped>\n    .dataframe tbody tr th:only-of-type {\n        vertical-align: middle;\n    }\n\n    .dataframe tbody tr th {\n        vertical-align: top;\n    }\n\n    .dataframe thead th {\n        text-align: right;\n    }\n</style>\n<table border=\"1\" class=\"dataframe\">\n  <thead>\n    <tr style=\"text-align: right;\">\n      <th></th>\n      <th>Open</th>\n      <th>High</th>\n      <th>Low</th>\n      <th>Close</th>\n      <th>Adj Close</th>\n      <th>Volume</th>\n    </tr>\n    <tr>\n      <th>Date</th>\n      <th></th>\n      <th></th>\n      <th></th>\n      <th></th>\n      <th></th>\n      <th></th>\n    </tr>\n  </thead>\n  <tbody>\n    <tr>\n      <th>2020-01-02</th>\n      <td>1341.550049</td>\n      <td>1368.140015</td>\n      <td>1341.550049</td>\n      <td>1367.369995</td>\n      <td>1367.369995</td>\n      <td>1406600</td>\n    </tr>\n    <tr>\n      <th>2020-01-03</th>\n      <td>1347.859985</td>\n      <td>1372.500000</td>\n      <td>1345.543945</td>\n      <td>1360.660034</td>\n      <td>1360.660034</td>\n      <td>1186400</td>\n    </tr>\n    <tr>\n      <th>2020-01-06</th>\n      <td>1350.000000</td>\n      <td>1396.500000</td>\n      <td>1350.000000</td>\n      <td>1394.209961</td>\n      <td>1394.209961</td>\n      <td>1732300</td>\n    </tr>\n    <tr>\n      <th>2020-01-07</th>\n      <td>1397.939941</td>\n      <td>1402.989990</td>\n      <td>1390.380005</td>\n      <td>1393.339966</td>\n      <td>1393.339966</td>\n      <td>1502700</td>\n    </tr>\n    <tr>\n      <th>2020-01-08</th>\n      <td>1392.079956</td>\n      <td>1411.579956</td>\n      <td>1390.839966</td>\n      <td>1404.319946</td>\n      <td>1404.319946</td>\n      <td>1528000</td>\n    </tr>\n    <tr>\n      <th>2020-01-09</th>\n      <td>1420.569946</td>\n      <td>1427.329956</td>\n      <td>1410.270020</td>\n      <td>1419.829956</td>\n      <td>1419.829956</td>\n      <td>1500900</td>\n    </tr>\n    <tr>\n      <th>2020-01-10</th>\n      <td>1427.560059</td>\n      <td>1434.928955</td>\n      <td>1418.349976</td>\n      <td>1429.729980</td>\n      <td>1429.729980</td>\n      <td>1820700</td>\n    </tr>\n    <tr>\n      <th>2020-01-13</th>\n      <td>1436.130005</td>\n      <td>1440.520020</td>\n      <td>1426.020020</td>\n      <td>1439.229980</td>\n      <td>1439.229980</td>\n      <td>1652300</td>\n    </tr>\n    <tr>\n      <th>2020-01-14</th>\n      <td>1439.010010</td>\n      <td>1441.800049</td>\n      <td>1428.369995</td>\n      <td>1430.880005</td>\n      <td>1430.880005</td>\n      <td>1558900</td>\n    </tr>\n    <tr>\n      <th>2020-01-15</th>\n      <td>1430.209961</td>\n      <td>1441.395020</td>\n      <td>1430.209961</td>\n      <td>1439.199951</td>\n      <td>1439.199951</td>\n      <td>1282700</td>\n    </tr>\n    <tr>\n      <th>2020-01-16</th>\n      <td>1447.439941</td>\n      <td>1451.989990</td>\n      <td>1440.920044</td>\n      <td>1451.699951</td>\n      <td>1451.699951</td>\n      <td>1173700</td>\n    </tr>\n    <tr>\n      <th>2020-01-17</th>\n      <td>1462.910034</td>\n      <td>1481.295044</td>\n      <td>1458.219971</td>\n      <td>1480.390015</td>\n      <td>1480.390015</td>\n      <td>2396200</td>\n    </tr>\n    <tr>\n      <th>2020-01-21</th>\n      <td>1479.119995</td>\n      <td>1491.849976</td>\n      <td>1471.199951</td>\n      <td>1484.400024</td>\n      <td>1484.400024</td>\n      <td>2036700</td>\n    </tr>\n    <tr>\n      <th>2020-01-22</th>\n      <td>1491.000000</td>\n      <td>1503.213989</td>\n      <td>1484.930054</td>\n      <td>1485.949951</td>\n      <td>1485.949951</td>\n      <td>1610800</td>\n    </tr>\n    <tr>\n      <th>2020-01-23</th>\n      <td>1487.640015</td>\n      <td>1495.520020</td>\n      <td>1482.099976</td>\n      <td>1486.650024</td>\n      <td>1486.650024</td>\n      <td>1351200</td>\n    </tr>\n    <tr>\n      <th>2020-01-24</th>\n      <td>1493.589966</td>\n      <td>1495.494995</td>\n      <td>1465.250000</td>\n      <td>1466.709961</td>\n      <td>1466.709961</td>\n      <td>1784600</td>\n    </tr>\n    <tr>\n      <th>2020-01-27</th>\n      <td>1431.000000</td>\n      <td>1438.069946</td>\n      <td>1421.199951</td>\n      <td>1433.900024</td>\n      <td>1433.900024</td>\n      <td>1755200</td>\n    </tr>\n    <tr>\n      <th>2020-01-28</th>\n      <td>1443.000000</td>\n      <td>1456.000000</td>\n      <td>1432.469971</td>\n      <td>1452.560059</td>\n      <td>1452.560059</td>\n      <td>1577400</td>\n    </tr>\n    <tr>\n      <th>2020-01-29</th>\n      <td>1458.800049</td>\n      <td>1465.430054</td>\n      <td>1446.739990</td>\n      <td>1458.630005</td>\n      <td>1458.630005</td>\n      <td>1077700</td>\n    </tr>\n    <tr>\n      <th>2020-01-30</th>\n      <td>1439.959961</td>\n      <td>1457.280029</td>\n      <td>1436.400024</td>\n      <td>1455.839966</td>\n      <td>1455.839966</td>\n      <td>1339400</td>\n    </tr>\n    <tr>\n      <th>2020-01-31</th>\n      <td>1468.900024</td>\n      <td>1470.130005</td>\n      <td>1428.530029</td>\n      <td>1434.229980</td>\n      <td>1434.229980</td>\n      <td>2417200</td>\n    </tr>\n  </tbody>\n</table>\n</div>"
     },
     "metadata": {},
     "execution_count": 45
    }
   ],
   "source": [
    "data_df"
   ]
  },
  {
   "cell_type": "code",
   "execution_count": 46,
   "metadata": {},
   "outputs": [
    {
     "output_type": "execute_result",
     "data": {
      "text/plain": [
       "         Date         Open         High          Low        Close  \\\n",
       "0  2020-01-02  1341.550049  1368.140015  1341.550049  1367.369995   \n",
       "1  2020-01-03  1347.859985  1372.500000  1345.543945  1360.660034   \n",
       "2  2020-01-06  1350.000000  1396.500000  1350.000000  1394.209961   \n",
       "3  2020-01-07  1397.939941  1402.989990  1390.380005  1393.339966   \n",
       "4  2020-01-08  1392.079956  1411.579956  1390.839966  1404.319946   \n",
       "5  2020-01-09  1420.569946  1427.329956  1410.270020  1419.829956   \n",
       "6  2020-01-10  1427.560059  1434.928955  1418.349976  1429.729980   \n",
       "7  2020-01-13  1436.130005  1440.520020  1426.020020  1439.229980   \n",
       "8  2020-01-14  1439.010010  1441.800049  1428.369995  1430.880005   \n",
       "9  2020-01-15  1430.209961  1441.395020  1430.209961  1439.199951   \n",
       "10 2020-01-16  1447.439941  1451.989990  1440.920044  1451.699951   \n",
       "11 2020-01-17  1462.910034  1481.295044  1458.219971  1480.390015   \n",
       "12 2020-01-21  1479.119995  1491.849976  1471.199951  1484.400024   \n",
       "13 2020-01-22  1491.000000  1503.213989  1484.930054  1485.949951   \n",
       "14 2020-01-23  1487.640015  1495.520020  1482.099976  1486.650024   \n",
       "15 2020-01-24  1493.589966  1495.494995  1465.250000  1466.709961   \n",
       "16 2020-01-27  1431.000000  1438.069946  1421.199951  1433.900024   \n",
       "17 2020-01-28  1443.000000  1456.000000  1432.469971  1452.560059   \n",
       "18 2020-01-29  1458.800049  1465.430054  1446.739990  1458.630005   \n",
       "19 2020-01-30  1439.959961  1457.280029  1436.400024  1455.839966   \n",
       "20 2020-01-31  1468.900024  1470.130005  1428.530029  1434.229980   \n",
       "\n",
       "      Adj Close   Volume  \n",
       "0   1367.369995  1406600  \n",
       "1   1360.660034  1186400  \n",
       "2   1394.209961  1732300  \n",
       "3   1393.339966  1502700  \n",
       "4   1404.319946  1528000  \n",
       "5   1419.829956  1500900  \n",
       "6   1429.729980  1820700  \n",
       "7   1439.229980  1652300  \n",
       "8   1430.880005  1558900  \n",
       "9   1439.199951  1282700  \n",
       "10  1451.699951  1173700  \n",
       "11  1480.390015  2396200  \n",
       "12  1484.400024  2036700  \n",
       "13  1485.949951  1610800  \n",
       "14  1486.650024  1351200  \n",
       "15  1466.709961  1784600  \n",
       "16  1433.900024  1755200  \n",
       "17  1452.560059  1577400  \n",
       "18  1458.630005  1077700  \n",
       "19  1455.839966  1339400  \n",
       "20  1434.229980  2417200  "
      ],
      "text/html": "<div>\n<style scoped>\n    .dataframe tbody tr th:only-of-type {\n        vertical-align: middle;\n    }\n\n    .dataframe tbody tr th {\n        vertical-align: top;\n    }\n\n    .dataframe thead th {\n        text-align: right;\n    }\n</style>\n<table border=\"1\" class=\"dataframe\">\n  <thead>\n    <tr style=\"text-align: right;\">\n      <th></th>\n      <th>Date</th>\n      <th>Open</th>\n      <th>High</th>\n      <th>Low</th>\n      <th>Close</th>\n      <th>Adj Close</th>\n      <th>Volume</th>\n    </tr>\n  </thead>\n  <tbody>\n    <tr>\n      <th>0</th>\n      <td>2020-01-02</td>\n      <td>1341.550049</td>\n      <td>1368.140015</td>\n      <td>1341.550049</td>\n      <td>1367.369995</td>\n      <td>1367.369995</td>\n      <td>1406600</td>\n    </tr>\n    <tr>\n      <th>1</th>\n      <td>2020-01-03</td>\n      <td>1347.859985</td>\n      <td>1372.500000</td>\n      <td>1345.543945</td>\n      <td>1360.660034</td>\n      <td>1360.660034</td>\n      <td>1186400</td>\n    </tr>\n    <tr>\n      <th>2</th>\n      <td>2020-01-06</td>\n      <td>1350.000000</td>\n      <td>1396.500000</td>\n      <td>1350.000000</td>\n      <td>1394.209961</td>\n      <td>1394.209961</td>\n      <td>1732300</td>\n    </tr>\n    <tr>\n      <th>3</th>\n      <td>2020-01-07</td>\n      <td>1397.939941</td>\n      <td>1402.989990</td>\n      <td>1390.380005</td>\n      <td>1393.339966</td>\n      <td>1393.339966</td>\n      <td>1502700</td>\n    </tr>\n    <tr>\n      <th>4</th>\n      <td>2020-01-08</td>\n      <td>1392.079956</td>\n      <td>1411.579956</td>\n      <td>1390.839966</td>\n      <td>1404.319946</td>\n      <td>1404.319946</td>\n      <td>1528000</td>\n    </tr>\n    <tr>\n      <th>5</th>\n      <td>2020-01-09</td>\n      <td>1420.569946</td>\n      <td>1427.329956</td>\n      <td>1410.270020</td>\n      <td>1419.829956</td>\n      <td>1419.829956</td>\n      <td>1500900</td>\n    </tr>\n    <tr>\n      <th>6</th>\n      <td>2020-01-10</td>\n      <td>1427.560059</td>\n      <td>1434.928955</td>\n      <td>1418.349976</td>\n      <td>1429.729980</td>\n      <td>1429.729980</td>\n      <td>1820700</td>\n    </tr>\n    <tr>\n      <th>7</th>\n      <td>2020-01-13</td>\n      <td>1436.130005</td>\n      <td>1440.520020</td>\n      <td>1426.020020</td>\n      <td>1439.229980</td>\n      <td>1439.229980</td>\n      <td>1652300</td>\n    </tr>\n    <tr>\n      <th>8</th>\n      <td>2020-01-14</td>\n      <td>1439.010010</td>\n      <td>1441.800049</td>\n      <td>1428.369995</td>\n      <td>1430.880005</td>\n      <td>1430.880005</td>\n      <td>1558900</td>\n    </tr>\n    <tr>\n      <th>9</th>\n      <td>2020-01-15</td>\n      <td>1430.209961</td>\n      <td>1441.395020</td>\n      <td>1430.209961</td>\n      <td>1439.199951</td>\n      <td>1439.199951</td>\n      <td>1282700</td>\n    </tr>\n    <tr>\n      <th>10</th>\n      <td>2020-01-16</td>\n      <td>1447.439941</td>\n      <td>1451.989990</td>\n      <td>1440.920044</td>\n      <td>1451.699951</td>\n      <td>1451.699951</td>\n      <td>1173700</td>\n    </tr>\n    <tr>\n      <th>11</th>\n      <td>2020-01-17</td>\n      <td>1462.910034</td>\n      <td>1481.295044</td>\n      <td>1458.219971</td>\n      <td>1480.390015</td>\n      <td>1480.390015</td>\n      <td>2396200</td>\n    </tr>\n    <tr>\n      <th>12</th>\n      <td>2020-01-21</td>\n      <td>1479.119995</td>\n      <td>1491.849976</td>\n      <td>1471.199951</td>\n      <td>1484.400024</td>\n      <td>1484.400024</td>\n      <td>2036700</td>\n    </tr>\n    <tr>\n      <th>13</th>\n      <td>2020-01-22</td>\n      <td>1491.000000</td>\n      <td>1503.213989</td>\n      <td>1484.930054</td>\n      <td>1485.949951</td>\n      <td>1485.949951</td>\n      <td>1610800</td>\n    </tr>\n    <tr>\n      <th>14</th>\n      <td>2020-01-23</td>\n      <td>1487.640015</td>\n      <td>1495.520020</td>\n      <td>1482.099976</td>\n      <td>1486.650024</td>\n      <td>1486.650024</td>\n      <td>1351200</td>\n    </tr>\n    <tr>\n      <th>15</th>\n      <td>2020-01-24</td>\n      <td>1493.589966</td>\n      <td>1495.494995</td>\n      <td>1465.250000</td>\n      <td>1466.709961</td>\n      <td>1466.709961</td>\n      <td>1784600</td>\n    </tr>\n    <tr>\n      <th>16</th>\n      <td>2020-01-27</td>\n      <td>1431.000000</td>\n      <td>1438.069946</td>\n      <td>1421.199951</td>\n      <td>1433.900024</td>\n      <td>1433.900024</td>\n      <td>1755200</td>\n    </tr>\n    <tr>\n      <th>17</th>\n      <td>2020-01-28</td>\n      <td>1443.000000</td>\n      <td>1456.000000</td>\n      <td>1432.469971</td>\n      <td>1452.560059</td>\n      <td>1452.560059</td>\n      <td>1577400</td>\n    </tr>\n    <tr>\n      <th>18</th>\n      <td>2020-01-29</td>\n      <td>1458.800049</td>\n      <td>1465.430054</td>\n      <td>1446.739990</td>\n      <td>1458.630005</td>\n      <td>1458.630005</td>\n      <td>1077700</td>\n    </tr>\n    <tr>\n      <th>19</th>\n      <td>2020-01-30</td>\n      <td>1439.959961</td>\n      <td>1457.280029</td>\n      <td>1436.400024</td>\n      <td>1455.839966</td>\n      <td>1455.839966</td>\n      <td>1339400</td>\n    </tr>\n    <tr>\n      <th>20</th>\n      <td>2020-01-31</td>\n      <td>1468.900024</td>\n      <td>1470.130005</td>\n      <td>1428.530029</td>\n      <td>1434.229980</td>\n      <td>1434.229980</td>\n      <td>2417200</td>\n    </tr>\n  </tbody>\n</table>\n</div>"
     },
     "metadata": {},
     "execution_count": 46
    }
   ],
   "source": [
    "data_df2 = data_df.reset_index(drop=False)\n",
    "#data_df.index = [x for x in range(1, len(data_df.values)+1)]\n",
    "#data_df.index.name = 'id'\n",
    "#data_df.index = data_df.index.map(str)\n",
    "\n",
    "data_df2\n"
   ]
  },
  {
   "cell_type": "code",
   "execution_count": 48,
   "metadata": {},
   "outputs": [
    {
     "output_type": "execute_result",
     "data": {
      "text/plain": [
       "         Date     OPEN     HIGH      LOW    CLOSE    ADJ Close   Volume\n",
       "0  2020-01-02  1341.55  1368.14  1341.55  1367.37  1367.369995  1406600\n",
       "1  2020-01-03  1347.86  1372.50  1345.54  1360.66  1360.660034  1186400\n",
       "2  2020-01-06  1350.00  1396.50  1350.00  1394.21  1394.209961  1732300\n",
       "3  2020-01-07  1397.94  1402.99  1390.38  1393.34  1393.339966  1502700\n",
       "4  2020-01-08  1392.08  1411.58  1390.84  1404.32  1404.319946  1528000\n",
       "5  2020-01-09  1420.57  1427.33  1410.27  1419.83  1419.829956  1500900\n",
       "6  2020-01-10  1427.56  1434.93  1418.35  1429.73  1429.729980  1820700\n",
       "7  2020-01-13  1436.13  1440.52  1426.02  1439.23  1439.229980  1652300\n",
       "8  2020-01-14  1439.01  1441.80  1428.37  1430.88  1430.880005  1558900\n",
       "9  2020-01-15  1430.21  1441.40  1430.21  1439.20  1439.199951  1282700\n",
       "10 2020-01-16  1447.44  1451.99  1440.92  1451.70  1451.699951  1173700\n",
       "11 2020-01-17  1462.91  1481.30  1458.22  1480.39  1480.390015  2396200\n",
       "12 2020-01-21  1479.12  1491.85  1471.20  1484.40  1484.400024  2036700\n",
       "13 2020-01-22  1491.00  1503.21  1484.93  1485.95  1485.949951  1610800\n",
       "14 2020-01-23  1487.64  1495.52  1482.10  1486.65  1486.650024  1351200\n",
       "15 2020-01-24  1493.59  1495.49  1465.25  1466.71  1466.709961  1784600\n",
       "16 2020-01-27  1431.00  1438.07  1421.20  1433.90  1433.900024  1755200\n",
       "17 2020-01-28  1443.00  1456.00  1432.47  1452.56  1452.560059  1577400\n",
       "18 2020-01-29  1458.80  1465.43  1446.74  1458.63  1458.630005  1077700\n",
       "19 2020-01-30  1439.96  1457.28  1436.40  1455.84  1455.839966  1339400\n",
       "20 2020-01-31  1468.90  1470.13  1428.53  1434.23  1434.229980  2417200"
      ],
      "text/html": "<div>\n<style scoped>\n    .dataframe tbody tr th:only-of-type {\n        vertical-align: middle;\n    }\n\n    .dataframe tbody tr th {\n        vertical-align: top;\n    }\n\n    .dataframe thead th {\n        text-align: right;\n    }\n</style>\n<table border=\"1\" class=\"dataframe\">\n  <thead>\n    <tr style=\"text-align: right;\">\n      <th></th>\n      <th>Date</th>\n      <th>OPEN</th>\n      <th>HIGH</th>\n      <th>LOW</th>\n      <th>CLOSE</th>\n      <th>ADJ Close</th>\n      <th>Volume</th>\n    </tr>\n  </thead>\n  <tbody>\n    <tr>\n      <th>0</th>\n      <td>2020-01-02</td>\n      <td>1341.55</td>\n      <td>1368.14</td>\n      <td>1341.55</td>\n      <td>1367.37</td>\n      <td>1367.369995</td>\n      <td>1406600</td>\n    </tr>\n    <tr>\n      <th>1</th>\n      <td>2020-01-03</td>\n      <td>1347.86</td>\n      <td>1372.50</td>\n      <td>1345.54</td>\n      <td>1360.66</td>\n      <td>1360.660034</td>\n      <td>1186400</td>\n    </tr>\n    <tr>\n      <th>2</th>\n      <td>2020-01-06</td>\n      <td>1350.00</td>\n      <td>1396.50</td>\n      <td>1350.00</td>\n      <td>1394.21</td>\n      <td>1394.209961</td>\n      <td>1732300</td>\n    </tr>\n    <tr>\n      <th>3</th>\n      <td>2020-01-07</td>\n      <td>1397.94</td>\n      <td>1402.99</td>\n      <td>1390.38</td>\n      <td>1393.34</td>\n      <td>1393.339966</td>\n      <td>1502700</td>\n    </tr>\n    <tr>\n      <th>4</th>\n      <td>2020-01-08</td>\n      <td>1392.08</td>\n      <td>1411.58</td>\n      <td>1390.84</td>\n      <td>1404.32</td>\n      <td>1404.319946</td>\n      <td>1528000</td>\n    </tr>\n    <tr>\n      <th>5</th>\n      <td>2020-01-09</td>\n      <td>1420.57</td>\n      <td>1427.33</td>\n      <td>1410.27</td>\n      <td>1419.83</td>\n      <td>1419.829956</td>\n      <td>1500900</td>\n    </tr>\n    <tr>\n      <th>6</th>\n      <td>2020-01-10</td>\n      <td>1427.56</td>\n      <td>1434.93</td>\n      <td>1418.35</td>\n      <td>1429.73</td>\n      <td>1429.729980</td>\n      <td>1820700</td>\n    </tr>\n    <tr>\n      <th>7</th>\n      <td>2020-01-13</td>\n      <td>1436.13</td>\n      <td>1440.52</td>\n      <td>1426.02</td>\n      <td>1439.23</td>\n      <td>1439.229980</td>\n      <td>1652300</td>\n    </tr>\n    <tr>\n      <th>8</th>\n      <td>2020-01-14</td>\n      <td>1439.01</td>\n      <td>1441.80</td>\n      <td>1428.37</td>\n      <td>1430.88</td>\n      <td>1430.880005</td>\n      <td>1558900</td>\n    </tr>\n    <tr>\n      <th>9</th>\n      <td>2020-01-15</td>\n      <td>1430.21</td>\n      <td>1441.40</td>\n      <td>1430.21</td>\n      <td>1439.20</td>\n      <td>1439.199951</td>\n      <td>1282700</td>\n    </tr>\n    <tr>\n      <th>10</th>\n      <td>2020-01-16</td>\n      <td>1447.44</td>\n      <td>1451.99</td>\n      <td>1440.92</td>\n      <td>1451.70</td>\n      <td>1451.699951</td>\n      <td>1173700</td>\n    </tr>\n    <tr>\n      <th>11</th>\n      <td>2020-01-17</td>\n      <td>1462.91</td>\n      <td>1481.30</td>\n      <td>1458.22</td>\n      <td>1480.39</td>\n      <td>1480.390015</td>\n      <td>2396200</td>\n    </tr>\n    <tr>\n      <th>12</th>\n      <td>2020-01-21</td>\n      <td>1479.12</td>\n      <td>1491.85</td>\n      <td>1471.20</td>\n      <td>1484.40</td>\n      <td>1484.400024</td>\n      <td>2036700</td>\n    </tr>\n    <tr>\n      <th>13</th>\n      <td>2020-01-22</td>\n      <td>1491.00</td>\n      <td>1503.21</td>\n      <td>1484.93</td>\n      <td>1485.95</td>\n      <td>1485.949951</td>\n      <td>1610800</td>\n    </tr>\n    <tr>\n      <th>14</th>\n      <td>2020-01-23</td>\n      <td>1487.64</td>\n      <td>1495.52</td>\n      <td>1482.10</td>\n      <td>1486.65</td>\n      <td>1486.650024</td>\n      <td>1351200</td>\n    </tr>\n    <tr>\n      <th>15</th>\n      <td>2020-01-24</td>\n      <td>1493.59</td>\n      <td>1495.49</td>\n      <td>1465.25</td>\n      <td>1466.71</td>\n      <td>1466.709961</td>\n      <td>1784600</td>\n    </tr>\n    <tr>\n      <th>16</th>\n      <td>2020-01-27</td>\n      <td>1431.00</td>\n      <td>1438.07</td>\n      <td>1421.20</td>\n      <td>1433.90</td>\n      <td>1433.900024</td>\n      <td>1755200</td>\n    </tr>\n    <tr>\n      <th>17</th>\n      <td>2020-01-28</td>\n      <td>1443.00</td>\n      <td>1456.00</td>\n      <td>1432.47</td>\n      <td>1452.56</td>\n      <td>1452.560059</td>\n      <td>1577400</td>\n    </tr>\n    <tr>\n      <th>18</th>\n      <td>2020-01-29</td>\n      <td>1458.80</td>\n      <td>1465.43</td>\n      <td>1446.74</td>\n      <td>1458.63</td>\n      <td>1458.630005</td>\n      <td>1077700</td>\n    </tr>\n    <tr>\n      <th>19</th>\n      <td>2020-01-30</td>\n      <td>1439.96</td>\n      <td>1457.28</td>\n      <td>1436.40</td>\n      <td>1455.84</td>\n      <td>1455.839966</td>\n      <td>1339400</td>\n    </tr>\n    <tr>\n      <th>20</th>\n      <td>2020-01-31</td>\n      <td>1468.90</td>\n      <td>1470.13</td>\n      <td>1428.53</td>\n      <td>1434.23</td>\n      <td>1434.229980</td>\n      <td>2417200</td>\n    </tr>\n  </tbody>\n</table>\n</div>"
     },
     "metadata": {},
     "execution_count": 48
    }
   ],
   "source": [
    "data_df2.columns = [ \"Date\", \"OPEN\", \"HIGH\", \"LOW\", \"CLOSE\", \"ADJ Close\", \"Volume\"]\n",
    "data_df2 = data_df2.round({\"OPEN\": 2, \"HIGH\": 2, \"LOW\": 2, \"CLOSE\": 2})\n",
    "data_df2"
   ]
  },
  {
   "cell_type": "code",
   "execution_count": 52,
   "metadata": {},
   "outputs": [
    {
     "output_type": "display_data",
     "data": {
      "application/vnd.plotly.v1+json": {
       "config": {
        "plotlyServerURL": "https://plot.ly"
       },
       "data": [
        {
         "close": [
          1367.37,
          1360.66,
          1394.21,
          1393.34,
          1404.32,
          1419.83,
          1429.73,
          1439.23,
          1430.88,
          1439.2,
          1451.7,
          1480.39,
          1484.4,
          1485.95,
          1486.65,
          1466.71,
          1433.9,
          1452.56,
          1458.63,
          1455.84,
          1434.23
         ],
         "high": [
          1368.14,
          1372.5,
          1396.5,
          1402.99,
          1411.58,
          1427.33,
          1434.93,
          1440.52,
          1441.8,
          1441.4,
          1451.99,
          1481.3,
          1491.85,
          1503.21,
          1495.52,
          1495.49,
          1438.07,
          1456,
          1465.43,
          1457.28,
          1470.13
         ],
         "low": [
          1341.55,
          1345.54,
          1350,
          1390.38,
          1390.84,
          1410.27,
          1418.35,
          1426.02,
          1428.37,
          1430.21,
          1440.92,
          1458.22,
          1471.2,
          1484.93,
          1482.1,
          1465.25,
          1421.2,
          1432.47,
          1446.74,
          1436.4,
          1428.53
         ],
         "open": [
          1341.55,
          1347.86,
          1350,
          1397.94,
          1392.08,
          1420.57,
          1427.56,
          1436.13,
          1439.01,
          1430.21,
          1447.44,
          1462.91,
          1479.12,
          1491,
          1487.64,
          1493.59,
          1431,
          1443,
          1458.8,
          1439.96,
          1468.9
         ],
         "type": "candlestick",
         "x": [
          "2020-01-02T00:00:00",
          "2020-01-03T00:00:00",
          "2020-01-06T00:00:00",
          "2020-01-07T00:00:00",
          "2020-01-08T00:00:00",
          "2020-01-09T00:00:00",
          "2020-01-10T00:00:00",
          "2020-01-13T00:00:00",
          "2020-01-14T00:00:00",
          "2020-01-15T00:00:00",
          "2020-01-16T00:00:00",
          "2020-01-17T00:00:00",
          "2020-01-21T00:00:00",
          "2020-01-22T00:00:00",
          "2020-01-23T00:00:00",
          "2020-01-24T00:00:00",
          "2020-01-27T00:00:00",
          "2020-01-28T00:00:00",
          "2020-01-29T00:00:00",
          "2020-01-30T00:00:00",
          "2020-01-31T00:00:00"
         ]
        }
       ],
       "layout": {
        "template": {
         "data": {
          "bar": [
           {
            "error_x": {
             "color": "#2a3f5f"
            },
            "error_y": {
             "color": "#2a3f5f"
            },
            "marker": {
             "line": {
              "color": "#E5ECF6",
              "width": 0.5
             }
            },
            "type": "bar"
           }
          ],
          "barpolar": [
           {
            "marker": {
             "line": {
              "color": "#E5ECF6",
              "width": 0.5
             }
            },
            "type": "barpolar"
           }
          ],
          "carpet": [
           {
            "aaxis": {
             "endlinecolor": "#2a3f5f",
             "gridcolor": "white",
             "linecolor": "white",
             "minorgridcolor": "white",
             "startlinecolor": "#2a3f5f"
            },
            "baxis": {
             "endlinecolor": "#2a3f5f",
             "gridcolor": "white",
             "linecolor": "white",
             "minorgridcolor": "white",
             "startlinecolor": "#2a3f5f"
            },
            "type": "carpet"
           }
          ],
          "choropleth": [
           {
            "colorbar": {
             "outlinewidth": 0,
             "ticks": ""
            },
            "type": "choropleth"
           }
          ],
          "contour": [
           {
            "colorbar": {
             "outlinewidth": 0,
             "ticks": ""
            },
            "colorscale": [
             [
              0,
              "#0d0887"
             ],
             [
              0.1111111111111111,
              "#46039f"
             ],
             [
              0.2222222222222222,
              "#7201a8"
             ],
             [
              0.3333333333333333,
              "#9c179e"
             ],
             [
              0.4444444444444444,
              "#bd3786"
             ],
             [
              0.5555555555555556,
              "#d8576b"
             ],
             [
              0.6666666666666666,
              "#ed7953"
             ],
             [
              0.7777777777777778,
              "#fb9f3a"
             ],
             [
              0.8888888888888888,
              "#fdca26"
             ],
             [
              1,
              "#f0f921"
             ]
            ],
            "type": "contour"
           }
          ],
          "contourcarpet": [
           {
            "colorbar": {
             "outlinewidth": 0,
             "ticks": ""
            },
            "type": "contourcarpet"
           }
          ],
          "heatmap": [
           {
            "colorbar": {
             "outlinewidth": 0,
             "ticks": ""
            },
            "colorscale": [
             [
              0,
              "#0d0887"
             ],
             [
              0.1111111111111111,
              "#46039f"
             ],
             [
              0.2222222222222222,
              "#7201a8"
             ],
             [
              0.3333333333333333,
              "#9c179e"
             ],
             [
              0.4444444444444444,
              "#bd3786"
             ],
             [
              0.5555555555555556,
              "#d8576b"
             ],
             [
              0.6666666666666666,
              "#ed7953"
             ],
             [
              0.7777777777777778,
              "#fb9f3a"
             ],
             [
              0.8888888888888888,
              "#fdca26"
             ],
             [
              1,
              "#f0f921"
             ]
            ],
            "type": "heatmap"
           }
          ],
          "heatmapgl": [
           {
            "colorbar": {
             "outlinewidth": 0,
             "ticks": ""
            },
            "colorscale": [
             [
              0,
              "#0d0887"
             ],
             [
              0.1111111111111111,
              "#46039f"
             ],
             [
              0.2222222222222222,
              "#7201a8"
             ],
             [
              0.3333333333333333,
              "#9c179e"
             ],
             [
              0.4444444444444444,
              "#bd3786"
             ],
             [
              0.5555555555555556,
              "#d8576b"
             ],
             [
              0.6666666666666666,
              "#ed7953"
             ],
             [
              0.7777777777777778,
              "#fb9f3a"
             ],
             [
              0.8888888888888888,
              "#fdca26"
             ],
             [
              1,
              "#f0f921"
             ]
            ],
            "type": "heatmapgl"
           }
          ],
          "histogram": [
           {
            "marker": {
             "colorbar": {
              "outlinewidth": 0,
              "ticks": ""
             }
            },
            "type": "histogram"
           }
          ],
          "histogram2d": [
           {
            "colorbar": {
             "outlinewidth": 0,
             "ticks": ""
            },
            "colorscale": [
             [
              0,
              "#0d0887"
             ],
             [
              0.1111111111111111,
              "#46039f"
             ],
             [
              0.2222222222222222,
              "#7201a8"
             ],
             [
              0.3333333333333333,
              "#9c179e"
             ],
             [
              0.4444444444444444,
              "#bd3786"
             ],
             [
              0.5555555555555556,
              "#d8576b"
             ],
             [
              0.6666666666666666,
              "#ed7953"
             ],
             [
              0.7777777777777778,
              "#fb9f3a"
             ],
             [
              0.8888888888888888,
              "#fdca26"
             ],
             [
              1,
              "#f0f921"
             ]
            ],
            "type": "histogram2d"
           }
          ],
          "histogram2dcontour": [
           {
            "colorbar": {
             "outlinewidth": 0,
             "ticks": ""
            },
            "colorscale": [
             [
              0,
              "#0d0887"
             ],
             [
              0.1111111111111111,
              "#46039f"
             ],
             [
              0.2222222222222222,
              "#7201a8"
             ],
             [
              0.3333333333333333,
              "#9c179e"
             ],
             [
              0.4444444444444444,
              "#bd3786"
             ],
             [
              0.5555555555555556,
              "#d8576b"
             ],
             [
              0.6666666666666666,
              "#ed7953"
             ],
             [
              0.7777777777777778,
              "#fb9f3a"
             ],
             [
              0.8888888888888888,
              "#fdca26"
             ],
             [
              1,
              "#f0f921"
             ]
            ],
            "type": "histogram2dcontour"
           }
          ],
          "mesh3d": [
           {
            "colorbar": {
             "outlinewidth": 0,
             "ticks": ""
            },
            "type": "mesh3d"
           }
          ],
          "parcoords": [
           {
            "line": {
             "colorbar": {
              "outlinewidth": 0,
              "ticks": ""
             }
            },
            "type": "parcoords"
           }
          ],
          "pie": [
           {
            "automargin": true,
            "type": "pie"
           }
          ],
          "scatter": [
           {
            "marker": {
             "colorbar": {
              "outlinewidth": 0,
              "ticks": ""
             }
            },
            "type": "scatter"
           }
          ],
          "scatter3d": [
           {
            "line": {
             "colorbar": {
              "outlinewidth": 0,
              "ticks": ""
             }
            },
            "marker": {
             "colorbar": {
              "outlinewidth": 0,
              "ticks": ""
             }
            },
            "type": "scatter3d"
           }
          ],
          "scattercarpet": [
           {
            "marker": {
             "colorbar": {
              "outlinewidth": 0,
              "ticks": ""
             }
            },
            "type": "scattercarpet"
           }
          ],
          "scattergeo": [
           {
            "marker": {
             "colorbar": {
              "outlinewidth": 0,
              "ticks": ""
             }
            },
            "type": "scattergeo"
           }
          ],
          "scattergl": [
           {
            "marker": {
             "colorbar": {
              "outlinewidth": 0,
              "ticks": ""
             }
            },
            "type": "scattergl"
           }
          ],
          "scattermapbox": [
           {
            "marker": {
             "colorbar": {
              "outlinewidth": 0,
              "ticks": ""
             }
            },
            "type": "scattermapbox"
           }
          ],
          "scatterpolar": [
           {
            "marker": {
             "colorbar": {
              "outlinewidth": 0,
              "ticks": ""
             }
            },
            "type": "scatterpolar"
           }
          ],
          "scatterpolargl": [
           {
            "marker": {
             "colorbar": {
              "outlinewidth": 0,
              "ticks": ""
             }
            },
            "type": "scatterpolargl"
           }
          ],
          "scatterternary": [
           {
            "marker": {
             "colorbar": {
              "outlinewidth": 0,
              "ticks": ""
             }
            },
            "type": "scatterternary"
           }
          ],
          "surface": [
           {
            "colorbar": {
             "outlinewidth": 0,
             "ticks": ""
            },
            "colorscale": [
             [
              0,
              "#0d0887"
             ],
             [
              0.1111111111111111,
              "#46039f"
             ],
             [
              0.2222222222222222,
              "#7201a8"
             ],
             [
              0.3333333333333333,
              "#9c179e"
             ],
             [
              0.4444444444444444,
              "#bd3786"
             ],
             [
              0.5555555555555556,
              "#d8576b"
             ],
             [
              0.6666666666666666,
              "#ed7953"
             ],
             [
              0.7777777777777778,
              "#fb9f3a"
             ],
             [
              0.8888888888888888,
              "#fdca26"
             ],
             [
              1,
              "#f0f921"
             ]
            ],
            "type": "surface"
           }
          ],
          "table": [
           {
            "cells": {
             "fill": {
              "color": "#EBF0F8"
             },
             "line": {
              "color": "white"
             }
            },
            "header": {
             "fill": {
              "color": "#C8D4E3"
             },
             "line": {
              "color": "white"
             }
            },
            "type": "table"
           }
          ]
         },
         "layout": {
          "annotationdefaults": {
           "arrowcolor": "#2a3f5f",
           "arrowhead": 0,
           "arrowwidth": 1
          },
          "coloraxis": {
           "colorbar": {
            "outlinewidth": 0,
            "ticks": ""
           }
          },
          "colorscale": {
           "diverging": [
            [
             0,
             "#8e0152"
            ],
            [
             0.1,
             "#c51b7d"
            ],
            [
             0.2,
             "#de77ae"
            ],
            [
             0.3,
             "#f1b6da"
            ],
            [
             0.4,
             "#fde0ef"
            ],
            [
             0.5,
             "#f7f7f7"
            ],
            [
             0.6,
             "#e6f5d0"
            ],
            [
             0.7,
             "#b8e186"
            ],
            [
             0.8,
             "#7fbc41"
            ],
            [
             0.9,
             "#4d9221"
            ],
            [
             1,
             "#276419"
            ]
           ],
           "sequential": [
            [
             0,
             "#0d0887"
            ],
            [
             0.1111111111111111,
             "#46039f"
            ],
            [
             0.2222222222222222,
             "#7201a8"
            ],
            [
             0.3333333333333333,
             "#9c179e"
            ],
            [
             0.4444444444444444,
             "#bd3786"
            ],
            [
             0.5555555555555556,
             "#d8576b"
            ],
            [
             0.6666666666666666,
             "#ed7953"
            ],
            [
             0.7777777777777778,
             "#fb9f3a"
            ],
            [
             0.8888888888888888,
             "#fdca26"
            ],
            [
             1,
             "#f0f921"
            ]
           ],
           "sequentialminus": [
            [
             0,
             "#0d0887"
            ],
            [
             0.1111111111111111,
             "#46039f"
            ],
            [
             0.2222222222222222,
             "#7201a8"
            ],
            [
             0.3333333333333333,
             "#9c179e"
            ],
            [
             0.4444444444444444,
             "#bd3786"
            ],
            [
             0.5555555555555556,
             "#d8576b"
            ],
            [
             0.6666666666666666,
             "#ed7953"
            ],
            [
             0.7777777777777778,
             "#fb9f3a"
            ],
            [
             0.8888888888888888,
             "#fdca26"
            ],
            [
             1,
             "#f0f921"
            ]
           ]
          },
          "colorway": [
           "#636efa",
           "#EF553B",
           "#00cc96",
           "#ab63fa",
           "#FFA15A",
           "#19d3f3",
           "#FF6692",
           "#B6E880",
           "#FF97FF",
           "#FECB52"
          ],
          "font": {
           "color": "#2a3f5f"
          },
          "geo": {
           "bgcolor": "white",
           "lakecolor": "white",
           "landcolor": "#E5ECF6",
           "showlakes": true,
           "showland": true,
           "subunitcolor": "white"
          },
          "hoverlabel": {
           "align": "left"
          },
          "hovermode": "closest",
          "mapbox": {
           "style": "light"
          },
          "paper_bgcolor": "white",
          "plot_bgcolor": "#E5ECF6",
          "polar": {
           "angularaxis": {
            "gridcolor": "white",
            "linecolor": "white",
            "ticks": ""
           },
           "bgcolor": "#E5ECF6",
           "radialaxis": {
            "gridcolor": "white",
            "linecolor": "white",
            "ticks": ""
           }
          },
          "scene": {
           "xaxis": {
            "backgroundcolor": "#E5ECF6",
            "gridcolor": "white",
            "gridwidth": 2,
            "linecolor": "white",
            "showbackground": true,
            "ticks": "",
            "zerolinecolor": "white"
           },
           "yaxis": {
            "backgroundcolor": "#E5ECF6",
            "gridcolor": "white",
            "gridwidth": 2,
            "linecolor": "white",
            "showbackground": true,
            "ticks": "",
            "zerolinecolor": "white"
           },
           "zaxis": {
            "backgroundcolor": "#E5ECF6",
            "gridcolor": "white",
            "gridwidth": 2,
            "linecolor": "white",
            "showbackground": true,
            "ticks": "",
            "zerolinecolor": "white"
           }
          },
          "shapedefaults": {
           "line": {
            "color": "#2a3f5f"
           }
          },
          "ternary": {
           "aaxis": {
            "gridcolor": "white",
            "linecolor": "white",
            "ticks": ""
           },
           "baxis": {
            "gridcolor": "white",
            "linecolor": "white",
            "ticks": ""
           },
           "bgcolor": "#E5ECF6",
           "caxis": {
            "gridcolor": "white",
            "linecolor": "white",
            "ticks": ""
           }
          },
          "title": {
           "x": 0.05
          },
          "xaxis": {
           "automargin": true,
           "gridcolor": "white",
           "linecolor": "white",
           "ticks": "",
           "title": {
            "standoff": 15
           },
           "zerolinecolor": "white",
           "zerolinewidth": 2
          },
          "yaxis": {
           "automargin": true,
           "gridcolor": "white",
           "linecolor": "white",
           "ticks": "",
           "title": {
            "standoff": 15
           },
           "zerolinecolor": "white",
           "zerolinewidth": 2
          }
         }
        },
        "title": {
         "text": "Requested Stock Info"
        },
        "yaxis": {
         "title": {
          "text": "GOOG"
         }
        }
       }
      }
     },
     "metadata": {}
    }
   ],
   "source": [
    "fig = go.Figure(data=[go.Candlestick(x=data_df2[\"Date\"],\n",
    "                open=data_df2['OPEN'], high=data_df2['HIGH'],\n",
    "                low=data_df2['LOW'], close=data_df2['CLOSE'])\n",
    "                      ])\n",
    "\n",
    "fig.update_layout(\n",
    "    title=\"Requested Stock Info\",\n",
    "    yaxis_title=f\"{stock}\"\n",
    "  )\n",
    "\n",
    "fig.show()"
   ]
  },
  {
   "cell_type": "code",
   "execution_count": 31,
   "metadata": {},
   "outputs": [
    {
     "output_type": "stream",
     "name": "stderr",
     "text": [
      "Summarize dataset: 100%|██████████| 21/21 [00:06<00:00,  3.04it/s, Completed]\n",
      "Generate report structure: 100%|██████████| 1/1 [00:02<00:00,  2.42s/it]\n",
      "Render HTML: 100%|██████████| 1/1 [00:00<00:00,  1.80it/s]\n",
      "Export report to file: 100%|██████████| 1/1 [00:00<00:00, 91.07it/s]\n"
     ]
    }
   ],
   "source": [
    "import pandas_profiling\n",
    "from pandas_profiling import ProfileReport\n",
    "\n",
    "profile = ProfileReport(data_df, title='Requested Stock Info', explorative=True)\n",
    "profile.to_file(\"../app/templates/searchedstock.html\")\n"
   ]
  },
  {
   "cell_type": "code",
   "execution_count": 51,
   "metadata": {},
   "outputs": [
    {
     "output_type": "execute_result",
     "data": {
      "text/plain": [
       "'\"[{\\\\\"Date\\\\\":\\\\\"2020-01-02T00:00:00.000Z\\\\\",\\\\\"OPEN\\\\\":158.78,\\\\\"HIGH\\\\\":160.73,\\\\\"LOW\\\\\":158.33,\\\\\"CLOSE\\\\\":160.62,\\\\\"volume_eth\\\\\":159.3523864746,\\\\\"volume_usd\\\\\":22622100},{\\\\\"Date\\\\\":\\\\\"2020-01-03T00:00:00.000Z\\\\\",\\\\\"OPEN\\\\\":158.32,\\\\\"HIGH\\\\\":159.95,\\\\\"LOW\\\\\":158.06,\\\\\"CLOSE\\\\\":158.62,\\\\\"volume_eth\\\\\":157.3681793213,\\\\\"volume_usd\\\\\":21116200},{\\\\\"Date\\\\\":\\\\\"2020-01-06T00:00:00.000Z\\\\\",\\\\\"OPEN\\\\\":157.08,\\\\\"HIGH\\\\\":159.1,\\\\\"LOW\\\\\":156.51,\\\\\"CLOSE\\\\\":159.03,\\\\\"volume_eth\\\\\":157.7749481201,\\\\\"volume_usd\\\\\":20813700},{\\\\\"Date\\\\\":\\\\\"2020-01-07T00:00:00.000Z\\\\\",\\\\\"OPEN\\\\\":159.32,\\\\\"HIGH\\\\\":159.67,\\\\\"LOW\\\\\":157.32,\\\\\"CLOSE\\\\\":157.58,\\\\\"volume_eth\\\\\":156.3363952637,\\\\\"volume_usd\\\\\":21634100},{\\\\\"Date\\\\\":\\\\\"2020-01-08T00:00:00.000Z\\\\\",\\\\\"OPEN\\\\\":158.93,\\\\\"HIGH\\\\\":160.8,\\\\\"LOW\\\\\":157.95,\\\\\"CLOSE\\\\\":160.09,\\\\\"volume_eth\\\\\":158.8265686035,\\\\\"volume_usd\\\\\":27746500},{\\\\\"Date\\\\\":\\\\\"2020-01-09T00:00:00.000Z\\\\\",\\\\\"OPEN\\\\\":161.84,\\\\\"HIGH\\\\\":162.22,\\\\\"LOW\\\\\":161.03,\\\\\"CLOSE\\\\\":162.09,\\\\\"volume_eth\\\\\":160.8107757568,\\\\\"volume_usd\\\\\":21385000},{\\\\\"Date\\\\\":\\\\\"2020-01-10T00:00:00.000Z\\\\\",\\\\\"OPEN\\\\\":162.82,\\\\\"HIGH\\\\\":163.22,\\\\\"LOW\\\\\":161.18,\\\\\"CLOSE\\\\\":161.34,\\\\\"volume_eth\\\\\":160.0667114258,\\\\\"volume_usd\\\\\":20725900},{\\\\\"Date\\\\\":\\\\\"2020-01-13T00:00:00.000Z\\\\\",\\\\\"OPEN\\\\\":161.76,\\\\\"HIGH\\\\\":163.31,\\\\\"LOW\\\\\":161.26,\\\\\"CLOSE\\\\\":163.28,\\\\\"volume_eth\\\\\":161.991394043,\\\\\"volume_usd\\\\\":21626500},{\\\\\"Date\\\\\":\\\\\"2020-01-14T00:00:00.000Z\\\\\",\\\\\"OPEN\\\\\":163.39,\\\\\"HIGH\\\\\":163.6,\\\\\"LOW\\\\\":161.72,\\\\\"CLOSE\\\\\":162.13,\\\\\"volume_eth\\\\\":160.850479126,\\\\\"volume_usd\\\\\":23477400},{\\\\\"Date\\\\\":\\\\\"2020-01-15T00:00:00.000Z\\\\\",\\\\\"OPEN\\\\\":162.62,\\\\\"HIGH\\\\\":163.94,\\\\\"LOW\\\\\":162.57,\\\\\"CLOSE\\\\\":163.18,\\\\\"volume_eth\\\\\":161.8921966553,\\\\\"volume_usd\\\\\":21417900},{\\\\\"Date\\\\\":\\\\\"2020-01-16T00:00:00.000Z\\\\\",\\\\\"OPEN\\\\\":164.35,\\\\\"HIGH\\\\\":166.24,\\\\\"LOW\\\\\":164.03,\\\\\"CLOSE\\\\\":166.17,\\\\\"volume_eth\\\\\":164.8585968018,\\\\\"volume_usd\\\\\":23865400},{\\\\\"Date\\\\\":\\\\\"2020-01-17T00:00:00.000Z\\\\\",\\\\\"OPEN\\\\\":167.42,\\\\\"HIGH\\\\\":167.47,\\\\\"LOW\\\\\":165.43,\\\\\"CLOSE\\\\\":167.1,\\\\\"volume_eth\\\\\":165.7812652588,\\\\\"volume_usd\\\\\":34371700},{\\\\\"Date\\\\\":\\\\\"2020-01-21T00:00:00.000Z\\\\\",\\\\\"OPEN\\\\\":166.68,\\\\\"HIGH\\\\\":168.19,\\\\\"LOW\\\\\":166.43,\\\\\"CLOSE\\\\\":166.5,\\\\\"volume_eth\\\\\":165.1859893799,\\\\\"volume_usd\\\\\":29517200},{\\\\\"Date\\\\\":\\\\\"2020-01-22T00:00:00.000Z\\\\\",\\\\\"OPEN\\\\\":167.4,\\\\\"HIGH\\\\\":167.49,\\\\\"LOW\\\\\":165.68,\\\\\"CLOSE\\\\\":165.7,\\\\\"volume_eth\\\\\":164.3923034668,\\\\\"volume_usd\\\\\":24138800},{\\\\\"Date\\\\\":\\\\\"2020-01-23T00:00:00.000Z\\\\\",\\\\\"OPEN\\\\\":166.19,\\\\\"HIGH\\\\\":166.8,\\\\\"LOW\\\\\":165.27,\\\\\"CLOSE\\\\\":166.72,\\\\\"volume_eth\\\\\":165.4042510986,\\\\\"volume_usd\\\\\":19680800},{\\\\\"Date\\\\\":\\\\\"2020-01-24T00:00:00.000Z\\\\\",\\\\\"OPEN\\\\\":167.51,\\\\\"HIGH\\\\\":167.53,\\\\\"LOW\\\\\":164.45,\\\\\"CLOSE\\\\\":165.04,\\\\\"volume_eth\\\\\":163.7375183105,\\\\\"volume_usd\\\\\":24918100},{\\\\\"Date\\\\\":\\\\\"2020-01-27T00:00:00.000Z\\\\\",\\\\\"OPEN\\\\\":161.15,\\\\\"HIGH\\\\\":163.38,\\\\\"LOW\\\\\":160.2,\\\\\"CLOSE\\\\\":162.28,\\\\\"volume_eth\\\\\":160.9992828369,\\\\\"volume_usd\\\\\":32078100},{\\\\\"Date\\\\\":\\\\\"2020-01-28T00:00:00.000Z\\\\\",\\\\\"OPEN\\\\\":163.78,\\\\\"HIGH\\\\\":165.76,\\\\\"LOW\\\\\":163.07,\\\\\"CLOSE\\\\\":165.46,\\\\\"volume_eth\\\\\":164.1542205811,\\\\\"volume_usd\\\\\":24899900},{\\\\\"Date\\\\\":\\\\\"2020-01-29T00:00:00.000Z\\\\\",\\\\\"OPEN\\\\\":167.84,\\\\\"HIGH\\\\\":168.75,\\\\\"LOW\\\\\":165.69,\\\\\"CLOSE\\\\\":168.04,\\\\\"volume_eth\\\\\":166.7138214111,\\\\\"volume_usd\\\\\":34754500},{\\\\\"Date\\\\\":\\\\\"2020-01-30T00:00:00.000Z\\\\\",\\\\\"OPEN\\\\\":174.05,\\\\\"HIGH\\\\\":174.05,\\\\\"LOW\\\\\":170.79,\\\\\"CLOSE\\\\\":172.78,\\\\\"volume_eth\\\\\":171.4164276123,\\\\\"volume_usd\\\\\":51597500},{\\\\\"Date\\\\\":\\\\\"2020-01-31T00:00:00.000Z\\\\\",\\\\\"OPEN\\\\\":172.21,\\\\\"HIGH\\\\\":172.4,\\\\\"LOW\\\\\":169.58,\\\\\"CLOSE\\\\\":170.23,\\\\\"volume_eth\\\\\":168.8865509033,\\\\\"volume_usd\\\\\":36142700}]\"'"
      ]
     },
     "metadata": {},
     "execution_count": 51
    }
   ],
   "source": [
    "#import json\n",
    "\n",
    "#stock_json = data_df.to_json(orient=\"records\", date_format='iso')\n",
    "#final_json = json.loads(stock_json)\n",
    "#json.dumps(stock_json, indent=0) "
   ]
  },
  {
   "cell_type": "code",
   "execution_count": 15,
   "metadata": {},
   "outputs": [],
   "source": [
    "#with open('../data/Searchedstock.json', 'w') as json_file:\n",
    " # json.dump(final_json, json_file)"
   ]
  },
  {
   "cell_type": "code",
   "execution_count": 16,
   "metadata": {},
   "outputs": [],
   "source": [
    "data_df.to_csv('../data/external/StockETL.csv', index = True)"
   ]
  },
  {
   "cell_type": "code",
   "execution_count": null,
   "metadata": {},
   "outputs": [],
   "source": [
    "#import sqlalchemy\n",
    "\n",
    "#from sqlalchemy import create_engine\n",
    "\n",
    "# Imports the methods needed to abstract classes into tables\n",
    "#from sqlalchemy.ext.declarative import declarative_base\n",
    "\n",
    "# Allow us to declare column types\n",
    "#from sqlalchemy import Column, Integer, String, Float \n",
    "\n",
    "\n",
    "#Base = declarative_base()\n",
    "#engine = create_engine('sqlite:///Stock.db', echo=False)\n",
    "#conn = engine.connect()\n"
   ]
  },
  {
   "cell_type": "code",
   "execution_count": null,
   "metadata": {},
   "outputs": [],
   "source": [
    "#sqlite_table = \"stocks\"\n",
    "#data_df.to_sql(sqlite_table, conn, if_exists='replace')\n",
    "#engine.execute(\"SELECT * FROM stocks\").fetchall()"
   ]
  },
  {
   "cell_type": "code",
   "execution_count": null,
   "metadata": {},
   "outputs": [],
   "source": [
    "#connection.close()"
   ]
  }
 ]
}