{
 "metadata": {
  "language_info": {
   "codemirror_mode": {
    "name": "ipython",
    "version": 3
   },
   "file_extension": ".py",
   "mimetype": "text/x-python",
   "name": "python",
   "nbconvert_exporter": "python",
   "pygments_lexer": "ipython3",
   "version": "3.7.6-final"
  },
  "orig_nbformat": 2,
  "kernelspec": {
   "name": "Python 3.7.6 64-bit (conda)",
   "display_name": "Python 3.7.6 64-bit (conda)",
   "metadata": {
    "interpreter": {
     "hash": "04ac14935f6ed29b3349ee8f41114d2dfa2ba78ce87cf701ad9b7ca15955b787"
    }
   }
  }
 },
 "nbformat": 4,
 "nbformat_minor": 2,
 "cells": [
  {
   "cell_type": "code",
   "execution_count": 1,
   "metadata": {},
   "outputs": [],
   "source": [
    "import yfinance as yf\n",
    "import pandas as pd\n",
    "import matplotlib.pyplot as plt\n",
    "import seaborn\n",
    "from flask import request"
   ]
  },
  {
   "cell_type": "code",
   "execution_count": 2,
   "metadata": {},
   "outputs": [],
   "source": [
    "stock = input(\"Enter the stock code: \") \n",
    "stockstdate = input(\"Enter the start date in the following format (YYYY-MM-DD): \") \n",
    "stockedate= input(\"Enter the end date in the following format (YYYY-MM-DD): \") "
   ]
  },
  {
   "cell_type": "code",
   "execution_count": null,
   "metadata": {},
   "outputs": [],
   "source": [
    "from flask import Flask \n",
    "from flask import request \n",
    "\n",
    "@app.route('/Stock Select', methods=['POST', 'GET']) \n",
    "def Stock() \n",
    "\tif request.method == 'POST': \n",
    "\t\tstock = request.form['stock'] \n",
    "\t\tstockstdate = request.form['startdate'] \n",
    "        stockedate = request.form['enddate']\n",
    "\t\t \n",
    "\telse: \n",
    "\treturn print(\"Error\")"
   ]
  },
  {
   "cell_type": "code",
   "execution_count": null,
   "metadata": {},
   "outputs": [],
   "source": [
    "#stock = request.args['stock']\n",
    "#stockstdate = request.args['startdate'] \n",
    "#stockedate=request.args['enddate'] "
   ]
  },
  {
   "cell_type": "code",
   "execution_count": 3,
   "metadata": {},
   "outputs": [
    {
     "output_type": "error",
     "ename": "NameError",
     "evalue": "name 'stocksdate' is not defined",
     "traceback": [
      "\u001b[1;31m---------------------------------------------------------------------------\u001b[0m",
      "\u001b[1;31mNameError\u001b[0m                                 Traceback (most recent call last)",
      "\u001b[1;32m<ipython-input-3-c407d9e4dcfb>\u001b[0m in \u001b[0;36m<module>\u001b[1;34m\u001b[0m\n\u001b[0;32m      1\u001b[0m \u001b[1;32mimport\u001b[0m \u001b[0mdatetime\u001b[0m\u001b[1;33m\u001b[0m\u001b[1;33m\u001b[0m\u001b[0m\n\u001b[1;32m----> 2\u001b[1;33m \u001b[0mstocksdate2\u001b[0m \u001b[1;33m=\u001b[0m \u001b[0mstocksdate\u001b[0m\u001b[1;33m.\u001b[0m\u001b[0mstrftime\u001b[0m\u001b[1;33m(\u001b[0m\u001b[1;34m'%Y-%m-%d'\u001b[0m\u001b[1;33m)\u001b[0m\u001b[1;33m\u001b[0m\u001b[1;33m\u001b[0m\u001b[0m\n\u001b[0m\u001b[0;32m      3\u001b[0m \u001b[0mstockedate2\u001b[0m \u001b[1;33m=\u001b[0m \u001b[0mstockedate\u001b[0m\u001b[1;33m.\u001b[0m\u001b[0mstrftime\u001b[0m\u001b[1;33m(\u001b[0m\u001b[1;34m'%m-%d-%Y'\u001b[0m\u001b[1;33m)\u001b[0m\u001b[1;33m\u001b[0m\u001b[1;33m\u001b[0m\u001b[0m\n",
      "\u001b[1;31mNameError\u001b[0m: name 'stocksdate' is not defined"
     ]
    }
   ],
   "source": [
    "import datetime\n",
    "stocksdate2 = stocksdate.strftime('%Y-%m-%d')\n",
    "stockedate2 = stockedate.strftime('%m-%d-%Y')"
   ]
  },
  {
   "cell_type": "code",
   "execution_count": 4,
   "metadata": {},
   "outputs": [],
   "source": [
    "stockv = yf.Ticker(stock)\n",
    "sdate = (stockstdate)\n",
    "edate = (stockedate)"
   ]
  },
  {
   "cell_type": "code",
   "execution_count": 5,
   "metadata": {},
   "outputs": [
    {
     "output_type": "execute_result",
     "data": {
      "text/plain": [
       "yfinance.Ticker object <MSFT>"
      ]
     },
     "metadata": {},
     "execution_count": 5
    }
   ],
   "source": [
    "stockv"
   ]
  },
  {
   "cell_type": "code",
   "execution_count": 10,
   "metadata": {
    "tags": []
   },
   "outputs": [
    {
     "output_type": "stream",
     "name": "stdout",
     "text": [
      "[*********************100%***********************]  1 of 1 completed\n"
     ]
    }
   ],
   "source": [
    "data_df = yf.download(stock, start=sdate, end=edate)\n"
   ]
  },
  {
   "cell_type": "code",
   "execution_count": 11,
   "metadata": {},
   "outputs": [
    {
     "output_type": "execute_result",
     "data": {
      "text/plain": [
       "                  Open        High         Low       Close   Adj Close  \\\n",
       "Date                                                                     \n",
       "2020-01-02  158.779999  160.729996  158.330002  160.619995  159.352386   \n",
       "2020-01-03  158.320007  159.949997  158.059998  158.619995  157.368179   \n",
       "2020-01-06  157.080002  159.100006  156.509995  159.029999  157.774948   \n",
       "2020-01-07  159.320007  159.669998  157.320007  157.580002  156.336395   \n",
       "2020-01-08  158.929993  160.800003  157.949997  160.089996  158.826569   \n",
       "2020-01-09  161.839996  162.220001  161.029999  162.089996  160.810776   \n",
       "2020-01-10  162.820007  163.220001  161.179993  161.339996  160.066711   \n",
       "2020-01-13  161.759995  163.309998  161.259995  163.279999  161.991394   \n",
       "2020-01-14  163.389999  163.600006  161.720001  162.130005  160.850479   \n",
       "2020-01-15  162.619995  163.940002  162.570007  163.179993  161.892197   \n",
       "2020-01-16  164.350006  166.240005  164.029999  166.169998  164.858597   \n",
       "2020-01-17  167.419998  167.470001  165.429993  167.100006  165.781265   \n",
       "2020-01-21  166.679993  168.190002  166.429993  166.500000  165.185989   \n",
       "2020-01-22  167.399994  167.490005  165.679993  165.699997  164.392303   \n",
       "2020-01-23  166.190002  166.800003  165.270004  166.720001  165.404251   \n",
       "2020-01-24  167.509995  167.529999  164.449997  165.039993  163.737518   \n",
       "2020-01-27  161.149994  163.380005  160.199997  162.279999  160.999283   \n",
       "2020-01-28  163.779999  165.759995  163.070007  165.460007  164.154221   \n",
       "2020-01-29  167.839996  168.750000  165.690002  168.039993  166.713821   \n",
       "2020-01-30  174.050003  174.050003  170.789993  172.779999  171.416428   \n",
       "2020-01-31  172.210007  172.399994  169.580002  170.229996  168.886551   \n",
       "\n",
       "              Volume  \n",
       "Date                  \n",
       "2020-01-02  22622100  \n",
       "2020-01-03  21116200  \n",
       "2020-01-06  20813700  \n",
       "2020-01-07  21634100  \n",
       "2020-01-08  27746500  \n",
       "2020-01-09  21385000  \n",
       "2020-01-10  20725900  \n",
       "2020-01-13  21626500  \n",
       "2020-01-14  23477400  \n",
       "2020-01-15  21417900  \n",
       "2020-01-16  23865400  \n",
       "2020-01-17  34371700  \n",
       "2020-01-21  29517200  \n",
       "2020-01-22  24138800  \n",
       "2020-01-23  19680800  \n",
       "2020-01-24  24918100  \n",
       "2020-01-27  32078100  \n",
       "2020-01-28  24899900  \n",
       "2020-01-29  34754500  \n",
       "2020-01-30  51597500  \n",
       "2020-01-31  36142700  "
      ],
      "text/html": "<div>\n<style scoped>\n    .dataframe tbody tr th:only-of-type {\n        vertical-align: middle;\n    }\n\n    .dataframe tbody tr th {\n        vertical-align: top;\n    }\n\n    .dataframe thead th {\n        text-align: right;\n    }\n</style>\n<table border=\"1\" class=\"dataframe\">\n  <thead>\n    <tr style=\"text-align: right;\">\n      <th></th>\n      <th>Open</th>\n      <th>High</th>\n      <th>Low</th>\n      <th>Close</th>\n      <th>Adj Close</th>\n      <th>Volume</th>\n    </tr>\n    <tr>\n      <th>Date</th>\n      <th></th>\n      <th></th>\n      <th></th>\n      <th></th>\n      <th></th>\n      <th></th>\n    </tr>\n  </thead>\n  <tbody>\n    <tr>\n      <th>2020-01-02</th>\n      <td>158.779999</td>\n      <td>160.729996</td>\n      <td>158.330002</td>\n      <td>160.619995</td>\n      <td>159.352386</td>\n      <td>22622100</td>\n    </tr>\n    <tr>\n      <th>2020-01-03</th>\n      <td>158.320007</td>\n      <td>159.949997</td>\n      <td>158.059998</td>\n      <td>158.619995</td>\n      <td>157.368179</td>\n      <td>21116200</td>\n    </tr>\n    <tr>\n      <th>2020-01-06</th>\n      <td>157.080002</td>\n      <td>159.100006</td>\n      <td>156.509995</td>\n      <td>159.029999</td>\n      <td>157.774948</td>\n      <td>20813700</td>\n    </tr>\n    <tr>\n      <th>2020-01-07</th>\n      <td>159.320007</td>\n      <td>159.669998</td>\n      <td>157.320007</td>\n      <td>157.580002</td>\n      <td>156.336395</td>\n      <td>21634100</td>\n    </tr>\n    <tr>\n      <th>2020-01-08</th>\n      <td>158.929993</td>\n      <td>160.800003</td>\n      <td>157.949997</td>\n      <td>160.089996</td>\n      <td>158.826569</td>\n      <td>27746500</td>\n    </tr>\n    <tr>\n      <th>2020-01-09</th>\n      <td>161.839996</td>\n      <td>162.220001</td>\n      <td>161.029999</td>\n      <td>162.089996</td>\n      <td>160.810776</td>\n      <td>21385000</td>\n    </tr>\n    <tr>\n      <th>2020-01-10</th>\n      <td>162.820007</td>\n      <td>163.220001</td>\n      <td>161.179993</td>\n      <td>161.339996</td>\n      <td>160.066711</td>\n      <td>20725900</td>\n    </tr>\n    <tr>\n      <th>2020-01-13</th>\n      <td>161.759995</td>\n      <td>163.309998</td>\n      <td>161.259995</td>\n      <td>163.279999</td>\n      <td>161.991394</td>\n      <td>21626500</td>\n    </tr>\n    <tr>\n      <th>2020-01-14</th>\n      <td>163.389999</td>\n      <td>163.600006</td>\n      <td>161.720001</td>\n      <td>162.130005</td>\n      <td>160.850479</td>\n      <td>23477400</td>\n    </tr>\n    <tr>\n      <th>2020-01-15</th>\n      <td>162.619995</td>\n      <td>163.940002</td>\n      <td>162.570007</td>\n      <td>163.179993</td>\n      <td>161.892197</td>\n      <td>21417900</td>\n    </tr>\n    <tr>\n      <th>2020-01-16</th>\n      <td>164.350006</td>\n      <td>166.240005</td>\n      <td>164.029999</td>\n      <td>166.169998</td>\n      <td>164.858597</td>\n      <td>23865400</td>\n    </tr>\n    <tr>\n      <th>2020-01-17</th>\n      <td>167.419998</td>\n      <td>167.470001</td>\n      <td>165.429993</td>\n      <td>167.100006</td>\n      <td>165.781265</td>\n      <td>34371700</td>\n    </tr>\n    <tr>\n      <th>2020-01-21</th>\n      <td>166.679993</td>\n      <td>168.190002</td>\n      <td>166.429993</td>\n      <td>166.500000</td>\n      <td>165.185989</td>\n      <td>29517200</td>\n    </tr>\n    <tr>\n      <th>2020-01-22</th>\n      <td>167.399994</td>\n      <td>167.490005</td>\n      <td>165.679993</td>\n      <td>165.699997</td>\n      <td>164.392303</td>\n      <td>24138800</td>\n    </tr>\n    <tr>\n      <th>2020-01-23</th>\n      <td>166.190002</td>\n      <td>166.800003</td>\n      <td>165.270004</td>\n      <td>166.720001</td>\n      <td>165.404251</td>\n      <td>19680800</td>\n    </tr>\n    <tr>\n      <th>2020-01-24</th>\n      <td>167.509995</td>\n      <td>167.529999</td>\n      <td>164.449997</td>\n      <td>165.039993</td>\n      <td>163.737518</td>\n      <td>24918100</td>\n    </tr>\n    <tr>\n      <th>2020-01-27</th>\n      <td>161.149994</td>\n      <td>163.380005</td>\n      <td>160.199997</td>\n      <td>162.279999</td>\n      <td>160.999283</td>\n      <td>32078100</td>\n    </tr>\n    <tr>\n      <th>2020-01-28</th>\n      <td>163.779999</td>\n      <td>165.759995</td>\n      <td>163.070007</td>\n      <td>165.460007</td>\n      <td>164.154221</td>\n      <td>24899900</td>\n    </tr>\n    <tr>\n      <th>2020-01-29</th>\n      <td>167.839996</td>\n      <td>168.750000</td>\n      <td>165.690002</td>\n      <td>168.039993</td>\n      <td>166.713821</td>\n      <td>34754500</td>\n    </tr>\n    <tr>\n      <th>2020-01-30</th>\n      <td>174.050003</td>\n      <td>174.050003</td>\n      <td>170.789993</td>\n      <td>172.779999</td>\n      <td>171.416428</td>\n      <td>51597500</td>\n    </tr>\n    <tr>\n      <th>2020-01-31</th>\n      <td>172.210007</td>\n      <td>172.399994</td>\n      <td>169.580002</td>\n      <td>170.229996</td>\n      <td>168.886551</td>\n      <td>36142700</td>\n    </tr>\n  </tbody>\n</table>\n</div>"
     },
     "metadata": {},
     "execution_count": 11
    }
   ],
   "source": [
    "data_df"
   ]
  },
  {
   "cell_type": "code",
   "execution_count": 12,
   "metadata": {},
   "outputs": [
    {
     "output_type": "execute_result",
     "data": {
      "text/plain": [
       "                  Open        High         Low       Close   Adj Close  \\\n",
       "Date                                                                     \n",
       "2020-01-02  158.779999  160.729996  158.330002  160.619995  159.352386   \n",
       "2020-01-03  158.320007  159.949997  158.059998  158.619995  157.368179   \n",
       "2020-01-06  157.080002  159.100006  156.509995  159.029999  157.774948   \n",
       "2020-01-07  159.320007  159.669998  157.320007  157.580002  156.336395   \n",
       "2020-01-08  158.929993  160.800003  157.949997  160.089996  158.826569   \n",
       "2020-01-09  161.839996  162.220001  161.029999  162.089996  160.810776   \n",
       "2020-01-10  162.820007  163.220001  161.179993  161.339996  160.066711   \n",
       "2020-01-13  161.759995  163.309998  161.259995  163.279999  161.991394   \n",
       "2020-01-14  163.389999  163.600006  161.720001  162.130005  160.850479   \n",
       "2020-01-15  162.619995  163.940002  162.570007  163.179993  161.892197   \n",
       "2020-01-16  164.350006  166.240005  164.029999  166.169998  164.858597   \n",
       "2020-01-17  167.419998  167.470001  165.429993  167.100006  165.781265   \n",
       "2020-01-21  166.679993  168.190002  166.429993  166.500000  165.185989   \n",
       "2020-01-22  167.399994  167.490005  165.679993  165.699997  164.392303   \n",
       "2020-01-23  166.190002  166.800003  165.270004  166.720001  165.404251   \n",
       "2020-01-24  167.509995  167.529999  164.449997  165.039993  163.737518   \n",
       "2020-01-27  161.149994  163.380005  160.199997  162.279999  160.999283   \n",
       "2020-01-28  163.779999  165.759995  163.070007  165.460007  164.154221   \n",
       "2020-01-29  167.839996  168.750000  165.690002  168.039993  166.713821   \n",
       "2020-01-30  174.050003  174.050003  170.789993  172.779999  171.416428   \n",
       "2020-01-31  172.210007  172.399994  169.580002  170.229996  168.886551   \n",
       "\n",
       "              Volume  \n",
       "Date                  \n",
       "2020-01-02  22622100  \n",
       "2020-01-03  21116200  \n",
       "2020-01-06  20813700  \n",
       "2020-01-07  21634100  \n",
       "2020-01-08  27746500  \n",
       "2020-01-09  21385000  \n",
       "2020-01-10  20725900  \n",
       "2020-01-13  21626500  \n",
       "2020-01-14  23477400  \n",
       "2020-01-15  21417900  \n",
       "2020-01-16  23865400  \n",
       "2020-01-17  34371700  \n",
       "2020-01-21  29517200  \n",
       "2020-01-22  24138800  \n",
       "2020-01-23  19680800  \n",
       "2020-01-24  24918100  \n",
       "2020-01-27  32078100  \n",
       "2020-01-28  24899900  \n",
       "2020-01-29  34754500  \n",
       "2020-01-30  51597500  \n",
       "2020-01-31  36142700  "
      ],
      "text/html": "<div>\n<style scoped>\n    .dataframe tbody tr th:only-of-type {\n        vertical-align: middle;\n    }\n\n    .dataframe tbody tr th {\n        vertical-align: top;\n    }\n\n    .dataframe thead th {\n        text-align: right;\n    }\n</style>\n<table border=\"1\" class=\"dataframe\">\n  <thead>\n    <tr style=\"text-align: right;\">\n      <th></th>\n      <th>Open</th>\n      <th>High</th>\n      <th>Low</th>\n      <th>Close</th>\n      <th>Adj Close</th>\n      <th>Volume</th>\n    </tr>\n    <tr>\n      <th>Date</th>\n      <th></th>\n      <th></th>\n      <th></th>\n      <th></th>\n      <th></th>\n      <th></th>\n    </tr>\n  </thead>\n  <tbody>\n    <tr>\n      <th>2020-01-02</th>\n      <td>158.779999</td>\n      <td>160.729996</td>\n      <td>158.330002</td>\n      <td>160.619995</td>\n      <td>159.352386</td>\n      <td>22622100</td>\n    </tr>\n    <tr>\n      <th>2020-01-03</th>\n      <td>158.320007</td>\n      <td>159.949997</td>\n      <td>158.059998</td>\n      <td>158.619995</td>\n      <td>157.368179</td>\n      <td>21116200</td>\n    </tr>\n    <tr>\n      <th>2020-01-06</th>\n      <td>157.080002</td>\n      <td>159.100006</td>\n      <td>156.509995</td>\n      <td>159.029999</td>\n      <td>157.774948</td>\n      <td>20813700</td>\n    </tr>\n    <tr>\n      <th>2020-01-07</th>\n      <td>159.320007</td>\n      <td>159.669998</td>\n      <td>157.320007</td>\n      <td>157.580002</td>\n      <td>156.336395</td>\n      <td>21634100</td>\n    </tr>\n    <tr>\n      <th>2020-01-08</th>\n      <td>158.929993</td>\n      <td>160.800003</td>\n      <td>157.949997</td>\n      <td>160.089996</td>\n      <td>158.826569</td>\n      <td>27746500</td>\n    </tr>\n    <tr>\n      <th>2020-01-09</th>\n      <td>161.839996</td>\n      <td>162.220001</td>\n      <td>161.029999</td>\n      <td>162.089996</td>\n      <td>160.810776</td>\n      <td>21385000</td>\n    </tr>\n    <tr>\n      <th>2020-01-10</th>\n      <td>162.820007</td>\n      <td>163.220001</td>\n      <td>161.179993</td>\n      <td>161.339996</td>\n      <td>160.066711</td>\n      <td>20725900</td>\n    </tr>\n    <tr>\n      <th>2020-01-13</th>\n      <td>161.759995</td>\n      <td>163.309998</td>\n      <td>161.259995</td>\n      <td>163.279999</td>\n      <td>161.991394</td>\n      <td>21626500</td>\n    </tr>\n    <tr>\n      <th>2020-01-14</th>\n      <td>163.389999</td>\n      <td>163.600006</td>\n      <td>161.720001</td>\n      <td>162.130005</td>\n      <td>160.850479</td>\n      <td>23477400</td>\n    </tr>\n    <tr>\n      <th>2020-01-15</th>\n      <td>162.619995</td>\n      <td>163.940002</td>\n      <td>162.570007</td>\n      <td>163.179993</td>\n      <td>161.892197</td>\n      <td>21417900</td>\n    </tr>\n    <tr>\n      <th>2020-01-16</th>\n      <td>164.350006</td>\n      <td>166.240005</td>\n      <td>164.029999</td>\n      <td>166.169998</td>\n      <td>164.858597</td>\n      <td>23865400</td>\n    </tr>\n    <tr>\n      <th>2020-01-17</th>\n      <td>167.419998</td>\n      <td>167.470001</td>\n      <td>165.429993</td>\n      <td>167.100006</td>\n      <td>165.781265</td>\n      <td>34371700</td>\n    </tr>\n    <tr>\n      <th>2020-01-21</th>\n      <td>166.679993</td>\n      <td>168.190002</td>\n      <td>166.429993</td>\n      <td>166.500000</td>\n      <td>165.185989</td>\n      <td>29517200</td>\n    </tr>\n    <tr>\n      <th>2020-01-22</th>\n      <td>167.399994</td>\n      <td>167.490005</td>\n      <td>165.679993</td>\n      <td>165.699997</td>\n      <td>164.392303</td>\n      <td>24138800</td>\n    </tr>\n    <tr>\n      <th>2020-01-23</th>\n      <td>166.190002</td>\n      <td>166.800003</td>\n      <td>165.270004</td>\n      <td>166.720001</td>\n      <td>165.404251</td>\n      <td>19680800</td>\n    </tr>\n    <tr>\n      <th>2020-01-24</th>\n      <td>167.509995</td>\n      <td>167.529999</td>\n      <td>164.449997</td>\n      <td>165.039993</td>\n      <td>163.737518</td>\n      <td>24918100</td>\n    </tr>\n    <tr>\n      <th>2020-01-27</th>\n      <td>161.149994</td>\n      <td>163.380005</td>\n      <td>160.199997</td>\n      <td>162.279999</td>\n      <td>160.999283</td>\n      <td>32078100</td>\n    </tr>\n    <tr>\n      <th>2020-01-28</th>\n      <td>163.779999</td>\n      <td>165.759995</td>\n      <td>163.070007</td>\n      <td>165.460007</td>\n      <td>164.154221</td>\n      <td>24899900</td>\n    </tr>\n    <tr>\n      <th>2020-01-29</th>\n      <td>167.839996</td>\n      <td>168.750000</td>\n      <td>165.690002</td>\n      <td>168.039993</td>\n      <td>166.713821</td>\n      <td>34754500</td>\n    </tr>\n    <tr>\n      <th>2020-01-30</th>\n      <td>174.050003</td>\n      <td>174.050003</td>\n      <td>170.789993</td>\n      <td>172.779999</td>\n      <td>171.416428</td>\n      <td>51597500</td>\n    </tr>\n    <tr>\n      <th>2020-01-31</th>\n      <td>172.210007</td>\n      <td>172.399994</td>\n      <td>169.580002</td>\n      <td>170.229996</td>\n      <td>168.886551</td>\n      <td>36142700</td>\n    </tr>\n  </tbody>\n</table>\n</div>"
     },
     "metadata": {},
     "execution_count": 12
    }
   ],
   "source": [
    "#data_df.index = [x for x in range(1, len(data_df.values)+1)]\n",
    "#data_df.index.name = 'id'\n",
    "#data_df.index = data_df.index.map(str)\n",
    "\n",
    "data_df\n"
   ]
  },
  {
   "cell_type": "code",
   "execution_count": 16,
   "metadata": {},
   "outputs": [],
   "source": [
    "data_df.to_csv('../data/external/StockETL.csv', index = True)"
   ]
  },
  {
   "cell_type": "code",
   "execution_count": null,
   "metadata": {},
   "outputs": [],
   "source": [
    "#import sqlalchemy\n",
    "\n",
    "#from sqlalchemy import create_engine\n",
    "\n",
    "# Imports the methods needed to abstract classes into tables\n",
    "#from sqlalchemy.ext.declarative import declarative_base\n",
    "\n",
    "# Allow us to declare column types\n",
    "#from sqlalchemy import Column, Integer, String, Float \n",
    "\n",
    "\n",
    "#Base = declarative_base()\n",
    "#engine = create_engine('sqlite:///Stock.db', echo=False)\n",
    "#conn = engine.connect()\n"
   ]
  },
  {
   "cell_type": "code",
   "execution_count": null,
   "metadata": {},
   "outputs": [],
   "source": [
    "#sqlite_table = \"stocks\"\n",
    "#data_df.to_sql(sqlite_table, conn, if_exists='replace')\n",
    "#engine.execute(\"SELECT * FROM stocks\").fetchall()"
   ]
  },
  {
   "cell_type": "code",
   "execution_count": null,
   "metadata": {},
   "outputs": [],
   "source": [
    "#connection.close()"
   ]
  }
 ]
}