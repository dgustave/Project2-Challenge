{
 "cells": [
  {
   "cell_type": "markdown",
   "metadata": {},
   "source": [
    "# Investopedia's S&P 500 Top Performers"
   ]
  },
  {
   "cell_type": "markdown",
   "metadata": {},
   "source": [
    "<div class=\"alert alert-block alert-success\">\n",
    "    <b>Note:</b> The next lines of code does link to the webpage in which we will scrape our information.\n",
    "    </div>"
   ]
  },
  {
   "cell_type": "markdown",
   "metadata": {},
   "source": [
    "<div>\n",
    "    <ul id=\"journey-nav__sublist_1-0\" class=\"comp journey-nav__sublist .js-animation\">\n",
    "    <li class=\"journey-nav__sublist-item journey-nav__sublist-item-overview\">\n",
    "    <a href=\"https://www.investopedia.com/top-stocks-4581225\">Overview</a>\n",
    "    </li>\n",
    "    <li class=\"journey-nav__sublist-item is-active\">\n",
    "    <a href=\"https://www.investopedia.com/top-communications-stocks-4583180\">Top Communications Stocks</a>\n",
    "    </li>\n",
    "    <li class=\"journey-nav__sublist-item \">\n",
    "    <a href=\"https://www.investopedia.com/investing/consumer-cyclical-stocks/\">Top Consumer Discretionary Stocks</a>\n",
    "    </li>\n",
    "    <li class=\"journey-nav__sublist-item \">\n",
    "    <a href=\"https://www.investopedia.com/investing/consumer-defensive-stocks/\">Top Consumer Staples Stocks</a>\n",
    "    </li>\n",
    "    <li class=\"journey-nav__sublist-item \">\n",
    "    <a href=\"https://www.investopedia.com/top-energy-stocks-4582081\">Top Energy Stocks</a>\n",
    "    </li>\n",
    "    <li class=\"journey-nav__sublist-item \">\n",
    "    <a href=\"https://www.investopedia.com/top-financial-stocks-4582168\">Top Financial Stocks</a>\n",
    "    </li>\n",
    "    <li class=\"journey-nav__sublist-item \">\n",
    "    <a href=\"https://www.investopedia.com/investing/top-healthcare-stocks/\">Top Healthcare Stocks</a>\n",
    "    </li>\n",
    "    <li class=\"journey-nav__sublist-item \">\n",
    "    <a href=\"https://www.investopedia.com/top-industrial-stocks-4582171\">Top Industrial Stocks</a>\n",
    "    </li>\n",
    "    <li class=\"journey-nav__sublist-item \">\n",
    "    <a href=\"https://www.investopedia.com/top-materials-stocks-4582152\">Top Materials Stocks</a>\n",
    "    </li>\n",
    "    <li class=\"journey-nav__sublist-item \">\n",
    "    <a href=\"https://www.investopedia.com/top-reits-4582128\">Top Real Estate Stocks</a>\n",
    "    </li>\n",
    "    <li class=\"journey-nav__sublist-item \">\n",
    "    <a href=\"https://www.investopedia.com/top-tech-stocks-4581295\">Top Technology Stocks</a>\n",
    "    </li>\n",
    "    <li class=\"journey-nav__sublist-item \">\n",
    "    <a href=\"https://www.investopedia.com/top-utilities-stocks-4582243\">Top Utilities Stocks</a>\n",
    "    </li>\n",
    "    </ul>\n",
    "</div>\n",
    " \n",
    "   "
   ]
  },
  {
   "cell_type": "markdown",
   "metadata": {},
   "source": [
    "## Step 1: Install Python packages"
   ]
  },
  {
   "cell_type": "code",
   "execution_count": 18,
   "metadata": {},
   "outputs": [],
   "source": [
    "import os\n",
    "import pandas as pd\n",
    "import html5lib\n",
    "from bs4 import BeautifulSoup as bs\n",
    "from selenium import webdriver                   \n",
    "from selenium.webdriver.common.keys import Keys   \n",
    "from selenium.webdriver.common.by import By\n",
    "from selenium.webdriver.support.ui import WebDriverWait\n",
    "from selenium.webdriver.support import expected_conditions as EC\n",
    "from selenium.common.exceptions import TimeoutException\n",
    "from selenium.webdriver.common.desired_capabilities import DesiredCapabilities\n",
    "from datetime import date, timedelta, datetime as dt    \n",
    "from pymongo import MongoClient"
   ]
  },
  {
   "cell_type": "markdown",
   "metadata": {},
   "source": [
    "## Step 2: Preparation "
   ]
  },
  {
   "cell_type": "markdown",
   "metadata": {},
   "source": [
    "<div class=\"alert alert-block alert-info\">\n",
    "    <b>Note:</b> The next lines of code is the connection to a mongo databaste which will be seperated into different collections through this document.\n",
    "    </div>\n",
    "    "
   ]
  },
  {
   "cell_type": "markdown",
   "metadata": {},
   "source": [
    "<div class=\"alert alert-block alert-warning\">\n",
    "    <b>Note:</b> The next lines of code is the connection to a mongo databaste which will be seperated into different collections through this document.\n",
    "    </div>"
   ]
  },
  {
   "cell_type": "markdown",
   "metadata": {},
   "source": [
    "<div class=\"alert alert-block alert-success\">\n",
    "    <b>Note:</b> The next lines of code is the connection to a mongo databaste which will be seperated into different collections through this document.\n",
    "    </div>"
   ]
  },
  {
   "cell_type": "code",
   "execution_count": 3,
   "metadata": {},
   "outputs": [],
   "source": [
    "# Connect to MongoDB\n",
    "client =  MongoClient(\"mongodb://localhost:27017\")\n",
    "db = client['investopedia']"
   ]
  },
  {
   "cell_type": "markdown",
   "metadata": {},
   "source": [
    "<div class=\"alert alert-block alert-danger\">\n",
    "    <b>Warning:</b> The next lines of code is only usable for the chrome driver that leads to my user directory.\n",
    "    </div>"
   ]
  },
  {
   "cell_type": "code",
   "execution_count": 4,
   "metadata": {},
   "outputs": [],
   "source": [
    "# class RemoteDriverStartService():\n",
    "#     options = webdriver.ChromeOptions()\n",
    "#     # Set user app data to a new directory\n",
    "#     options.add_argument(\"user-data-dir=C:\\\\Users\\\\Donley\\\\App Data\\\\Google\\\\Chrome\\\\Application\\\\User Data\\\\Kit\")\n",
    "#     options.add_experimental_option(\"Proxy\", \"null\")\n",
    "#     options.add_experimental_option(\"excludeSwitches\", [\"ignore-certificate-errors\"])\n",
    "#     # Create a download path for external data sources as default: \n",
    "#     options.add_experimental_option(\"prefs\", {\n",
    "#       \"download.default_directory\": r\"C:\\Users\\Donley\\Documents\\GA_TECH\\SUBMISSIONS\\PROJECT2-CHALLENGE\\data\\external\",\n",
    "#       \"download.prompt_for_download\": False,\n",
    "#       \"download.directory_upgrade\": True,\n",
    "#       \"safebrowsing.enabled\": True\n",
    "#     }),\n",
    "#     # Add those optional features to capabilities\n",
    "#     caps = options.to_capabilities()  \n",
    "#     def start_driver(self):\n",
    "#         return webdriver.Remote(command_executor='http://127.0.0.1:4444', \n",
    "#                                 desired_capabilities=self.caps)\n",
    "# # Set class equal to new capabilities:\n",
    "# DesiredCapabilities = RemoteDriverStartService()"
   ]
  },
  {
   "cell_type": "code",
   "execution_count": 7,
   "metadata": {},
   "outputs": [],
   "source": [
    "current_path = os.getcwd()\n",
    "Path = os.path.join(current_path, \"geckodriver.exe\")\n",
    "driver = webdriver.Firefox(executable_path= \"geckodriver.exe\")\n",
    "driver.maximize_window()"
   ]
  },
  {
   "cell_type": "code",
   "execution_count": 8,
   "metadata": {},
   "outputs": [],
   "source": [
    "# Create variables for scraping: \n",
    "investopedia = \"https://www.investopedia.com/top-communications-stocks-4583180\"\n",
    "# Download data to paths, csv's, json, etc: \n",
    "    # for external data sources\n",
    "external = \"../data/external/\"\n",
    "    # for processed data sources with ID's\n",
    "processed = \"../data/processed/\""
   ]
  },
  {
   "cell_type": "code",
   "execution_count": 10,
   "metadata": {},
   "outputs": [],
   "source": [
    "# # Locate Driver in system\n",
    "# current_path = os.getcwd()\n",
    "\n",
    "# # save the .exe file under the same directory of the web-scrape python script.\n",
    "# Path = os.path.join(current_path, \"chromedriver\")\n",
    "\n",
    "# # Initialize Chrome driver and start browser session controlled by automated test software under Kit profile.\n",
    "# caps = webdriver.DesiredCapabilities.CHROME.copy()\n",
    "# caps['acceptInsecureCerts'] = True\n",
    "# # caps = webdriver.DesiredCapabilities.CHROME.copy()\n",
    "# # caps['acceptInsecureCerts'] = True\n",
    "# # driver = webdriver.Chrome(options=options, desired_capabilities=caps)\n",
    "# driver = webdriver.Chrome(executable_path='chromedriver', desired_capabilities=caps)\n",
    "\n"
   ]
  },
  {
   "cell_type": "markdown",
   "metadata": {},
   "source": [
    "## Step 3: Find the IDs of the items we want to scrape for"
   ]
  },
  {
   "cell_type": "code",
   "execution_count": 11,
   "metadata": {},
   "outputs": [],
   "source": [
    "# Start Grabbing Information from investopedia: \n",
    "driver.get(investopedia)\n",
    "timeout = 20\n",
    "# Find an ID on the page and wait before executing anything until found: \n",
    "try:\n",
    "    WebDriverWait(driver, timeout).until(EC.visibility_of_element_located((By.ID, \"main_1-0\")))\n",
    "except TimeoutException:\n",
    "    driver.quit()\n",
    "\n"
   ]
  },
  {
   "cell_type": "markdown",
   "metadata": {},
   "source": [
    "## Step 4: Techniques to make more human-like web-scrapers "
   ]
  },
  {
   "cell_type": "code",
   "execution_count": 12,
   "metadata": {},
   "outputs": [],
   "source": [
    "# If the website detects us as a web-scraper, it will cut our connection so we cannot pull more data and have to re-start our scraper. This largely impacts the efficiency of the scraper and involves a lot of manual interference. There are a few techniques we can use to make the scraper more human-like:\n",
    "# (1) Randomize the sleep time\n",
    "# This can be easily implemented as below wherever needed:\n",
    "# #sleep for sometime between 5 and 8 seconds\n",
    "# time.sleep(random.uniform(5,8))\n",
    "# (2) Randomize the user agent for the web browser\n",
    "# This is also easy and can be added to the browser options as below:\n",
    "# ua = UserAgent()\n",
    "# userAgent = ua.random\n",
    "# Firefox_options = webdriver.FirefoxOptions()\n",
    "# Firefox_options.add_argument(f’user-agent={userAgent}’)\n",
    "# browser = webdriver.Firefox(executable_path = DRIVER_BIN, options=Firefox_options)\n",
    "# (3) Use dynamic proxy/IP\n",
    "# This requires more work than the above two. Usually free proxies are not stable and most of them don’t respond to requests, so we need to first a free proxy that responds to our requests. This website (also named as “url” in the script below) provides a lot of free proxies which we scrape down for our use. We will use Python BeautifulSoup package to scrape a list of proxies, and use Python requests package to test whether the proxy responds to our requests to the link.\n",
    "# def get_proxy(link):\n",
    "#     url = \"https://www.sslproxies.org/\"\n",
    "#     r = requests.get(url)\n",
    "#     soup = BeautifulSoup(r.content, 'html5lib')\n",
    "#     proxies_list = list(map(lambda x: x[0]+':'+x[1], list(zip(map(lambda x: x.text, soup.findAll('td')[::8]), map(lambda x: x.text, soup.findAll('td')[1::8])))))\n",
    "#     while 1:\n",
    "#         try:\n",
    "#             selected_ip = choice(proxies_list)\n",
    "#             proxy = {'https': selected_ip, 'http': selected_ip}\n",
    "#             headers = {'User-Agent': ua.random}\n",
    "#             print('Using proxy:{}'.format(proxy))\n",
    "#             r = requests.request('get', link, proxies=proxy, headers=headers, timeout=5)\n",
    "#             break\n",
    "#         except:\n",
    "#             pass\n",
    "        \n",
    "#     return proxy\n",
    "# We then add the working proxy to the browser option, similar to how we added the fake user agent:\n",
    "# link = \"https://www.expedia.com\"\n",
    "# proxy = get_proxy(link)\n",
    "# Firefox_options.add_argument('--proxy-server=%s' % proxy)\n",
    "# browser = webdriver.Firefox(executable_path = DRIVER_BIN, options=Firefox_options)"
   ]
  },
  {
   "cell_type": "code",
   "execution_count": 19,
   "metadata": {},
   "outputs": [
    {
     "data": {
      "text/plain": [
       "'\\n<li class=\"journey-nav__sublist-item journey-nav__sublist-item-overview\">\\n<a href=\"https://www.investopedia.com/top-stocks-4581225\">Overview</a>\\n</li>\\n<li class=\"journey-nav__sublist-item is-active\">\\n<a href=\"https://www.investopedia.com/top-communications-stocks-4583180\">Top Communications Stocks</a>\\n</li>\\n<li class=\"journey-nav__sublist-item \">\\n<a href=\"https://www.investopedia.com/investing/consumer-cyclical-stocks/\">Top Consumer Discretionary Stocks</a>\\n</li>\\n<li class=\"journey-nav__sublist-item \">\\n<a href=\"https://www.investopedia.com/investing/consumer-defensive-stocks/\">Top Consumer Staples Stocks</a>\\n</li>\\n<li class=\"journey-nav__sublist-item \">\\n<a href=\"https://www.investopedia.com/top-energy-stocks-4582081\">Top Energy Stocks</a>\\n</li>\\n<li class=\"journey-nav__sublist-item \">\\n<a href=\"https://www.investopedia.com/top-financial-stocks-4582168\">Top Financial Stocks</a>\\n</li>\\n<li class=\"journey-nav__sublist-item \">\\n<a href=\"https://www.investopedia.com/investing/top-healthcare-stocks/\">Top Healthcare Stocks</a>\\n</li>\\n<li class=\"journey-nav__sublist-item \">\\n<a href=\"https://www.investopedia.com/top-industrial-stocks-4582171\">Top Industrial Stocks</a>\\n</li>\\n<li class=\"journey-nav__sublist-item \">\\n<a href=\"https://www.investopedia.com/top-materials-stocks-4582152\">Top Materials Stocks</a>\\n</li>\\n<li class=\"journey-nav__sublist-item \">\\n<a href=\"https://www.investopedia.com/top-reits-4582128\">Top Real Estate Stocks</a>\\n</li>\\n<li class=\"journey-nav__sublist-item \">\\n<a href=\"https://www.investopedia.com/top-tech-stocks-4581295\">Top Technology Stocks</a>\\n</li>\\n<li class=\"journey-nav__sublist-item \">\\n<a href=\"https://www.investopedia.com/top-utilities-stocks-4582243\">Top Utilities Stocks</a>\\n</li>\\n'"
      ]
     },
     "execution_count": 19,
     "metadata": {},
     "output_type": "execute_result"
    }
   ],
   "source": [
    "top_sector_stocks = driver.find_element_by_id(\"journey-nav__sublist_1-0\").get_attribute('innerHTML')\n",
    "top_sector_stocks"
   ]
  },
  {
   "cell_type": "code",
   "execution_count": 20,
   "metadata": {},
   "outputs": [],
   "source": [
    "soup = bs(top_sector_stocks, 'lxml')"
   ]
  },
  {
   "cell_type": "code",
   "execution_count": 25,
   "metadata": {},
   "outputs": [
    {
     "data": {
      "text/plain": [
       "['https://www.investopedia.com/top-stocks-4581225',\n",
       " 'https://www.investopedia.com/top-communications-stocks-4583180',\n",
       " 'https://www.investopedia.com/investing/consumer-cyclical-stocks/',\n",
       " 'https://www.investopedia.com/investing/consumer-defensive-stocks/',\n",
       " 'https://www.investopedia.com/top-energy-stocks-4582081',\n",
       " 'https://www.investopedia.com/top-financial-stocks-4582168',\n",
       " 'https://www.investopedia.com/investing/top-healthcare-stocks/',\n",
       " 'https://www.investopedia.com/top-industrial-stocks-4582171',\n",
       " 'https://www.investopedia.com/top-materials-stocks-4582152',\n",
       " 'https://www.investopedia.com/top-reits-4582128',\n",
       " 'https://www.investopedia.com/top-tech-stocks-4581295',\n",
       " 'https://www.investopedia.com/top-utilities-stocks-4582243']"
      ]
     },
     "execution_count": 25,
     "metadata": {},
     "output_type": "execute_result"
    }
   ],
   "source": [
    "top_sector_links = [top_sector_stocks.get('href') for top_sector_stocks in soup.find_all('a')]\n",
    "top_sector_links"
   ]
  },
  {
   "cell_type": "code",
   "execution_count": 26,
   "metadata": {},
   "outputs": [],
   "source": [
    "top_sectors = [\"Top Communications Stocks\", \"Top Consumer Discretionary Stocks\", \"Top Consumer Staples Stocks\", \"Top Energy Stocks\", \"Top Financial Stocks\", \"Top Healthcare Stocks\",\n",
    "\"Top Industrial Stocks\", \"Top Materials Stocks\", \"Top Real Estate Stocks\", \"Top Technology Stocks\", \"Top Utilities Stocks\"]"
   ]
  },
  {
   "cell_type": "code",
   "execution_count": 27,
   "metadata": {},
   "outputs": [],
   "source": [
    "# Find all links to use driver.get() and pull all tables:\n",
    "top_communications = [links.get_attribute(\"href\") for links in driver.find_elements_by_link_text(top_sectors[0])]\n",
    "top_discretionary = [links.get_attribute(\"href\") for links in driver.find_elements_by_link_text(top_sectors[1])]\n",
    "top_staples = [links.get_attribute(\"href\") for links in driver.find_elements_by_link_text(top_sectors[2])]\n",
    "top_energy = [links.get_attribute(\"href\") for links in driver.find_elements_by_link_text(top_sectors[3])]\n",
    "top_financial = [links.get_attribute(\"href\") for links in driver.find_elements_by_link_text(top_sectors[4])]\n",
    "top_healthcare = [links.get_attribute(\"href\") for links in driver.find_elements_by_link_text(top_sectors[5])]\n",
    "top_industrial = [links.get_attribute(\"href\") for links in driver.find_elements_by_link_text(top_sectors[6])]\n",
    "top_materials = [links.get_attribute(\"href\") for links in driver.find_elements_by_link_text(top_sectors[7])]\n",
    "top_real = [links.get_attribute(\"href\") for links in driver.find_elements_by_link_text(top_sectors[8])]\n",
    "top_technology = [links.get_attribute(\"href\") for links in driver.find_elements_by_link_text(top_sectors[9])]\n",
    "top_utilities = [links.get_attribute(\"href\") for links in driver.find_elements_by_link_text(top_sectors[10])]\n"
   ]
  },
  {
   "cell_type": "code",
   "execution_count": null,
   "metadata": {},
   "outputs": [],
   "source": []
  },
  {
   "cell_type": "code",
   "execution_count": null,
   "metadata": {},
   "outputs": [],
   "source": []
  },
  {
   "cell_type": "markdown",
   "metadata": {},
   "source": [
    "## Step 5: The full code that runs the scraper and save the data to .csv files\n"
   ]
  },
  {
   "cell_type": "code",
   "execution_count": 28,
   "metadata": {},
   "outputs": [],
   "source": [
    "driver.get(top_communications[0])"
   ]
  },
  {
   "cell_type": "code",
   "execution_count": 29,
   "metadata": {},
   "outputs": [
    {
     "data": {
      "text/plain": [
       "['VIAC', 'LUMN', 'DISCK']"
      ]
     },
     "execution_count": 29,
     "metadata": {},
     "output_type": "execute_result"
    }
   ],
   "source": [
    "itable = driver.find_element_by_id(\"main_1-0\").get_attribute('outerHTML')\n",
    "itables  = pd.read_html(itable)\n",
    "communications_bv = itables[0]\n",
    "communications_bv.columns = [\"Communictaions Best Value\", \"Price\", \"Market Cap\", \"12-Month Trailing P/E Ratio\"]\n",
    "communications_bv\n",
    "# Locate column containing ticker symbols: \n",
    "communications_bv_df = communications_bv.iloc[1:]\n",
    "# Only keep tick information within parentheses:\n",
    "communications_bv_ticks = [tick[tick.find(\"(\")+1:tick.find(\")\")] for tick in communications_bv_df[\"Communictaions Best Value\"]]\n",
    "communications_bv_ticks"
   ]
  },
  {
   "cell_type": "code",
   "execution_count": 30,
   "metadata": {},
   "outputs": [
    {
     "data": {
      "text/plain": [
       "['ZM', 'LBRDA', 'JW.A']"
      ]
     },
     "execution_count": 30,
     "metadata": {},
     "output_type": "execute_result"
    }
   ],
   "source": [
    "communications_fg = itables[1]\n",
    "communications_fg.columns = [\"Communications Fastest Growing\", \"Price\", \"Market Cap\", \"12-Month Trailing Total Return (%)\"]\n",
    "communications_fg_df = communications_fg.iloc[1:]\n",
    "communications_fg_ticks = [tick[tick.find(\"(\")+1:tick.find(\")\")] for tick in communications_fg_df[\"Communications Fastest Growing\"]]\n",
    "communications_fg_ticks"
   ]
  },
  {
   "cell_type": "code",
   "execution_count": 31,
   "metadata": {},
   "outputs": [
    {
     "data": {
      "text/plain": [
       "['ZM', 'ZG', 'TWLO']"
      ]
     },
     "execution_count": 31,
     "metadata": {},
     "output_type": "execute_result"
    }
   ],
   "source": [
    "communications_mm = itables[2]\n",
    "communications_mm.columns = [\"Communications Most Momentum\", \"Price\", \"Market Cap\", \"12-Month Trailing Total Return (%)\"]\n",
    "communications_mm_df = communications_mm.iloc[1:]\n",
    "communications_mm_ticks = [tick[tick.find(\"(\")+1:tick.find(\")\")] for tick in communications_mm_df[\"Communications Most Momentum\"]]\n",
    "del communications_mm_ticks[-2:]\n",
    "communications_mm_ticks"
   ]
  },
  {
   "cell_type": "code",
   "execution_count": 32,
   "metadata": {},
   "outputs": [],
   "source": [
    "driver.get(top_discretionary[0])"
   ]
  },
  {
   "cell_type": "code",
   "execution_count": 33,
   "metadata": {},
   "outputs": [
    {
     "data": {
      "text/plain": [
       "['ARD', 'MGM', 'EBAY']"
      ]
     },
     "execution_count": 33,
     "metadata": {},
     "output_type": "execute_result"
    }
   ],
   "source": [
    "dtable = driver.find_element_by_id(\"main_1-0\").get_attribute('outerHTML')\n",
    "dtables  = pd.read_html(dtable)\n",
    "discretionary_bv = dtables[0]\n",
    "discretionary_bv.columns = [\"tick\", \"Price\", \"Market Cap\", \"12-Month Trailing P/E Ratio\"]\n",
    "discretionary_bv\n",
    "# Locate column containing ticker symbols: \n",
    "discretionary_bv_df = discretionary_bv.iloc[1:]\n",
    "# Only keep tick information within parentheses:\n",
    "discretionary_bv_ticks = [tick[tick.find(\"(\")+1:tick.find(\")\")] for tick in discretionary_bv_df[\"tick\"]]\n",
    "discretionary_bv_ticks"
   ]
  },
  {
   "cell_type": "code",
   "execution_count": 34,
   "metadata": {},
   "outputs": [
    {
     "data": {
      "text/plain": [
       "['BERY', 'F', 'ETSY']"
      ]
     },
     "execution_count": 34,
     "metadata": {},
     "output_type": "execute_result"
    }
   ],
   "source": [
    "discretionary_fg = dtables[1]\n",
    "discretionary_fg.columns = [\"stock\", \"Price\", \"Market Cap\", \"12-Month Trailing Total Return (%)\"]\n",
    "discretionary_fg_df = discretionary_fg.iloc[1:]\n",
    "discretionary_fg_ticks = [tick[tick.find(\"(\")+1:tick.find(\")\")] for tick in discretionary_fg_df[\"stock\"]]\n",
    "discretionary_fg_ticks"
   ]
  },
  {
   "cell_type": "code",
   "execution_count": 35,
   "metadata": {},
   "outputs": [
    {
     "data": {
      "text/plain": [
       "['ZM', 'ZG', 'TWLO']"
      ]
     },
     "execution_count": 35,
     "metadata": {},
     "output_type": "execute_result"
    }
   ],
   "source": [
    "discretionary_mm = itables[2]\n",
    "discretionary_mm.columns = [\"Communications Most Momentum\", \"Price\", \"Market Cap\", \"12-Month Trailing Total Return (%)\"]\n",
    "discretionary_mm_df = discretionary_mm.iloc[1:]\n",
    "discretionary_mm_ticks = [tick[tick.find(\"(\")+1:tick.find(\")\")] for tick in discretionary_mm_df[\"Communications Most Momentum\"]]\n",
    "del discretionary_mm_ticks[-2:]\n",
    "discretionary_mm_ticks"
   ]
  },
  {
   "cell_type": "code",
   "execution_count": 36,
   "metadata": {},
   "outputs": [],
   "source": [
    "driver.get(top_staples[0])"
   ]
  },
  {
   "cell_type": "code",
   "execution_count": 37,
   "metadata": {},
   "outputs": [
    {
     "data": {
      "text/plain": [
       "['ACI', 'CPB', 'KR']"
      ]
     },
     "execution_count": 37,
     "metadata": {},
     "output_type": "execute_result"
    }
   ],
   "source": [
    "stable = driver.find_element_by_id(\"main_1-0\").get_attribute('outerHTML')\n",
    "stables  = pd.read_html(stable)\n",
    "staples_bv = stables[0]\n",
    "staples_bv.columns = [\"tick\", \"Price\", \"Market Cap\", \"12-Month Trailing P/E Ratio\"]\n",
    "staples_bv\n",
    "# Locate column containing ticker symbols: \n",
    "staples_bv_df = staples_bv.iloc[1:]\n",
    "# Only keep tick information within parentheses:\n",
    "staples_bv_ticks = [tick[tick.find(\"(\")+1:tick.find(\")\")] for tick in staples_bv_df[\"tick\"]]\n",
    "staples_bv_ticks"
   ]
  },
  {
   "cell_type": "code",
   "execution_count": 38,
   "metadata": {},
   "outputs": [
    {
     "data": {
      "text/plain": [
       "['ACI', 'OLLI', 'KR']"
      ]
     },
     "execution_count": 38,
     "metadata": {},
     "output_type": "execute_result"
    }
   ],
   "source": [
    "staples_fg = stables[1]\n",
    "staples_fg.columns = [\"stock\", \"Price\", \"Market Cap\", \"12-Month Trailing Total Return (%)\"]\n",
    "staples_fg_df = staples_fg.iloc[1:]\n",
    "staples_fg_ticks = [tick[tick.find(\"(\")+1:tick.find(\")\")] for tick in staples_fg_df[\"stock\"]]\n",
    "staples_fg_ticks"
   ]
  },
  {
   "cell_type": "code",
   "execution_count": 39,
   "metadata": {},
   "outputs": [
    {
     "data": {
      "text/plain": [
       "['SAM', 'CHGG', 'TWOU']"
      ]
     },
     "execution_count": 39,
     "metadata": {},
     "output_type": "execute_result"
    }
   ],
   "source": [
    "staples_mm = stables[2]\n",
    "staples_mm.columns = [\"Communications Most Momentum\", \"Price\", \"Market Cap\", \"12-Month Trailing Total Return (%)\"]\n",
    "staples_mm_df = staples_mm.iloc[1:]\n",
    "staples_mm_ticks = [tick[tick.find(\"(\")+1:tick.find(\")\")] for tick in staples_mm_df[\"Communications Most Momentum\"]]\n",
    "del staples_mm_ticks[-2:]\n",
    "staples_mm_ticks"
   ]
  },
  {
   "cell_type": "code",
   "execution_count": 40,
   "metadata": {},
   "outputs": [],
   "source": [
    "driver.get(top_energy[0])"
   ]
  },
  {
   "cell_type": "code",
   "execution_count": 41,
   "metadata": {},
   "outputs": [
    {
     "data": {
      "text/plain": [
       "['MUR', 'LNG', 'VVV']"
      ]
     },
     "execution_count": 41,
     "metadata": {},
     "output_type": "execute_result"
    }
   ],
   "source": [
    "etable = driver.find_element_by_id(\"main_1-0\").get_attribute('outerHTML')\n",
    "etables  = pd.read_html(etable)\n",
    "energy_bv = etables[0]\n",
    "energy_bv.columns = [\"tick\", \"Price\", \"Market Cap\", \"12-Month Trailing P/E Ratio\"]\n",
    "energy_bv\n",
    "# Locate column containing ticker symbols: \n",
    "energy_bv_df = energy_bv.iloc[1:]\n",
    "# Only keep tick information within parentheses:\n",
    "energy_bv_ticks = [tick[tick.find(\"(\")+1:tick.find(\")\")] for tick in energy_bv_df[\"tick\"]]\n",
    "energy_bv_ticks"
   ]
  },
  {
   "cell_type": "code",
   "execution_count": 42,
   "metadata": {},
   "outputs": [
    {
     "data": {
      "text/plain": [
       "['VLO', 'AM', 'WMB']"
      ]
     },
     "execution_count": 42,
     "metadata": {},
     "output_type": "execute_result"
    }
   ],
   "source": [
    "energy_fg = etables[1]\n",
    "energy_fg.columns = [\"stock\", \"Price\", \"Market Cap\", \"12-Month Trailing Total Return (%)\"]\n",
    "energy_fg_df = energy_fg.iloc[1:]\n",
    "energy_fg_ticks = [tick[tick.find(\"(\")+1:tick.find(\")\")] for tick in energy_fg_df[\"stock\"]]\n",
    "energy_fg_ticks"
   ]
  },
  {
   "cell_type": "code",
   "execution_count": 43,
   "metadata": {},
   "outputs": [
    {
     "data": {
      "text/plain": [
       "['EQT', 'COG', 'AM']"
      ]
     },
     "execution_count": 43,
     "metadata": {},
     "output_type": "execute_result"
    }
   ],
   "source": [
    "energy_mm = etables[2]\n",
    "energy_mm.columns = [\"Communications Most Momentum\", \"Price\", \"Market Cap\", \"12-Month Trailing Total Return (%)\"]\n",
    "energy_mm_df = energy_mm.iloc[1:]\n",
    "energy_mm_ticks = [tick[tick.find(\"(\")+1:tick.find(\")\")] for tick in energy_mm_df[\"Communications Most Momentum\"]]\n",
    "del energy_mm_ticks[-2:]\n",
    "energy_mm_ticks"
   ]
  },
  {
   "cell_type": "code",
   "execution_count": 44,
   "metadata": {},
   "outputs": [],
   "source": [
    "driver.get(top_financial[0])"
   ]
  },
  {
   "cell_type": "code",
   "execution_count": 45,
   "metadata": {},
   "outputs": [
    {
     "data": {
      "text/plain": [
       "['BHF', 'UNM', 'MET']"
      ]
     },
     "execution_count": 45,
     "metadata": {},
     "output_type": "execute_result"
    }
   ],
   "source": [
    "ftable = driver.find_element_by_id(\"main_1-0\").get_attribute('outerHTML')\n",
    "ftables  = pd.read_html(ftable)\n",
    "financial_bv = ftables[0]\n",
    "financial_bv.columns = [\"tick\", \"Price\", \"Market Cap\", \"12-Month Trailing P/E Ratio\"]\n",
    "financial_bv\n",
    "# Locate column containing ticker symbols: \n",
    "financial_bv_df = financial_bv.iloc[1:]\n",
    "# Only keep tick information within parentheses:\n",
    "financial_bv_ticks = [tick[tick.find(\"(\")+1:tick.find(\")\")] for tick in financial_bv_df[\"tick\"]]\n",
    "financial_bv_ticks"
   ]
  },
  {
   "cell_type": "code",
   "execution_count": 46,
   "metadata": {},
   "outputs": [
    {
     "data": {
      "text/plain": [
       "['WTM', 'ARES', 'PNC']"
      ]
     },
     "execution_count": 46,
     "metadata": {},
     "output_type": "execute_result"
    }
   ],
   "source": [
    "financial_fg = ftables[1]\n",
    "financial_fg.columns = [\"stock\", \"Price\", \"Market Cap\", \"12-Month Trailing Total Return (%)\"]\n",
    "financial_fg_df = financial_fg.iloc[1:]\n",
    "financial_fg_ticks = [tick[tick.find(\"(\")+1:tick.find(\")\")] for tick in financial_fg_df[\"stock\"]]\n",
    "financial_fg_ticks"
   ]
  },
  {
   "cell_type": "code",
   "execution_count": 47,
   "metadata": {},
   "outputs": [
    {
     "data": {
      "text/plain": [
       "['ZM', 'ZG', 'TWLO']"
      ]
     },
     "execution_count": 47,
     "metadata": {},
     "output_type": "execute_result"
    }
   ],
   "source": [
    "financial_mm = itables[2]\n",
    "financial_mm.columns = [\"Communications Most Momentum\", \"Price\", \"Market Cap\", \"12-Month Trailing Total Return (%)\"]\n",
    "financial_mm_df = financial_mm.iloc[1:]\n",
    "financial_mm_ticks = [tick[tick.find(\"(\")+1:tick.find(\")\")] for tick in financial_mm_df[\"Communications Most Momentum\"]]\n",
    "del financial_mm_ticks[-2:]\n",
    "financial_mm_ticks"
   ]
  },
  {
   "cell_type": "code",
   "execution_count": 48,
   "metadata": {},
   "outputs": [],
   "source": [
    "driver.get(top_healthcare[0])"
   ]
  },
  {
   "cell_type": "code",
   "execution_count": 49,
   "metadata": {},
   "outputs": [
    {
     "data": {
      "text/plain": [
       "['BIIB', 'BIO', 'CVS']"
      ]
     },
     "execution_count": 49,
     "metadata": {},
     "output_type": "execute_result"
    }
   ],
   "source": [
    "htable = driver.find_element_by_id(\"main_1-0\").get_attribute('outerHTML')\n",
    "htables  = pd.read_html(htable)\n",
    "healthcare_bv = htables[0]\n",
    "healthcare_bv.columns = [\"tick\", \"Price\", \"Market Cap\", \"12-Month Trailing P/E Ratio\"]\n",
    "healthcare_bv\n",
    "# Locate column containing ticker symbols: \n",
    "healthcare_bv_df = healthcare_bv.iloc[1:]\n",
    "# Only keep tick information within parentheses:\n",
    "healthcare_bv_ticks = [tick[tick.find(\"(\")+1:tick.find(\")\")] for tick in healthcare_bv_df[\"tick\"]]\n",
    "healthcare_bv_ticks"
   ]
  },
  {
   "cell_type": "code",
   "execution_count": 50,
   "metadata": {},
   "outputs": [
    {
     "data": {
      "text/plain": [
       "['QDEL', 'PODD', 'PRGO']"
      ]
     },
     "execution_count": 50,
     "metadata": {},
     "output_type": "execute_result"
    }
   ],
   "source": [
    "healthcare_fg = htables[1]\n",
    "healthcare_fg.columns = [\"stock\", \"Price\", \"Market Cap\", \"12-Month Trailing Total Return (%)\"]\n",
    "healthcare_fg_df = healthcare_fg.iloc[1:]\n",
    "healthcare_fg_ticks = [tick[tick.find(\"(\")+1:tick.find(\")\")] for tick in healthcare_fg_df[\"stock\"]]\n",
    "healthcare_fg_ticks"
   ]
  },
  {
   "cell_type": "code",
   "execution_count": 51,
   "metadata": {},
   "outputs": [
    {
     "data": {
      "text/plain": [
       "['LVGO', 'IMMU', 'MRNA']"
      ]
     },
     "execution_count": 51,
     "metadata": {},
     "output_type": "execute_result"
    }
   ],
   "source": [
    "healthcare_mm = htables[2]\n",
    "healthcare_mm.columns = [\"Communications Most Momentum\", \"Price\", \"Market Cap\", \"12-Month Trailing Total Return (%)\"]\n",
    "healthcare_mm_df = healthcare_mm.iloc[1:]\n",
    "healthcare_mm_ticks = [tick[tick.find(\"(\")+1:tick.find(\")\")] for tick in healthcare_mm_df[\"Communications Most Momentum\"]]\n",
    "del healthcare_mm_ticks[-2:]\n",
    "healthcare_mm_ticks"
   ]
  },
  {
   "cell_type": "code",
   "execution_count": 52,
   "metadata": {},
   "outputs": [],
   "source": [
    "driver.get(top_industrial[0])"
   ]
  },
  {
   "cell_type": "code",
   "execution_count": 53,
   "metadata": {},
   "outputs": [
    {
     "data": {
      "text/plain": [
       "['EAF', 'AL', 'HII']"
      ]
     },
     "execution_count": 53,
     "metadata": {},
     "output_type": "execute_result"
    }
   ],
   "source": [
    "intable = driver.find_element_by_id(\"main_1-0\").get_attribute('outerHTML')\n",
    "intables  = pd.read_html(intable)\n",
    "industrial_bv = intables[0]\n",
    "industrial_bv.columns = [\"tick\", \"Price\", \"Market Cap\", \"12-Month Trailing P/E Ratio\"]\n",
    "industrial_bv\n",
    "# Locate column containing ticker symbols: \n",
    "industrial_bv_df = industrial_bv.iloc[1:]\n",
    "# Only keep tick information within parentheses:\n",
    "industrial_bv_ticks = [tick[tick.find(\"(\")+1:tick.find(\")\")] for tick in industrial_bv_df[\"tick\"]]\n",
    "industrial_bv_ticks"
   ]
  },
  {
   "cell_type": "code",
   "execution_count": 54,
   "metadata": {},
   "outputs": [
    {
     "data": {
      "text/plain": [
       "['ENR', 'PWR', 'VRT']"
      ]
     },
     "execution_count": 54,
     "metadata": {},
     "output_type": "execute_result"
    }
   ],
   "source": [
    "industrial_fg = intables[1]\n",
    "industrial_fg.columns = [\"stock\", \"Price\", \"Market Cap\", \"12-Month Trailing Total Return (%)\"]\n",
    "industrial_fg_df = industrial_fg.iloc[1:]\n",
    "industrial_fg_ticks = [tick[tick.find(\"(\")+1:tick.find(\")\")] for tick in industrial_fg_df[\"stock\"]]\n",
    "industrial_fg_ticks"
   ]
  },
  {
   "cell_type": "code",
   "execution_count": 55,
   "metadata": {},
   "outputs": [
    {
     "data": {
      "text/plain": [
       "['GNRC', 'FDX', 'VRT']"
      ]
     },
     "execution_count": 55,
     "metadata": {},
     "output_type": "execute_result"
    }
   ],
   "source": [
    "industrial_mm = intables[2]\n",
    "industrial_mm.columns = [\"Communications Most Momentum\", \"Price\", \"Market Cap\", \"12-Month Trailing Total Return (%)\"]\n",
    "industrial_mm_df = industrial_mm.iloc[1:]\n",
    "industrial_mm_ticks = [tick[tick.find(\"(\")+1:tick.find(\")\")] for tick in industrial_mm_df[\"Communications Most Momentum\"]]\n",
    "del industrial_mm_ticks[-2:]\n",
    "industrial_mm_ticks"
   ]
  },
  {
   "cell_type": "code",
   "execution_count": 56,
   "metadata": {},
   "outputs": [],
   "source": [
    "driver.get(top_materials[0])"
   ]
  },
  {
   "cell_type": "code",
   "execution_count": 57,
   "metadata": {},
   "outputs": [
    {
     "data": {
      "text/plain": [
       "['ARD', 'MGM', 'EBAY']"
      ]
     },
     "execution_count": 57,
     "metadata": {},
     "output_type": "execute_result"
    }
   ],
   "source": [
    "motable = driver.find_element_by_id(\"main_1-0\").get_attribute('outerHTML')\n",
    "motables  = pd.read_html(motable)\n",
    "materials_bv = motables[0]\n",
    "materials_bv.columns = [\"tick\", \"Price\", \"Market Cap\", \"12-Month Trailing P/E Ratio\"]\n",
    "materials_bv\n",
    "# Locate column containing ticker symbols: \n",
    "materials_bv_df = discretionary_bv.iloc[1:]\n",
    "# Only keep tick information within parentheses:\n",
    "materials_bv_ticks = [tick[tick.find(\"(\")+1:tick.find(\")\")] for tick in materials_bv_df[\"tick\"]]\n",
    "materials_bv_ticks"
   ]
  },
  {
   "cell_type": "code",
   "execution_count": 58,
   "metadata": {},
   "outputs": [
    {
     "data": {
      "text/plain": [
       "['EXP', 'RGLD', 'MDU']"
      ]
     },
     "execution_count": 58,
     "metadata": {},
     "output_type": "execute_result"
    }
   ],
   "source": [
    "materials_fg = motables[1]\n",
    "materials_fg.columns = [\"stock\", \"Price\", \"Market Cap\", \"12-Month Trailing Total Return (%)\"]\n",
    "materials_fg_df = materials_fg.iloc[1:]\n",
    "materials_fg_ticks = [tick[tick.find(\"(\")+1:tick.find(\")\")] for tick in materials_fg_df[\"stock\"]]\n",
    "materials_fg_ticks"
   ]
  },
  {
   "cell_type": "code",
   "execution_count": 59,
   "metadata": {},
   "outputs": [
    {
     "data": {
      "text/plain": [
       "['NEM', 'FCX', 'SMG']"
      ]
     },
     "execution_count": 59,
     "metadata": {},
     "output_type": "execute_result"
    }
   ],
   "source": [
    "materials_mm = motables[2]\n",
    "materials_mm.columns = [\"Communications Most Momentum\", \"Price\", \"Market Cap\", \"12-Month Trailing Total Return (%)\"]\n",
    "materials_mm_df = materials_mm.iloc[1:]\n",
    "materials_mm_ticks = [tick[tick.find(\"(\")+1:tick.find(\")\")] for tick in materials_mm_df[\"Communications Most Momentum\"]]\n",
    "del materials_mm_ticks[-2:]\n",
    "materials_mm_ticks"
   ]
  },
  {
   "cell_type": "code",
   "execution_count": 60,
   "metadata": {},
   "outputs": [],
   "source": [
    "driver.get(top_real[0])"
   ]
  },
  {
   "cell_type": "code",
   "execution_count": 61,
   "metadata": {},
   "outputs": [
    {
     "data": {
      "text/plain": [
       "['BPYU', 'KIM', 'EQC']"
      ]
     },
     "execution_count": 61,
     "metadata": {},
     "output_type": "execute_result"
    }
   ],
   "source": [
    "retable = driver.find_element_by_id(\"main_1-0\").get_attribute('outerHTML')\n",
    "retables  = pd.read_html(retable)\n",
    "real_estate_bv = retables[0]\n",
    "real_estate_bv.columns = [\"tick\", \"Price\", \"Market Cap\", \"12-Month Trailing P/E Ratio\"]\n",
    "real_estate_bv\n",
    "# Locate column containing ticker symbols: \n",
    "real_estate_bv_df = real_estate_bv.iloc[1:]\n",
    "# Only keep tick information within parentheses:\n",
    "real_estate_bv_ticks = [tick[tick.find(\"(\")+1:tick.find(\")\")] for tick in real_estate_bv_df[\"tick\"]]\n",
    "real_estate_bv_ticks"
   ]
  },
  {
   "cell_type": "code",
   "execution_count": 62,
   "metadata": {},
   "outputs": [
    {
     "data": {
      "text/plain": [
       "['KIM', 'COLD', 'ARE']"
      ]
     },
     "execution_count": 62,
     "metadata": {},
     "output_type": "execute_result"
    }
   ],
   "source": [
    "real_estate_fg = retables[1]\n",
    "real_estate_fg.columns = [\"stock\", \"Price\", \"Market Cap\", \"12-Month Trailing Total Return (%)\"]\n",
    "real_estate_fg_df = real_estate_fg.iloc[1:]\n",
    "real_estate_fg_ticks = [tick[tick.find(\"(\")+1:tick.find(\")\")] for tick in real_estate_fg_df[\"stock\"]]\n",
    "real_estate_fg_ticks"
   ]
  },
  {
   "cell_type": "code",
   "execution_count": 63,
   "metadata": {},
   "outputs": [
    {
     "data": {
      "text/plain": [
       "['CSGP', 'EQIX', 'SBAC']"
      ]
     },
     "execution_count": 63,
     "metadata": {},
     "output_type": "execute_result"
    }
   ],
   "source": [
    "real_estate_mm = retables[2]\n",
    "real_estate_mm.columns = [\"Communications Most Momentum\", \"Price\", \"Market Cap\", \"12-Month Trailing Total Return (%)\"]\n",
    "real_estate_mm_df = real_estate_mm.iloc[1:]\n",
    "real_estate_mm_ticks = [tick[tick.find(\"(\")+1:tick.find(\")\")] for tick in real_estate_mm_df[\"Communications Most Momentum\"]]\n",
    "del real_estate_mm_ticks[-2:]\n",
    "real_estate_mm_ticks"
   ]
  },
  {
   "cell_type": "code",
   "execution_count": 64,
   "metadata": {},
   "outputs": [],
   "source": [
    "driver.get(top_technology[0])"
   ]
  },
  {
   "cell_type": "code",
   "execution_count": 65,
   "metadata": {},
   "outputs": [
    {
     "data": {
      "text/plain": [
       "['NLOK', 'XRX', 'NCR']"
      ]
     },
     "execution_count": 65,
     "metadata": {},
     "output_type": "execute_result"
    }
   ],
   "source": [
    "tetable = driver.find_element_by_id(\"main_1-0\").get_attribute('outerHTML')\n",
    "tetables  = pd.read_html(tetable)\n",
    "tech_bv = tetables[0]\n",
    "tech_bv.columns = [\"tick\", \"Price\", \"Market Cap\", \"12-Month Trailing P/E Ratio\"]\n",
    "tech_bv\n",
    "# Locate column containing ticker symbols: \n",
    "tech_bv_df = tech_bv.iloc[1:]\n",
    "# Only keep tick information within parentheses:\n",
    "tech_bv_ticks = [tick[tick.find(\"(\")+1:tick.find(\")\")] for tick in tech_bv_df[\"tick\"]]\n",
    "tech_bv_ticks"
   ]
  },
  {
   "cell_type": "code",
   "execution_count": 66,
   "metadata": {},
   "outputs": [
    {
     "data": {
      "text/plain": [
       "['CRM', 'WEX', 'NLOK']"
      ]
     },
     "execution_count": 66,
     "metadata": {},
     "output_type": "execute_result"
    }
   ],
   "source": [
    "tech_fg = tetables[1]\n",
    "tech_fg.columns = [\"stock\", \"Price\", \"Market Cap\", \"12-Month Trailing Total Return (%)\"]\n",
    "tech_fg_df = tech_fg.iloc[1:]\n",
    "tech_fg_ticks = [tick[tick.find(\"(\")+1:tick.find(\")\")] for tick in tech_fg_df[\"stock\"]]\n",
    "tech_fg_ticks"
   ]
  },
  {
   "cell_type": "code",
   "execution_count": 67,
   "metadata": {},
   "outputs": [
    {
     "data": {
      "text/plain": [
       "['ZM', 'ZG', 'TWLO']"
      ]
     },
     "execution_count": 67,
     "metadata": {},
     "output_type": "execute_result"
    }
   ],
   "source": [
    "tech_mm = tetables[2]\n",
    "tech_mm.columns = [\"Communications Most Momentum\", \"Price\", \"Market Cap\", \"12-Month Trailing Total Return (%)\"]\n",
    "tech_mm_df = discretionary_mm.iloc[1:]\n",
    "tech_mm_ticks = [tick[tick.find(\"(\")+1:tick.find(\")\")] for tick in tech_mm_df[\"Communications Most Momentum\"]]\n",
    "del tech_mm_ticks[-2:]\n",
    "tech_mm_ticks"
   ]
  },
  {
   "cell_type": "code",
   "execution_count": 68,
   "metadata": {},
   "outputs": [],
   "source": [
    "driver.get(top_utilities[0])"
   ]
  },
  {
   "cell_type": "code",
   "execution_count": 69,
   "metadata": {},
   "outputs": [
    {
     "data": {
      "text/plain": [
       "['NRG', 'SRE', 'PPL']"
      ]
     },
     "execution_count": 69,
     "metadata": {},
     "output_type": "execute_result"
    }
   ],
   "source": [
    "utable = driver.find_element_by_id(\"main_1-0\").get_attribute('outerHTML')\n",
    "utables  = pd.read_html(utable)\n",
    "utilities_bv = utables[0]\n",
    "utilities_bv.columns = [\"tick\", \"Price\", \"Market Cap\", \"12-Month Trailing P/E Ratio\"]\n",
    "utilities_bv\n",
    "# Locate column containing ticker symbols: \n",
    "utilities_bv_df = utilities_bv.iloc[1:]\n",
    "# Only keep tick information within parentheses:\n",
    "utilities_bv_ticks = [tick[tick.find(\"(\")+1:tick.find(\")\")] for tick in utilities_bv_df[\"tick\"]]\n",
    "utilities_bv_ticks"
   ]
  },
  {
   "cell_type": "code",
   "execution_count": 70,
   "metadata": {},
   "outputs": [
    {
     "data": {
      "text/plain": [
       "['ES', 'SRE', 'PEG']"
      ]
     },
     "execution_count": 70,
     "metadata": {},
     "output_type": "execute_result"
    }
   ],
   "source": [
    "utilities_fg = utables[1]\n",
    "utilities_fg.columns = [\"stock\", \"Price\", \"Market Cap\", \"12-Month Trailing Total Return (%)\"]\n",
    "utilities_fg_df = utilities_fg.iloc[1:]\n",
    "utilities_fg_ticks = [tick[tick.find(\"(\")+1:tick.find(\")\")] for tick in utilities_fg_df[\"stock\"]]\n",
    "utilities_fg_ticks"
   ]
  },
  {
   "cell_type": "code",
   "execution_count": 71,
   "metadata": {},
   "outputs": [
    {
     "data": {
      "text/plain": [
       "['NEE', 'AWK', 'AES']"
      ]
     },
     "execution_count": 71,
     "metadata": {},
     "output_type": "execute_result"
    }
   ],
   "source": [
    "utilities_mm = utables[2]\n",
    "utilities_mm.columns = [\"Communications Most Momentum\", \"Price\", \"Market Cap\", \"12-Month Trailing Total Return (%)\"]\n",
    "utilities_mm_df = utilities_mm.iloc[1:]\n",
    "utilities_mm_ticks = [tick[tick.find(\"(\")+1:tick.find(\")\")] for tick in utilities_mm_df[\"Communications Most Momentum\"]]\n",
    "del utilities_mm_ticks[-2:]\n",
    "utilities_mm_ticks"
   ]
  },
  {
   "cell_type": "code",
   "execution_count": 72,
   "metadata": {},
   "outputs": [
    {
     "data": {
      "text/plain": [
       "['VIAC',\n",
       " 'LUMN',\n",
       " 'DISCK',\n",
       " 'ZM',\n",
       " 'LBRDA',\n",
       " 'JW.A',\n",
       " 'ZM',\n",
       " 'ZG',\n",
       " 'TWLO',\n",
       " 'ARD',\n",
       " 'MGM',\n",
       " 'EBAY',\n",
       " 'BERY',\n",
       " 'F',\n",
       " 'ETSY',\n",
       " 'ZM',\n",
       " 'ZG',\n",
       " 'TWLO',\n",
       " 'ACI',\n",
       " 'CPB',\n",
       " 'KR',\n",
       " 'ACI',\n",
       " 'OLLI',\n",
       " 'KR',\n",
       " 'SAM',\n",
       " 'CHGG',\n",
       " 'TWOU',\n",
       " 'MUR',\n",
       " 'LNG',\n",
       " 'VVV',\n",
       " 'VLO',\n",
       " 'AM',\n",
       " 'WMB',\n",
       " 'EQT',\n",
       " 'COG',\n",
       " 'AM',\n",
       " 'BHF',\n",
       " 'UNM',\n",
       " 'MET',\n",
       " 'WTM',\n",
       " 'ARES',\n",
       " 'PNC',\n",
       " 'ZM',\n",
       " 'ZG',\n",
       " 'TWLO',\n",
       " 'BIIB',\n",
       " 'BIO',\n",
       " 'CVS',\n",
       " 'QDEL',\n",
       " 'PODD',\n",
       " 'PRGO',\n",
       " 'LVGO',\n",
       " 'IMMU',\n",
       " 'MRNA',\n",
       " 'EAF',\n",
       " 'AL',\n",
       " 'HII',\n",
       " 'ENR',\n",
       " 'PWR',\n",
       " 'VRT',\n",
       " 'GNRC',\n",
       " 'FDX',\n",
       " 'VRT',\n",
       " 'NLOK',\n",
       " 'XRX',\n",
       " 'NCR',\n",
       " 'CRM',\n",
       " 'WEX',\n",
       " 'NLOK',\n",
       " 'ZM',\n",
       " 'ZG',\n",
       " 'TWLO',\n",
       " 'ARD',\n",
       " 'MGM',\n",
       " 'EBAY',\n",
       " 'EXP',\n",
       " 'RGLD',\n",
       " 'MDU',\n",
       " 'NEM',\n",
       " 'FCX',\n",
       " 'SMG',\n",
       " 'BPYU',\n",
       " 'KIM',\n",
       " 'EQC',\n",
       " 'KIM',\n",
       " 'COLD',\n",
       " 'ARE',\n",
       " 'CSGP',\n",
       " 'EQIX',\n",
       " 'SBAC',\n",
       " 'NRG',\n",
       " 'SRE',\n",
       " 'PPL',\n",
       " 'ES',\n",
       " 'SRE',\n",
       " 'PEG',\n",
       " 'NEE',\n",
       " 'AWK',\n",
       " 'AES']"
      ]
     },
     "execution_count": 72,
     "metadata": {},
     "output_type": "execute_result"
    }
   ],
   "source": [
    "lists=[communications_bv_ticks,communications_fg_ticks,communications_mm_ticks, discretionary_bv_ticks,discretionary_fg_ticks,discretionary_mm_ticks,staples_bv_ticks,staples_fg_ticks,staples_mm_ticks,energy_bv_ticks,energy_fg_ticks,energy_mm_ticks, financial_bv_ticks,financial_fg_ticks,financial_mm_ticks,healthcare_bv_ticks,healthcare_fg_ticks,healthcare_mm_ticks,industrial_bv_ticks,industrial_fg_ticks,industrial_mm_ticks,tech_bv_ticks,tech_fg_ticks,tech_mm_ticks,materials_bv_ticks,materials_fg_ticks,materials_mm_ticks,real_estate_bv_ticks,real_estate_fg_ticks,real_estate_mm_ticks,utilities_bv_ticks,utilities_fg_ticks,utilities_mm_ticks]\n",
    "stock_list = [item for sublist in lists for item in sublist]\n",
    "stock_list"
   ]
  },
  {
   "cell_type": "code",
   "execution_count": 104,
   "metadata": {},
   "outputs": [
    {
     "data": {
      "text/plain": [
       "<pymongo.results.UpdateResult at 0x1d5b08ad840>"
      ]
     },
     "execution_count": 104,
     "metadata": {},
     "output_type": "execute_result"
    }
   ],
   "source": [
    "sector_collection = db['sector_stock_list']\n",
    "# Insert collection\n",
    "sector_collection.update_many({}, {\"$set\": {\"Sector Stocks\": stock_list}}, upsert = True)"
   ]
  },
  {
   "cell_type": "code",
   "execution_count": 76,
   "metadata": {},
   "outputs": [
    {
     "data": {
      "text/plain": [
       "pandas.core.frame.DataFrame"
      ]
     },
     "execution_count": 76,
     "metadata": {},
     "output_type": "execute_result"
    }
   ],
   "source": [
    "sp500_df=pd.read_csv('../data/external/sp500.csv')\n",
    "sector_l=sp500_df[\"S&P 500 & Sectors\"].drop(sp500_df.index[0])\n",
    "sector_l = sector_l.reset_index().drop(columns='index')\n",
    "sector_list=sector_l[\"S&P 500 & Sectors\"]\n",
    "type(sector_l)"
   ]
  },
  {
   "cell_type": "code",
   "execution_count": 77,
   "metadata": {},
   "outputs": [
    {
     "data": {
      "text/html": [
       "<div>\n",
       "<style scoped>\n",
       "    .dataframe tbody tr th:only-of-type {\n",
       "        vertical-align: middle;\n",
       "    }\n",
       "\n",
       "    .dataframe tbody tr th {\n",
       "        vertical-align: top;\n",
       "    }\n",
       "\n",
       "    .dataframe thead th {\n",
       "        text-align: right;\n",
       "    }\n",
       "</style>\n",
       "<table border=\"1\" class=\"dataframe\">\n",
       "  <thead>\n",
       "    <tr style=\"text-align: right;\">\n",
       "      <th></th>\n",
       "      <th>ids</th>\n",
       "      <th>labels</th>\n",
       "    </tr>\n",
       "  </thead>\n",
       "  <tbody>\n",
       "    <tr>\n",
       "      <th>0</th>\n",
       "      <td>Communication Services</td>\n",
       "      <td>Communication Services</td>\n",
       "    </tr>\n",
       "    <tr>\n",
       "      <th>1</th>\n",
       "      <td>Consumer Discretionary</td>\n",
       "      <td>Consumer Discretionary</td>\n",
       "    </tr>\n",
       "    <tr>\n",
       "      <th>2</th>\n",
       "      <td>Consumer Staples</td>\n",
       "      <td>Consumer Staples</td>\n",
       "    </tr>\n",
       "    <tr>\n",
       "      <th>3</th>\n",
       "      <td>Energy</td>\n",
       "      <td>Energy</td>\n",
       "    </tr>\n",
       "    <tr>\n",
       "      <th>4</th>\n",
       "      <td>Financials</td>\n",
       "      <td>Financials</td>\n",
       "    </tr>\n",
       "    <tr>\n",
       "      <th>5</th>\n",
       "      <td>Health Care</td>\n",
       "      <td>Health Care</td>\n",
       "    </tr>\n",
       "    <tr>\n",
       "      <th>6</th>\n",
       "      <td>Industrials</td>\n",
       "      <td>Industrials</td>\n",
       "    </tr>\n",
       "    <tr>\n",
       "      <th>7</th>\n",
       "      <td>Information Technology</td>\n",
       "      <td>Information Technology</td>\n",
       "    </tr>\n",
       "    <tr>\n",
       "      <th>8</th>\n",
       "      <td>Materials</td>\n",
       "      <td>Materials</td>\n",
       "    </tr>\n",
       "    <tr>\n",
       "      <th>9</th>\n",
       "      <td>Real Estate</td>\n",
       "      <td>Real Estate</td>\n",
       "    </tr>\n",
       "    <tr>\n",
       "      <th>10</th>\n",
       "      <td>Utilities</td>\n",
       "      <td>Utilities</td>\n",
       "    </tr>\n",
       "  </tbody>\n",
       "</table>\n",
       "</div>"
      ],
      "text/plain": [
       "                       ids                  labels\n",
       "0   Communication Services  Communication Services\n",
       "1   Consumer Discretionary  Consumer Discretionary\n",
       "2         Consumer Staples        Consumer Staples\n",
       "3                   Energy                  Energy\n",
       "4               Financials              Financials\n",
       "5              Health Care             Health Care\n",
       "6              Industrials             Industrials\n",
       "7   Information Technology  Information Technology\n",
       "8                Materials               Materials\n",
       "9              Real Estate             Real Estate\n",
       "10               Utilities               Utilities"
      ]
     },
     "execution_count": 77,
     "metadata": {},
     "output_type": "execute_result"
    }
   ],
   "source": [
    "new_sector_df=pd.DataFrame()\n",
    "new_sector_df[\"ids\"]=sector_l[\"S&P 500 & Sectors\"]\n",
    "new_sector_df[\"labels\"]=sector_l[\"S&P 500 & Sectors\"]\n",
    "new_sector_df"
   ]
  },
  {
   "cell_type": "code",
   "execution_count": 78,
   "metadata": {},
   "outputs": [],
   "source": [
    "from itertools import cycle\n",
    "import numpy as np "
   ]
  },
  {
   "cell_type": "code",
   "execution_count": 79,
   "metadata": {},
   "outputs": [
    {
     "data": {
      "text/html": [
       "<div>\n",
       "<style scoped>\n",
       "    .dataframe tbody tr th:only-of-type {\n",
       "        vertical-align: middle;\n",
       "    }\n",
       "\n",
       "    .dataframe tbody tr th {\n",
       "        vertical-align: top;\n",
       "    }\n",
       "\n",
       "    .dataframe thead th {\n",
       "        text-align: right;\n",
       "    }\n",
       "</style>\n",
       "<table border=\"1\" class=\"dataframe\">\n",
       "  <thead>\n",
       "    <tr style=\"text-align: right;\">\n",
       "      <th></th>\n",
       "      <th>ids</th>\n",
       "      <th>labels</th>\n",
       "      <th>parents</th>\n",
       "    </tr>\n",
       "  </thead>\n",
       "  <tbody>\n",
       "    <tr>\n",
       "      <th>0</th>\n",
       "      <td>Communication Services-Best Value</td>\n",
       "      <td>Best Value</td>\n",
       "      <td>Communication Services</td>\n",
       "    </tr>\n",
       "    <tr>\n",
       "      <th>1</th>\n",
       "      <td>Communication Services-Fastest Growth</td>\n",
       "      <td>Fastest Growth</td>\n",
       "      <td>Communication Services</td>\n",
       "    </tr>\n",
       "    <tr>\n",
       "      <th>2</th>\n",
       "      <td>Communication Services-Most Momentum</td>\n",
       "      <td>Most Momentum</td>\n",
       "      <td>Communication Services</td>\n",
       "    </tr>\n",
       "    <tr>\n",
       "      <th>3</th>\n",
       "      <td>Consumer Discretionary-Best Value</td>\n",
       "      <td>Best Value</td>\n",
       "      <td>Consumer Discretionary</td>\n",
       "    </tr>\n",
       "    <tr>\n",
       "      <th>4</th>\n",
       "      <td>Consumer Discretionary-Fastest Growth</td>\n",
       "      <td>Fastest Growth</td>\n",
       "      <td>Consumer Discretionary</td>\n",
       "    </tr>\n",
       "    <tr>\n",
       "      <th>5</th>\n",
       "      <td>Consumer Discretionary-Most Momentum</td>\n",
       "      <td>Most Momentum</td>\n",
       "      <td>Consumer Discretionary</td>\n",
       "    </tr>\n",
       "    <tr>\n",
       "      <th>6</th>\n",
       "      <td>Consumer Staples-Best Value</td>\n",
       "      <td>Best Value</td>\n",
       "      <td>Consumer Staples</td>\n",
       "    </tr>\n",
       "    <tr>\n",
       "      <th>7</th>\n",
       "      <td>Consumer Staples-Fastest Growth</td>\n",
       "      <td>Fastest Growth</td>\n",
       "      <td>Consumer Staples</td>\n",
       "    </tr>\n",
       "    <tr>\n",
       "      <th>8</th>\n",
       "      <td>Consumer Staples-Most Momentum</td>\n",
       "      <td>Most Momentum</td>\n",
       "      <td>Consumer Staples</td>\n",
       "    </tr>\n",
       "    <tr>\n",
       "      <th>9</th>\n",
       "      <td>Energy-Best Value</td>\n",
       "      <td>Best Value</td>\n",
       "      <td>Energy</td>\n",
       "    </tr>\n",
       "    <tr>\n",
       "      <th>10</th>\n",
       "      <td>Energy-Fastest Growth</td>\n",
       "      <td>Fastest Growth</td>\n",
       "      <td>Energy</td>\n",
       "    </tr>\n",
       "    <tr>\n",
       "      <th>11</th>\n",
       "      <td>Energy-Most Momentum</td>\n",
       "      <td>Most Momentum</td>\n",
       "      <td>Energy</td>\n",
       "    </tr>\n",
       "    <tr>\n",
       "      <th>12</th>\n",
       "      <td>Financials-Best Value</td>\n",
       "      <td>Best Value</td>\n",
       "      <td>Financials</td>\n",
       "    </tr>\n",
       "    <tr>\n",
       "      <th>13</th>\n",
       "      <td>Financials-Fastest Growth</td>\n",
       "      <td>Fastest Growth</td>\n",
       "      <td>Financials</td>\n",
       "    </tr>\n",
       "    <tr>\n",
       "      <th>14</th>\n",
       "      <td>Financials-Most Momentum</td>\n",
       "      <td>Most Momentum</td>\n",
       "      <td>Financials</td>\n",
       "    </tr>\n",
       "    <tr>\n",
       "      <th>15</th>\n",
       "      <td>Health Care-Best Value</td>\n",
       "      <td>Best Value</td>\n",
       "      <td>Health Care</td>\n",
       "    </tr>\n",
       "    <tr>\n",
       "      <th>16</th>\n",
       "      <td>Health Care-Fastest Growth</td>\n",
       "      <td>Fastest Growth</td>\n",
       "      <td>Health Care</td>\n",
       "    </tr>\n",
       "    <tr>\n",
       "      <th>17</th>\n",
       "      <td>Health Care-Most Momentum</td>\n",
       "      <td>Most Momentum</td>\n",
       "      <td>Health Care</td>\n",
       "    </tr>\n",
       "    <tr>\n",
       "      <th>18</th>\n",
       "      <td>Industrials-Best Value</td>\n",
       "      <td>Best Value</td>\n",
       "      <td>Industrials</td>\n",
       "    </tr>\n",
       "    <tr>\n",
       "      <th>19</th>\n",
       "      <td>Industrials-Fastest Growth</td>\n",
       "      <td>Fastest Growth</td>\n",
       "      <td>Industrials</td>\n",
       "    </tr>\n",
       "    <tr>\n",
       "      <th>20</th>\n",
       "      <td>Industrials-Most Momentum</td>\n",
       "      <td>Most Momentum</td>\n",
       "      <td>Industrials</td>\n",
       "    </tr>\n",
       "    <tr>\n",
       "      <th>21</th>\n",
       "      <td>Information Technology-Best Value</td>\n",
       "      <td>Best Value</td>\n",
       "      <td>Information Technology</td>\n",
       "    </tr>\n",
       "    <tr>\n",
       "      <th>22</th>\n",
       "      <td>Information Technology-Fastest Growth</td>\n",
       "      <td>Fastest Growth</td>\n",
       "      <td>Information Technology</td>\n",
       "    </tr>\n",
       "    <tr>\n",
       "      <th>23</th>\n",
       "      <td>Information Technology-Most Momentum</td>\n",
       "      <td>Most Momentum</td>\n",
       "      <td>Information Technology</td>\n",
       "    </tr>\n",
       "    <tr>\n",
       "      <th>24</th>\n",
       "      <td>Materials-Best Value</td>\n",
       "      <td>Best Value</td>\n",
       "      <td>Materials</td>\n",
       "    </tr>\n",
       "    <tr>\n",
       "      <th>25</th>\n",
       "      <td>Materials-Fastest Growth</td>\n",
       "      <td>Fastest Growth</td>\n",
       "      <td>Materials</td>\n",
       "    </tr>\n",
       "    <tr>\n",
       "      <th>26</th>\n",
       "      <td>Materials-Most Momentum</td>\n",
       "      <td>Most Momentum</td>\n",
       "      <td>Materials</td>\n",
       "    </tr>\n",
       "    <tr>\n",
       "      <th>27</th>\n",
       "      <td>Real Estate-Best Value</td>\n",
       "      <td>Best Value</td>\n",
       "      <td>Real Estate</td>\n",
       "    </tr>\n",
       "    <tr>\n",
       "      <th>28</th>\n",
       "      <td>Real Estate-Fastest Growth</td>\n",
       "      <td>Fastest Growth</td>\n",
       "      <td>Real Estate</td>\n",
       "    </tr>\n",
       "    <tr>\n",
       "      <th>29</th>\n",
       "      <td>Real Estate-Most Momentum</td>\n",
       "      <td>Most Momentum</td>\n",
       "      <td>Real Estate</td>\n",
       "    </tr>\n",
       "    <tr>\n",
       "      <th>30</th>\n",
       "      <td>Utilities-Best Value</td>\n",
       "      <td>Best Value</td>\n",
       "      <td>Utilities</td>\n",
       "    </tr>\n",
       "    <tr>\n",
       "      <th>31</th>\n",
       "      <td>Utilities-Fastest Growth</td>\n",
       "      <td>Fastest Growth</td>\n",
       "      <td>Utilities</td>\n",
       "    </tr>\n",
       "    <tr>\n",
       "      <th>32</th>\n",
       "      <td>Utilities-Most Momentum</td>\n",
       "      <td>Most Momentum</td>\n",
       "      <td>Utilities</td>\n",
       "    </tr>\n",
       "  </tbody>\n",
       "</table>\n",
       "</div>"
      ],
      "text/plain": [
       "                                      ids          labels  \\\n",
       "0       Communication Services-Best Value      Best Value   \n",
       "1   Communication Services-Fastest Growth  Fastest Growth   \n",
       "2    Communication Services-Most Momentum   Most Momentum   \n",
       "3       Consumer Discretionary-Best Value      Best Value   \n",
       "4   Consumer Discretionary-Fastest Growth  Fastest Growth   \n",
       "5    Consumer Discretionary-Most Momentum   Most Momentum   \n",
       "6             Consumer Staples-Best Value      Best Value   \n",
       "7         Consumer Staples-Fastest Growth  Fastest Growth   \n",
       "8          Consumer Staples-Most Momentum   Most Momentum   \n",
       "9                       Energy-Best Value      Best Value   \n",
       "10                  Energy-Fastest Growth  Fastest Growth   \n",
       "11                   Energy-Most Momentum   Most Momentum   \n",
       "12                  Financials-Best Value      Best Value   \n",
       "13              Financials-Fastest Growth  Fastest Growth   \n",
       "14               Financials-Most Momentum   Most Momentum   \n",
       "15                 Health Care-Best Value      Best Value   \n",
       "16             Health Care-Fastest Growth  Fastest Growth   \n",
       "17              Health Care-Most Momentum   Most Momentum   \n",
       "18                 Industrials-Best Value      Best Value   \n",
       "19             Industrials-Fastest Growth  Fastest Growth   \n",
       "20              Industrials-Most Momentum   Most Momentum   \n",
       "21      Information Technology-Best Value      Best Value   \n",
       "22  Information Technology-Fastest Growth  Fastest Growth   \n",
       "23   Information Technology-Most Momentum   Most Momentum   \n",
       "24                   Materials-Best Value      Best Value   \n",
       "25               Materials-Fastest Growth  Fastest Growth   \n",
       "26                Materials-Most Momentum   Most Momentum   \n",
       "27                 Real Estate-Best Value      Best Value   \n",
       "28             Real Estate-Fastest Growth  Fastest Growth   \n",
       "29              Real Estate-Most Momentum   Most Momentum   \n",
       "30                   Utilities-Best Value      Best Value   \n",
       "31               Utilities-Fastest Growth  Fastest Growth   \n",
       "32                Utilities-Most Momentum   Most Momentum   \n",
       "\n",
       "                   parents  \n",
       "0   Communication Services  \n",
       "1   Communication Services  \n",
       "2   Communication Services  \n",
       "3   Consumer Discretionary  \n",
       "4   Consumer Discretionary  \n",
       "5   Consumer Discretionary  \n",
       "6         Consumer Staples  \n",
       "7         Consumer Staples  \n",
       "8         Consumer Staples  \n",
       "9                   Energy  \n",
       "10                  Energy  \n",
       "11                  Energy  \n",
       "12              Financials  \n",
       "13              Financials  \n",
       "14              Financials  \n",
       "15             Health Care  \n",
       "16             Health Care  \n",
       "17             Health Care  \n",
       "18             Industrials  \n",
       "19             Industrials  \n",
       "20             Industrials  \n",
       "21  Information Technology  \n",
       "22  Information Technology  \n",
       "23  Information Technology  \n",
       "24               Materials  \n",
       "25               Materials  \n",
       "26               Materials  \n",
       "27             Real Estate  \n",
       "28             Real Estate  \n",
       "29             Real Estate  \n",
       "30               Utilities  \n",
       "31               Utilities  \n",
       "32               Utilities  "
      ]
     },
     "execution_count": 79,
     "metadata": {},
     "output_type": "execute_result"
    }
   ],
   "source": [
    "perf_df= pd.DataFrame(np.arange(1,34), columns=['ids'])\n",
    "seq = cycle(['Best Value','Fastest Growth','Most Momentum'])\n",
    "perf_df['labels'] = [next(seq) for count in range(perf_df.shape[0])]\n",
    "\n",
    "lists1=[]\n",
    "for i in range(len(sector_list)):\n",
    "    \n",
    "    \n",
    "    seq1 = cycle([sector_list[i]])\n",
    "    lists1.append([next(seq1) for count in range(3)])\n",
    "\n",
    "combined = [item for sublist in lists1 for item in sublist]\n",
    "perf_df['ids']=combined \n",
    "perf_df['parents']=combined\n",
    "perf_df['ids']=perf_df['ids'] + '-' + perf_df['labels']\n",
    "perf_df"
   ]
  },
  {
   "cell_type": "code",
   "execution_count": 127,
   "metadata": {},
   "outputs": [
    {
     "data": {
      "text/html": [
       "<div>\n",
       "<style scoped>\n",
       "    .dataframe tbody tr th:only-of-type {\n",
       "        vertical-align: middle;\n",
       "    }\n",
       "\n",
       "    .dataframe tbody tr th {\n",
       "        vertical-align: top;\n",
       "    }\n",
       "\n",
       "    .dataframe thead th {\n",
       "        text-align: right;\n",
       "    }\n",
       "</style>\n",
       "<table border=\"1\" class=\"dataframe\">\n",
       "  <thead>\n",
       "    <tr style=\"text-align: right;\">\n",
       "      <th></th>\n",
       "      <th>ids</th>\n",
       "      <th>labels</th>\n",
       "      <th>parents</th>\n",
       "    </tr>\n",
       "  </thead>\n",
       "  <tbody>\n",
       "    <tr>\n",
       "      <th>0</th>\n",
       "      <td>Best Value-VIAC</td>\n",
       "      <td>VIAC</td>\n",
       "      <td>Communication Services-Best Value</td>\n",
       "    </tr>\n",
       "    <tr>\n",
       "      <th>1</th>\n",
       "      <td>Best Value-LUMN</td>\n",
       "      <td>LUMN</td>\n",
       "      <td>Communication Services-Best Value</td>\n",
       "    </tr>\n",
       "    <tr>\n",
       "      <th>2</th>\n",
       "      <td>Best Value-DISCK</td>\n",
       "      <td>DISCK</td>\n",
       "      <td>Communication Services-Best Value</td>\n",
       "    </tr>\n",
       "    <tr>\n",
       "      <th>3</th>\n",
       "      <td>Fastest Growth-ZM</td>\n",
       "      <td>ZM</td>\n",
       "      <td>Communication Services-Fastest Growth</td>\n",
       "    </tr>\n",
       "    <tr>\n",
       "      <th>4</th>\n",
       "      <td>Fastest Growth-LBRDA</td>\n",
       "      <td>LBRDA</td>\n",
       "      <td>Communication Services-Fastest Growth</td>\n",
       "    </tr>\n",
       "    <tr>\n",
       "      <th>...</th>\n",
       "      <td>...</td>\n",
       "      <td>...</td>\n",
       "      <td>...</td>\n",
       "    </tr>\n",
       "    <tr>\n",
       "      <th>94</th>\n",
       "      <td>Fastest Growth-SRE</td>\n",
       "      <td>SRE</td>\n",
       "      <td>Utilities-Fastest Growth</td>\n",
       "    </tr>\n",
       "    <tr>\n",
       "      <th>95</th>\n",
       "      <td>Fastest Growth-PEG</td>\n",
       "      <td>PEG</td>\n",
       "      <td>Utilities-Fastest Growth</td>\n",
       "    </tr>\n",
       "    <tr>\n",
       "      <th>96</th>\n",
       "      <td>Most Momentum-NEE</td>\n",
       "      <td>NEE</td>\n",
       "      <td>Utilities-Most Momentum</td>\n",
       "    </tr>\n",
       "    <tr>\n",
       "      <th>97</th>\n",
       "      <td>Most Momentum-AWK</td>\n",
       "      <td>AWK</td>\n",
       "      <td>Utilities-Most Momentum</td>\n",
       "    </tr>\n",
       "    <tr>\n",
       "      <th>98</th>\n",
       "      <td>Most Momentum-AES</td>\n",
       "      <td>AES</td>\n",
       "      <td>Utilities-Most Momentum</td>\n",
       "    </tr>\n",
       "  </tbody>\n",
       "</table>\n",
       "<p>99 rows × 3 columns</p>\n",
       "</div>"
      ],
      "text/plain": [
       "                     ids labels                                parents\n",
       "0        Best Value-VIAC   VIAC      Communication Services-Best Value\n",
       "1        Best Value-LUMN   LUMN      Communication Services-Best Value\n",
       "2       Best Value-DISCK  DISCK      Communication Services-Best Value\n",
       "3      Fastest Growth-ZM     ZM  Communication Services-Fastest Growth\n",
       "4   Fastest Growth-LBRDA  LBRDA  Communication Services-Fastest Growth\n",
       "..                   ...    ...                                    ...\n",
       "94    Fastest Growth-SRE    SRE               Utilities-Fastest Growth\n",
       "95    Fastest Growth-PEG    PEG               Utilities-Fastest Growth\n",
       "96     Most Momentum-NEE    NEE                Utilities-Most Momentum\n",
       "97     Most Momentum-AWK    AWK                Utilities-Most Momentum\n",
       "98     Most Momentum-AES    AES                Utilities-Most Momentum\n",
       "\n",
       "[99 rows x 3 columns]"
      ]
     },
     "execution_count": 127,
     "metadata": {},
     "output_type": "execute_result"
    }
   ],
   "source": [
    "stocks_df=pd.DataFrame()\n",
    "perf_l=perf_df[\"labels\"]\n",
    "lists2=[]\n",
    "for i in range(len(perf_l)):\n",
    "    \n",
    "    \n",
    "    seq = cycle([perf_l[i]])\n",
    "    lists2.append([next(seq) for count in range(3)])\n",
    "\n",
    "combined = [item for sublist in lists2 for item in sublist]\n",
    "stocks_df['ids']=combined \n",
    "stocks_df['labels']=stock_list\n",
    "\n",
    "lists3=[]\n",
    "for i in range(len(sector_list)):\n",
    "    \n",
    "    \n",
    "    seq3 = cycle([sector_list[i]])\n",
    "    lists3.append([next(seq3) for count in range(9)])\n",
    "combined2= [item for sublist in lists3 for item in sublist]\n",
    "stocks_df['parents']=combined2\n",
    "stocks_df['parents']=stocks_df['parents'] + '-'+ stocks_df['ids']\n",
    "stocks_df['ids']=stocks_df['ids'] + '-' + stocks_df['labels']\n",
    "stocks_df"
   ]
  },
  {
   "cell_type": "code",
   "execution_count": 153,
   "metadata": {},
   "outputs": [
    {
     "data": {
      "text/html": [
       "<div>\n",
       "<style scoped>\n",
       "    .dataframe tbody tr th:only-of-type {\n",
       "        vertical-align: middle;\n",
       "    }\n",
       "\n",
       "    .dataframe tbody tr th {\n",
       "        vertical-align: top;\n",
       "    }\n",
       "\n",
       "    .dataframe thead th {\n",
       "        text-align: right;\n",
       "    }\n",
       "</style>\n",
       "<table border=\"1\" class=\"dataframe\">\n",
       "  <thead>\n",
       "    <tr style=\"text-align: right;\">\n",
       "      <th></th>\n",
       "      <th>ids</th>\n",
       "      <th>labels</th>\n",
       "      <th>parents</th>\n",
       "    </tr>\n",
       "  </thead>\n",
       "  <tbody>\n",
       "    <tr>\n",
       "      <th>0</th>\n",
       "      <td>Communication Services</td>\n",
       "      <td>Communication Services</td>\n",
       "      <td>NaN</td>\n",
       "    </tr>\n",
       "    <tr>\n",
       "      <th>1</th>\n",
       "      <td>Consumer Discretionary</td>\n",
       "      <td>Consumer Discretionary</td>\n",
       "      <td>NaN</td>\n",
       "    </tr>\n",
       "    <tr>\n",
       "      <th>2</th>\n",
       "      <td>Consumer Staples</td>\n",
       "      <td>Consumer Staples</td>\n",
       "      <td>NaN</td>\n",
       "    </tr>\n",
       "    <tr>\n",
       "      <th>3</th>\n",
       "      <td>Energy</td>\n",
       "      <td>Energy</td>\n",
       "      <td>NaN</td>\n",
       "    </tr>\n",
       "    <tr>\n",
       "      <th>4</th>\n",
       "      <td>Financials</td>\n",
       "      <td>Financials</td>\n",
       "      <td>NaN</td>\n",
       "    </tr>\n",
       "    <tr>\n",
       "      <th>...</th>\n",
       "      <td>...</td>\n",
       "      <td>...</td>\n",
       "      <td>...</td>\n",
       "    </tr>\n",
       "    <tr>\n",
       "      <th>94</th>\n",
       "      <td>Fastest Growth-SRE</td>\n",
       "      <td>SRE</td>\n",
       "      <td>Utilities-Fastest Growth</td>\n",
       "    </tr>\n",
       "    <tr>\n",
       "      <th>95</th>\n",
       "      <td>Fastest Growth-PEG</td>\n",
       "      <td>PEG</td>\n",
       "      <td>Utilities-Fastest Growth</td>\n",
       "    </tr>\n",
       "    <tr>\n",
       "      <th>96</th>\n",
       "      <td>Most Momentum-NEE</td>\n",
       "      <td>NEE</td>\n",
       "      <td>Utilities-Most Momentum</td>\n",
       "    </tr>\n",
       "    <tr>\n",
       "      <th>97</th>\n",
       "      <td>Most Momentum-AWK</td>\n",
       "      <td>AWK</td>\n",
       "      <td>Utilities-Most Momentum</td>\n",
       "    </tr>\n",
       "    <tr>\n",
       "      <th>98</th>\n",
       "      <td>Most Momentum-AES</td>\n",
       "      <td>AES</td>\n",
       "      <td>Utilities-Most Momentum</td>\n",
       "    </tr>\n",
       "  </tbody>\n",
       "</table>\n",
       "<p>143 rows × 3 columns</p>\n",
       "</div>"
      ],
      "text/plain": [
       "                       ids                  labels                   parents\n",
       "0   Communication Services  Communication Services                       NaN\n",
       "1   Consumer Discretionary  Consumer Discretionary                       NaN\n",
       "2         Consumer Staples        Consumer Staples                       NaN\n",
       "3                   Energy                  Energy                       NaN\n",
       "4               Financials              Financials                       NaN\n",
       "..                     ...                     ...                       ...\n",
       "94      Fastest Growth-SRE                     SRE  Utilities-Fastest Growth\n",
       "95      Fastest Growth-PEG                     PEG  Utilities-Fastest Growth\n",
       "96       Most Momentum-NEE                     NEE   Utilities-Most Momentum\n",
       "97       Most Momentum-AWK                     AWK   Utilities-Most Momentum\n",
       "98       Most Momentum-AES                     AES   Utilities-Most Momentum\n",
       "\n",
       "[143 rows x 3 columns]"
      ]
     },
     "execution_count": 153,
     "metadata": {},
     "output_type": "execute_result"
    }
   ],
   "source": [
    "sector_perf_df=new_sector_df.append(perf_df)\n",
    "sunburst_df=sector_perf_df.append(stocks_df)\n",
    "sunburst_df"
   ]
  },
  {
   "cell_type": "code",
   "execution_count": 154,
   "metadata": {},
   "outputs": [
    {
     "data": {
      "text/html": [
       "<div>\n",
       "<style scoped>\n",
       "    .dataframe tbody tr th:only-of-type {\n",
       "        vertical-align: middle;\n",
       "    }\n",
       "\n",
       "    .dataframe tbody tr th {\n",
       "        vertical-align: top;\n",
       "    }\n",
       "\n",
       "    .dataframe thead th {\n",
       "        text-align: right;\n",
       "    }\n",
       "</style>\n",
       "<table border=\"1\" class=\"dataframe\">\n",
       "  <thead>\n",
       "    <tr style=\"text-align: right;\">\n",
       "      <th></th>\n",
       "      <th>ids</th>\n",
       "      <th>labels</th>\n",
       "      <th>parents</th>\n",
       "    </tr>\n",
       "  </thead>\n",
       "  <tbody>\n",
       "    <tr>\n",
       "      <th>0</th>\n",
       "      <td>Communication Services</td>\n",
       "      <td>Communication Services</td>\n",
       "      <td>NaN</td>\n",
       "    </tr>\n",
       "    <tr>\n",
       "      <th>1</th>\n",
       "      <td>Consumer Discretionary</td>\n",
       "      <td>Consumer Discretionary</td>\n",
       "      <td>NaN</td>\n",
       "    </tr>\n",
       "    <tr>\n",
       "      <th>2</th>\n",
       "      <td>Consumer Staples</td>\n",
       "      <td>Consumer Staples</td>\n",
       "      <td>NaN</td>\n",
       "    </tr>\n",
       "    <tr>\n",
       "      <th>3</th>\n",
       "      <td>Energy</td>\n",
       "      <td>Energy</td>\n",
       "      <td>NaN</td>\n",
       "    </tr>\n",
       "    <tr>\n",
       "      <th>4</th>\n",
       "      <td>Financials</td>\n",
       "      <td>Financials</td>\n",
       "      <td>NaN</td>\n",
       "    </tr>\n",
       "    <tr>\n",
       "      <th>...</th>\n",
       "      <td>...</td>\n",
       "      <td>...</td>\n",
       "      <td>...</td>\n",
       "    </tr>\n",
       "    <tr>\n",
       "      <th>94</th>\n",
       "      <td>Fastest Growth-SRE</td>\n",
       "      <td>SRE</td>\n",
       "      <td>Utilities-Fastest Growth</td>\n",
       "    </tr>\n",
       "    <tr>\n",
       "      <th>95</th>\n",
       "      <td>Fastest Growth-PEG</td>\n",
       "      <td>PEG</td>\n",
       "      <td>Utilities-Fastest Growth</td>\n",
       "    </tr>\n",
       "    <tr>\n",
       "      <th>96</th>\n",
       "      <td>Most Momentum-NEE</td>\n",
       "      <td>NEE</td>\n",
       "      <td>Utilities-Most Momentum</td>\n",
       "    </tr>\n",
       "    <tr>\n",
       "      <th>97</th>\n",
       "      <td>Most Momentum-AWK</td>\n",
       "      <td>AWK</td>\n",
       "      <td>Utilities-Most Momentum</td>\n",
       "    </tr>\n",
       "    <tr>\n",
       "      <th>98</th>\n",
       "      <td>Most Momentum-AES</td>\n",
       "      <td>AES</td>\n",
       "      <td>Utilities-Most Momentum</td>\n",
       "    </tr>\n",
       "  </tbody>\n",
       "</table>\n",
       "<p>143 rows × 3 columns</p>\n",
       "</div>"
      ],
      "text/plain": [
       "                       ids                  labels                   parents\n",
       "0   Communication Services  Communication Services                       NaN\n",
       "1   Consumer Discretionary  Consumer Discretionary                       NaN\n",
       "2         Consumer Staples        Consumer Staples                       NaN\n",
       "3                   Energy                  Energy                       NaN\n",
       "4               Financials              Financials                       NaN\n",
       "..                     ...                     ...                       ...\n",
       "94      Fastest Growth-SRE                     SRE  Utilities-Fastest Growth\n",
       "95      Fastest Growth-PEG                     PEG  Utilities-Fastest Growth\n",
       "96       Most Momentum-NEE                     NEE   Utilities-Most Momentum\n",
       "97       Most Momentum-AWK                     AWK   Utilities-Most Momentum\n",
       "98       Most Momentum-AES                     AES   Utilities-Most Momentum\n",
       "\n",
       "[143 rows x 3 columns]"
      ]
     },
     "execution_count": 154,
     "metadata": {},
     "output_type": "execute_result"
    }
   ],
   "source": [
    "sunburst_collection = db['sunburst']\n",
    "sunburst_df"
   ]
  },
  {
   "cell_type": "code",
   "execution_count": 188,
   "metadata": {},
   "outputs": [
    {
     "data": {
      "text/plain": [
       "{'ids': ['Communication Services',\n",
       "  'Consumer Discretionary',\n",
       "  'Consumer Staples',\n",
       "  'Energy',\n",
       "  'Financials',\n",
       "  'Health Care',\n",
       "  'Industrials',\n",
       "  'Information Technology',\n",
       "  'Materials',\n",
       "  'Real Estate',\n",
       "  'Utilities',\n",
       "  'Communication Services-Best Value',\n",
       "  'Communication Services-Fastest Growth',\n",
       "  'Communication Services-Most Momentum',\n",
       "  'Consumer Discretionary-Best Value',\n",
       "  'Consumer Discretionary-Fastest Growth',\n",
       "  'Consumer Discretionary-Most Momentum',\n",
       "  'Consumer Staples-Best Value',\n",
       "  'Consumer Staples-Fastest Growth',\n",
       "  'Consumer Staples-Most Momentum',\n",
       "  'Energy-Best Value',\n",
       "  'Energy-Fastest Growth',\n",
       "  'Energy-Most Momentum',\n",
       "  'Financials-Best Value',\n",
       "  'Financials-Fastest Growth',\n",
       "  'Financials-Most Momentum',\n",
       "  'Health Care-Best Value',\n",
       "  'Health Care-Fastest Growth',\n",
       "  'Health Care-Most Momentum',\n",
       "  'Industrials-Best Value',\n",
       "  'Industrials-Fastest Growth',\n",
       "  'Industrials-Most Momentum',\n",
       "  'Information Technology-Best Value',\n",
       "  'Information Technology-Fastest Growth',\n",
       "  'Information Technology-Most Momentum',\n",
       "  'Materials-Best Value',\n",
       "  'Materials-Fastest Growth',\n",
       "  'Materials-Most Momentum',\n",
       "  'Real Estate-Best Value',\n",
       "  'Real Estate-Fastest Growth',\n",
       "  'Real Estate-Most Momentum',\n",
       "  'Utilities-Best Value',\n",
       "  'Utilities-Fastest Growth',\n",
       "  'Utilities-Most Momentum',\n",
       "  'Best Value-VIAC',\n",
       "  'Best Value-LUMN',\n",
       "  'Best Value-DISCK',\n",
       "  'Fastest Growth-ZM',\n",
       "  'Fastest Growth-LBRDA',\n",
       "  'Fastest Growth-JW.A',\n",
       "  'Most Momentum-ZM',\n",
       "  'Most Momentum-ZG',\n",
       "  'Most Momentum-TWLO',\n",
       "  'Best Value-ARD',\n",
       "  'Best Value-MGM',\n",
       "  'Best Value-EBAY',\n",
       "  'Fastest Growth-BERY',\n",
       "  'Fastest Growth-F',\n",
       "  'Fastest Growth-ETSY',\n",
       "  'Most Momentum-ZM',\n",
       "  'Most Momentum-ZG',\n",
       "  'Most Momentum-TWLO',\n",
       "  'Best Value-ACI',\n",
       "  'Best Value-CPB',\n",
       "  'Best Value-KR',\n",
       "  'Fastest Growth-ACI',\n",
       "  'Fastest Growth-OLLI',\n",
       "  'Fastest Growth-KR',\n",
       "  'Most Momentum-SAM',\n",
       "  'Most Momentum-CHGG',\n",
       "  'Most Momentum-TWOU',\n",
       "  'Best Value-MUR',\n",
       "  'Best Value-LNG',\n",
       "  'Best Value-VVV',\n",
       "  'Fastest Growth-VLO',\n",
       "  'Fastest Growth-AM',\n",
       "  'Fastest Growth-WMB',\n",
       "  'Most Momentum-EQT',\n",
       "  'Most Momentum-COG',\n",
       "  'Most Momentum-AM',\n",
       "  'Best Value-BHF',\n",
       "  'Best Value-UNM',\n",
       "  'Best Value-MET',\n",
       "  'Fastest Growth-WTM',\n",
       "  'Fastest Growth-ARES',\n",
       "  'Fastest Growth-PNC',\n",
       "  'Most Momentum-ZM',\n",
       "  'Most Momentum-ZG',\n",
       "  'Most Momentum-TWLO',\n",
       "  'Best Value-BIIB',\n",
       "  'Best Value-BIO',\n",
       "  'Best Value-CVS',\n",
       "  'Fastest Growth-QDEL',\n",
       "  'Fastest Growth-PODD',\n",
       "  'Fastest Growth-PRGO',\n",
       "  'Most Momentum-LVGO',\n",
       "  'Most Momentum-IMMU',\n",
       "  'Most Momentum-MRNA',\n",
       "  'Best Value-EAF',\n",
       "  'Best Value-AL',\n",
       "  'Best Value-HII',\n",
       "  'Fastest Growth-ENR',\n",
       "  'Fastest Growth-PWR',\n",
       "  'Fastest Growth-VRT',\n",
       "  'Most Momentum-GNRC',\n",
       "  'Most Momentum-FDX',\n",
       "  'Most Momentum-VRT',\n",
       "  'Best Value-NLOK',\n",
       "  'Best Value-XRX',\n",
       "  'Best Value-NCR',\n",
       "  'Fastest Growth-CRM',\n",
       "  'Fastest Growth-WEX',\n",
       "  'Fastest Growth-NLOK',\n",
       "  'Most Momentum-ZM',\n",
       "  'Most Momentum-ZG',\n",
       "  'Most Momentum-TWLO',\n",
       "  'Best Value-ARD',\n",
       "  'Best Value-MGM',\n",
       "  'Best Value-EBAY',\n",
       "  'Fastest Growth-EXP',\n",
       "  'Fastest Growth-RGLD',\n",
       "  'Fastest Growth-MDU',\n",
       "  'Most Momentum-NEM',\n",
       "  'Most Momentum-FCX',\n",
       "  'Most Momentum-SMG',\n",
       "  'Best Value-BPYU',\n",
       "  'Best Value-KIM',\n",
       "  'Best Value-EQC',\n",
       "  'Fastest Growth-KIM',\n",
       "  'Fastest Growth-COLD',\n",
       "  'Fastest Growth-ARE',\n",
       "  'Most Momentum-CSGP',\n",
       "  'Most Momentum-EQIX',\n",
       "  'Most Momentum-SBAC',\n",
       "  'Best Value-NRG',\n",
       "  'Best Value-SRE',\n",
       "  'Best Value-PPL',\n",
       "  'Fastest Growth-ES',\n",
       "  'Fastest Growth-SRE',\n",
       "  'Fastest Growth-PEG',\n",
       "  'Most Momentum-NEE',\n",
       "  'Most Momentum-AWK',\n",
       "  'Most Momentum-AES'],\n",
       " 'labels': ['Communication Services',\n",
       "  'Consumer Discretionary',\n",
       "  'Consumer Staples',\n",
       "  'Energy',\n",
       "  'Financials',\n",
       "  'Health Care',\n",
       "  'Industrials',\n",
       "  'Information Technology',\n",
       "  'Materials',\n",
       "  'Real Estate',\n",
       "  'Utilities',\n",
       "  'Best Value',\n",
       "  'Fastest Growth',\n",
       "  'Most Momentum',\n",
       "  'Best Value',\n",
       "  'Fastest Growth',\n",
       "  'Most Momentum',\n",
       "  'Best Value',\n",
       "  'Fastest Growth',\n",
       "  'Most Momentum',\n",
       "  'Best Value',\n",
       "  'Fastest Growth',\n",
       "  'Most Momentum',\n",
       "  'Best Value',\n",
       "  'Fastest Growth',\n",
       "  'Most Momentum',\n",
       "  'Best Value',\n",
       "  'Fastest Growth',\n",
       "  'Most Momentum',\n",
       "  'Best Value',\n",
       "  'Fastest Growth',\n",
       "  'Most Momentum',\n",
       "  'Best Value',\n",
       "  'Fastest Growth',\n",
       "  'Most Momentum',\n",
       "  'Best Value',\n",
       "  'Fastest Growth',\n",
       "  'Most Momentum',\n",
       "  'Best Value',\n",
       "  'Fastest Growth',\n",
       "  'Most Momentum',\n",
       "  'Best Value',\n",
       "  'Fastest Growth',\n",
       "  'Most Momentum',\n",
       "  'VIAC',\n",
       "  'LUMN',\n",
       "  'DISCK',\n",
       "  'ZM',\n",
       "  'LBRDA',\n",
       "  'JW.A',\n",
       "  'ZM',\n",
       "  'ZG',\n",
       "  'TWLO',\n",
       "  'ARD',\n",
       "  'MGM',\n",
       "  'EBAY',\n",
       "  'BERY',\n",
       "  'F',\n",
       "  'ETSY',\n",
       "  'ZM',\n",
       "  'ZG',\n",
       "  'TWLO',\n",
       "  'ACI',\n",
       "  'CPB',\n",
       "  'KR',\n",
       "  'ACI',\n",
       "  'OLLI',\n",
       "  'KR',\n",
       "  'SAM',\n",
       "  'CHGG',\n",
       "  'TWOU',\n",
       "  'MUR',\n",
       "  'LNG',\n",
       "  'VVV',\n",
       "  'VLO',\n",
       "  'AM',\n",
       "  'WMB',\n",
       "  'EQT',\n",
       "  'COG',\n",
       "  'AM',\n",
       "  'BHF',\n",
       "  'UNM',\n",
       "  'MET',\n",
       "  'WTM',\n",
       "  'ARES',\n",
       "  'PNC',\n",
       "  'ZM',\n",
       "  'ZG',\n",
       "  'TWLO',\n",
       "  'BIIB',\n",
       "  'BIO',\n",
       "  'CVS',\n",
       "  'QDEL',\n",
       "  'PODD',\n",
       "  'PRGO',\n",
       "  'LVGO',\n",
       "  'IMMU',\n",
       "  'MRNA',\n",
       "  'EAF',\n",
       "  'AL',\n",
       "  'HII',\n",
       "  'ENR',\n",
       "  'PWR',\n",
       "  'VRT',\n",
       "  'GNRC',\n",
       "  'FDX',\n",
       "  'VRT',\n",
       "  'NLOK',\n",
       "  'XRX',\n",
       "  'NCR',\n",
       "  'CRM',\n",
       "  'WEX',\n",
       "  'NLOK',\n",
       "  'ZM',\n",
       "  'ZG',\n",
       "  'TWLO',\n",
       "  'ARD',\n",
       "  'MGM',\n",
       "  'EBAY',\n",
       "  'EXP',\n",
       "  'RGLD',\n",
       "  'MDU',\n",
       "  'NEM',\n",
       "  'FCX',\n",
       "  'SMG',\n",
       "  'BPYU',\n",
       "  'KIM',\n",
       "  'EQC',\n",
       "  'KIM',\n",
       "  'COLD',\n",
       "  'ARE',\n",
       "  'CSGP',\n",
       "  'EQIX',\n",
       "  'SBAC',\n",
       "  'NRG',\n",
       "  'SRE',\n",
       "  'PPL',\n",
       "  'ES',\n",
       "  'SRE',\n",
       "  'PEG',\n",
       "  'NEE',\n",
       "  'AWK',\n",
       "  'AES'],\n",
       " 'parents': [nan,\n",
       "  nan,\n",
       "  nan,\n",
       "  nan,\n",
       "  nan,\n",
       "  nan,\n",
       "  nan,\n",
       "  nan,\n",
       "  nan,\n",
       "  nan,\n",
       "  nan,\n",
       "  'Communication Services',\n",
       "  'Communication Services',\n",
       "  'Communication Services',\n",
       "  'Consumer Discretionary',\n",
       "  'Consumer Discretionary',\n",
       "  'Consumer Discretionary',\n",
       "  'Consumer Staples',\n",
       "  'Consumer Staples',\n",
       "  'Consumer Staples',\n",
       "  'Energy',\n",
       "  'Energy',\n",
       "  'Energy',\n",
       "  'Financials',\n",
       "  'Financials',\n",
       "  'Financials',\n",
       "  'Health Care',\n",
       "  'Health Care',\n",
       "  'Health Care',\n",
       "  'Industrials',\n",
       "  'Industrials',\n",
       "  'Industrials',\n",
       "  'Information Technology',\n",
       "  'Information Technology',\n",
       "  'Information Technology',\n",
       "  'Materials',\n",
       "  'Materials',\n",
       "  'Materials',\n",
       "  'Real Estate',\n",
       "  'Real Estate',\n",
       "  'Real Estate',\n",
       "  'Utilities',\n",
       "  'Utilities',\n",
       "  'Utilities',\n",
       "  'Communication Services-Best Value',\n",
       "  'Communication Services-Best Value',\n",
       "  'Communication Services-Best Value',\n",
       "  'Communication Services-Fastest Growth',\n",
       "  'Communication Services-Fastest Growth',\n",
       "  'Communication Services-Fastest Growth',\n",
       "  'Communication Services-Most Momentum',\n",
       "  'Communication Services-Most Momentum',\n",
       "  'Communication Services-Most Momentum',\n",
       "  'Consumer Discretionary-Best Value',\n",
       "  'Consumer Discretionary-Best Value',\n",
       "  'Consumer Discretionary-Best Value',\n",
       "  'Consumer Discretionary-Fastest Growth',\n",
       "  'Consumer Discretionary-Fastest Growth',\n",
       "  'Consumer Discretionary-Fastest Growth',\n",
       "  'Consumer Discretionary-Most Momentum',\n",
       "  'Consumer Discretionary-Most Momentum',\n",
       "  'Consumer Discretionary-Most Momentum',\n",
       "  'Consumer Staples-Best Value',\n",
       "  'Consumer Staples-Best Value',\n",
       "  'Consumer Staples-Best Value',\n",
       "  'Consumer Staples-Fastest Growth',\n",
       "  'Consumer Staples-Fastest Growth',\n",
       "  'Consumer Staples-Fastest Growth',\n",
       "  'Consumer Staples-Most Momentum',\n",
       "  'Consumer Staples-Most Momentum',\n",
       "  'Consumer Staples-Most Momentum',\n",
       "  'Energy-Best Value',\n",
       "  'Energy-Best Value',\n",
       "  'Energy-Best Value',\n",
       "  'Energy-Fastest Growth',\n",
       "  'Energy-Fastest Growth',\n",
       "  'Energy-Fastest Growth',\n",
       "  'Energy-Most Momentum',\n",
       "  'Energy-Most Momentum',\n",
       "  'Energy-Most Momentum',\n",
       "  'Financials-Best Value',\n",
       "  'Financials-Best Value',\n",
       "  'Financials-Best Value',\n",
       "  'Financials-Fastest Growth',\n",
       "  'Financials-Fastest Growth',\n",
       "  'Financials-Fastest Growth',\n",
       "  'Financials-Most Momentum',\n",
       "  'Financials-Most Momentum',\n",
       "  'Financials-Most Momentum',\n",
       "  'Health Care-Best Value',\n",
       "  'Health Care-Best Value',\n",
       "  'Health Care-Best Value',\n",
       "  'Health Care-Fastest Growth',\n",
       "  'Health Care-Fastest Growth',\n",
       "  'Health Care-Fastest Growth',\n",
       "  'Health Care-Most Momentum',\n",
       "  'Health Care-Most Momentum',\n",
       "  'Health Care-Most Momentum',\n",
       "  'Industrials-Best Value',\n",
       "  'Industrials-Best Value',\n",
       "  'Industrials-Best Value',\n",
       "  'Industrials-Fastest Growth',\n",
       "  'Industrials-Fastest Growth',\n",
       "  'Industrials-Fastest Growth',\n",
       "  'Industrials-Most Momentum',\n",
       "  'Industrials-Most Momentum',\n",
       "  'Industrials-Most Momentum',\n",
       "  'Information Technology-Best Value',\n",
       "  'Information Technology-Best Value',\n",
       "  'Information Technology-Best Value',\n",
       "  'Information Technology-Fastest Growth',\n",
       "  'Information Technology-Fastest Growth',\n",
       "  'Information Technology-Fastest Growth',\n",
       "  'Information Technology-Most Momentum',\n",
       "  'Information Technology-Most Momentum',\n",
       "  'Information Technology-Most Momentum',\n",
       "  'Materials-Best Value',\n",
       "  'Materials-Best Value',\n",
       "  'Materials-Best Value',\n",
       "  'Materials-Fastest Growth',\n",
       "  'Materials-Fastest Growth',\n",
       "  'Materials-Fastest Growth',\n",
       "  'Materials-Most Momentum',\n",
       "  'Materials-Most Momentum',\n",
       "  'Materials-Most Momentum',\n",
       "  'Real Estate-Best Value',\n",
       "  'Real Estate-Best Value',\n",
       "  'Real Estate-Best Value',\n",
       "  'Real Estate-Fastest Growth',\n",
       "  'Real Estate-Fastest Growth',\n",
       "  'Real Estate-Fastest Growth',\n",
       "  'Real Estate-Most Momentum',\n",
       "  'Real Estate-Most Momentum',\n",
       "  'Real Estate-Most Momentum',\n",
       "  'Utilities-Best Value',\n",
       "  'Utilities-Best Value',\n",
       "  'Utilities-Best Value',\n",
       "  'Utilities-Fastest Growth',\n",
       "  'Utilities-Fastest Growth',\n",
       "  'Utilities-Fastest Growth',\n",
       "  'Utilities-Most Momentum',\n",
       "  'Utilities-Most Momentum',\n",
       "  'Utilities-Most Momentum']}"
      ]
     },
     "execution_count": 188,
     "metadata": {},
     "output_type": "execute_result"
    }
   ],
   "source": [
    "ids = sunburst_df[\"ids\"].to_list()\n",
    "labels = sunburst_df[\"labels\"].to_list()\n",
    "parents = sunburst_df[\"parents\"].to_list()\n",
    "sun_dict = {\"ids\": ids, \"labels\": labels, \"parents\": parents}\n",
    "sun_dict"
   ]
  },
  {
   "cell_type": "code",
   "execution_count": 189,
   "metadata": {},
   "outputs": [],
   "source": [
    "# sunburst_dict = sunburst_df.to_dict(\"records\")\n",
    "# sunburst_dict"
   ]
  },
  {
   "cell_type": "code",
   "execution_count": 190,
   "metadata": {},
   "outputs": [
    {
     "data": {
      "text/plain": [
       "dict"
      ]
     },
     "execution_count": 190,
     "metadata": {},
     "output_type": "execute_result"
    }
   ],
   "source": [
    "type(sun_dict)"
   ]
  },
  {
   "cell_type": "code",
   "execution_count": 192,
   "metadata": {},
   "outputs": [
    {
     "data": {
      "text/plain": [
       "<pymongo.results.InsertOneResult at 0x1d5b090e680>"
      ]
     },
     "execution_count": 192,
     "metadata": {},
     "output_type": "execute_result"
    }
   ],
   "source": [
    "# # Insert collection\n",
    "sunburst_collection.insert_one(sun_dict)\n",
    "# sunburst_collection.drop_indexes()"
   ]
  },
  {
   "cell_type": "code",
   "execution_count": 195,
   "metadata": {},
   "outputs": [],
   "source": [
    "sunburst_collection.replace_one({}, sun_dict, upsert= True)"
   ]
  },
  {
   "cell_type": "code",
   "execution_count": 110,
   "metadata": {},
   "outputs": [],
   "source": [
    "sunburst_df.to_csv('../data/external/sunburst_scrape.csv',index=False)"
   ]
  },
  {
   "cell_type": "code",
   "execution_count": 111,
   "metadata": {},
   "outputs": [],
   "source": [
    "driver.quit()"
   ]
  },
  {
   "cell_type": "code",
   "execution_count": null,
   "metadata": {},
   "outputs": [],
   "source": []
  }
 ],
 "metadata": {
  "kernelspec": {
   "display_name": "Python 3",
   "language": "python",
   "name": "python3"
  },
  "language_info": {
   "codemirror_mode": {
    "name": "ipython",
    "version": 3
   },
   "file_extension": ".py",
   "mimetype": "text/x-python",
   "name": "python",
   "nbconvert_exporter": "python",
   "pygments_lexer": "ipython3",
   "version": "3.8.3"
  }
 },
 "nbformat": 4,
 "nbformat_minor": 4
}
