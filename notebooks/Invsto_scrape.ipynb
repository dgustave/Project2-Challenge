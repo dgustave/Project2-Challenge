{
 "cells": [
  {
   "cell_type": "markdown",
   "metadata": {},
   "source": [
    "# Step 1: Install Python packages"
   ]
  },
  {
   "cell_type": "code",
   "execution_count": 2,
   "metadata": {},
   "outputs": [],
   "source": [
    "import os\n",
    "import html5lib\n",
    "import pandas as pd\n",
    "from selenium import webdriver                   \n",
    "from selenium.webdriver.common.keys import Keys   \n",
    "from selenium.webdriver.common.by import By\n",
    "from selenium.webdriver.support.ui import WebDriverWait\n",
    "from selenium.webdriver.support import expected_conditions as EC\n",
    "from selenium.common.exceptions import TimeoutException\n",
    "from selenium.webdriver.common.desired_capabilities import DesiredCapabilities\n",
    "from datetime import date, timedelta, datetime as dt\n",
    "from bs4 import BeautifulSoup as bs    "
   ]
  },
  {
   "cell_type": "markdown",
   "metadata": {},
   "source": [
    "# Step 2: Preparation "
   ]
  },
  {
   "cell_type": "code",
   "execution_count": 3,
   "metadata": {},
   "outputs": [],
   "source": [
    "class RemoteDriverStartService():\n",
    "    options = webdriver.ChromeOptions()\n",
    "    # Set user app data to a new directory\n",
    "    options.add_argument(\"user-data-dir=C:\\\\Users\\\\Donley\\\\App Data\\\\Google\\\\Chrome\\\\Application\\\\User Data\\\\Kit\")\n",
    "    options.add_experimental_option(\"Proxy\", \"null\")\n",
    "    options.add_experimental_option(\"excludeSwitches\", [\"ignore-certificate-errors\"])\n",
    "    # Create a download path for external data sources as default: \n",
    "    options.add_experimental_option(\"prefs\", {\n",
    "      \"download.default_directory\": r\"C:\\Users\\Donley\\Documents\\GA_TECH\\SUBMISSIONS\\PROJECT2-CHALLENGE\\data\\external\",\n",
    "      \"download.prompt_for_download\": False,\n",
    "      \"download.directory_upgrade\": True,\n",
    "      \"safebrowsing.enabled\": True\n",
    "    }),\n",
    "    # Add those optional features to capabilities\n",
    "    caps = options.to_capabilities()  \n",
    "    def start_driver(self):\n",
    "        return webdriver.Remote(command_executor='http://127.0.0.1:4444', \n",
    "                                desired_capabilities=self.caps)\n",
    "# Set class equal to new capabilities:\n",
    "DesiredCapabilities = RemoteDriverStartService()  "
   ]
  },
  {
   "cell_type": "code",
   "execution_count": 4,
   "metadata": {},
   "outputs": [],
   "source": [
    "# Create variables for scraping: \n",
    "investo = \"https://www.investopedia.com/top-communications-stocks-4583180\"\n",
    "# Download data to paths, csv's, json, etc: \n",
    "    # for external data sources\n",
    "external = \"../data/external/\"\n",
    "    # for processed data sources with ID's\n",
    "processed = \"../data/processed/\""
   ]
  },
  {
   "cell_type": "code",
   "execution_count": 5,
   "metadata": {},
   "outputs": [],
   "source": [
    "# Locate Driver in system\n",
    "current_path = os.getcwd()\n",
    "\n",
    "# save the .exe file under the same directory of the web-scrape python script.\n",
    "Path = os.path.join(current_path, \"chromedriver\")\n",
    "\n",
    "# Initialize Chrome driver and start browser session controlled by automated test software under Kit profile.\n",
    "caps = webdriver.DesiredCapabilities.CHROME.copy()\n",
    "caps['acceptInsecureCerts'] = True\n",
    "# caps = webdriver.DesiredCapabilities.CHROME.copy()\n",
    "# caps['acceptInsecureCerts'] = True\n",
    "# driver = webdriver.Chrome(options=options, desired_capabilities=caps)\n",
    "driver = webdriver.Chrome(executable_path='chromedriver', desired_capabilities=caps)"
   ]
  },
  {
   "cell_type": "code",
   "execution_count": null,
   "metadata": {},
   "outputs": [],
   "source": []
  },
  {
   "cell_type": "markdown",
   "metadata": {},
   "source": [
    "# Step 3: Find the IDs of the items we want to scrape for"
   ]
  },
  {
   "cell_type": "code",
   "execution_count": 6,
   "metadata": {},
   "outputs": [],
   "source": [
    "# Start Grabbing Information from investopedia: \n",
    "driver.get(investo)\n",
    "timeout = 30\n",
    "# Find an ID on the page and wait before executing anything until found: \n",
    "try:\n",
    "    WebDriverWait(driver, timeout).until(EC.visibility_of_element_located((By.ID, \"main_1-0\")))\n",
    "except TimeoutException:\n",
    "    driver.quit()"
   ]
  },
  {
   "cell_type": "code",
   "execution_count": null,
   "metadata": {},
   "outputs": [],
   "source": []
  },
  {
   "cell_type": "markdown",
   "metadata": {},
   "source": [
    "# Step 4: Techniques to make more human-like web-scrapers "
   ]
  },
  {
   "cell_type": "code",
   "execution_count": null,
   "metadata": {},
   "outputs": [],
   "source": [
    "# If the website detects us as a web-scraper, it will cut our connection so we cannot pull more data and have to re-start our scraper. This largely impacts the efficiency of the scraper and involves a lot of manual interference. There are a few techniques we can use to make the scraper more human-like:\n",
    "# (1) Randomize the sleep time\n",
    "# This can be easily implemented as below wherever needed:\n",
    "# #sleep for sometime between 5 and 8 seconds\n",
    "# time.sleep(random.uniform(5,8))\n",
    "# (2) Randomize the user agent for the web browser\n",
    "# This is also easy and can be added to the browser options as below:\n",
    "# ua = UserAgent()\n",
    "# userAgent = ua.random\n",
    "# Firefox_options = webdriver.FirefoxOptions()\n",
    "# Firefox_options.add_argument(f’user-agent={userAgent}’)\n",
    "# browser = webdriver.Firefox(executable_path = DRIVER_BIN, options=Firefox_options)\n",
    "# (3) Use dynamic proxy/IP\n",
    "# This requires more work than the above two. Usually free proxies are not stable and most of them don’t respond to requests, so we need to first a free proxy that responds to our requests. This website (also named as “url” in the script below) provides a lot of free proxies which we scrape down for our use. We will use Python BeautifulSoup package to scrape a list of proxies, and use Python requests package to test whether the proxy responds to our requests to the link.\n",
    "# def get_proxy(link):\n",
    "#     url = \"https://www.sslproxies.org/\"\n",
    "#     r = requests.get(url)\n",
    "#     soup = BeautifulSoup(r.content, 'html5lib')\n",
    "#     proxies_list = list(map(lambda x: x[0]+':'+x[1], list(zip(map(lambda x: x.text, soup.findAll('td')[::8]), map(lambda x: x.text, soup.findAll('td')[1::8])))))\n",
    "#     while 1:\n",
    "#         try:\n",
    "#             selected_ip = choice(proxies_list)\n",
    "#             proxy = {'https': selected_ip, 'http': selected_ip}\n",
    "#             headers = {'User-Agent': ua.random}\n",
    "#             print('Using proxy:{}'.format(proxy))\n",
    "#             r = requests.request('get', link, proxies=proxy, headers=headers, timeout=5)\n",
    "#             break\n",
    "#         except:\n",
    "#             pass\n",
    "        \n",
    "#     return proxy\n",
    "# We then add the working proxy to the browser option, similar to how we added the fake user agent:\n",
    "# link = \"https://www.expedia.com\"\n",
    "# proxy = get_proxy(link)\n",
    "# Firefox_options.add_argument('--proxy-server=%s' % proxy)\n",
    "# browser = webdriver.Firefox(executable_path = DRIVER_BIN, options=Firefox_options)"
   ]
  },
  {
   "cell_type": "markdown",
   "metadata": {},
   "source": [
    "# Step 5: The full code that runs the scraper and save the data to .csv files\n"
   ]
  },
  {
   "cell_type": "code",
   "execution_count": 7,
   "metadata": {},
   "outputs": [
    {
     "output_type": "execute_result",
     "data": {
      "text/plain": [
       "['VIAC', 'LUMN', 'DISCK']"
      ]
     },
     "metadata": {},
     "execution_count": 7
    }
   ],
   "source": [
    "itable = driver.find_element_by_id(\"main_1-0\").get_attribute('outerHTML')\n",
    "itables  = pd.read_html(itable)\n",
    "communications_bv = itables[0]\n",
    "communications_bv.columns = [\"Communictaions Best Value\", \"Price\", \"Market Cap\", \"12-Month Trailing P/E Ratio\"]\n",
    "communications_bv\n",
    "# Locate column containing ticker symbols: \n",
    "communications_bv_df = communications_bv.iloc[1:]\n",
    "# Only keep tick information within parentheses:\n",
    "communications_bv_ticks = [tick[tick.find(\"(\")+1:tick.find(\")\")] for tick in communications_bv_df[\"Communictaions Best Value\"]]\n",
    "communications_bv_ticks"
   ]
  },
  {
   "cell_type": "code",
   "execution_count": 8,
   "metadata": {},
   "outputs": [
    {
     "output_type": "execute_result",
     "data": {
      "text/plain": [
       "['ZM', 'LBRDA', 'JW.A']"
      ]
     },
     "metadata": {},
     "execution_count": 8
    }
   ],
   "source": [
    "communications_fg = itables[1]\n",
    "communications_fg.columns = [\"Communications Fastest Growing\", \"Price\", \"Market Cap\", \"12-Month Trailing Total Return (%)\"]\n",
    "communications_fg_df = communications_fg.iloc[1:]\n",
    "communications_fg_ticks = [tick[tick.find(\"(\")+1:tick.find(\")\")] for tick in communications_fg_df[\"Communications Fastest Growing\"]]\n",
    "communications_fg_ticks"
   ]
  },
  {
   "cell_type": "code",
   "execution_count": 9,
   "metadata": {},
   "outputs": [
    {
     "output_type": "execute_result",
     "data": {
      "text/plain": [
       "['ZM', 'ZG', 'TWLO']"
      ]
     },
     "metadata": {},
     "execution_count": 9
    }
   ],
   "source": [
    "communications_mm = itables[2]\n",
    "communications_mm.columns = [\"Communications Most Momentum\", \"Price\", \"Market Cap\", \"12-Month Trailing Total Return (%)\"]\n",
    "communications_mm_df = communications_mm.iloc[1:]\n",
    "communications_mm_ticks = [tick[tick.find(\"(\")+1:tick.find(\")\")] for tick in communications_mm_df[\"Communications Most Momentum\"]]\n",
    "del communications_mm_ticks[-2:]\n",
    "communications_mm_ticks"
   ]
  },
  {
   "cell_type": "code",
   "execution_count": 10,
   "metadata": {},
   "outputs": [
    {
     "output_type": "execute_result",
     "data": {
      "text/plain": [
       "[<selenium.webdriver.remote.webelement.WebElement (session=\"36a7b600bbeeed00c67241d29550d578\", element=\"50d27ff8-2586-4e4c-b659-1847ee2ad4f6\")>,\n",
       " <selenium.webdriver.remote.webelement.WebElement (session=\"36a7b600bbeeed00c67241d29550d578\", element=\"ad8a4a4c-ede1-4558-bd7b-0305ac63276c\")>,\n",
       " <selenium.webdriver.remote.webelement.WebElement (session=\"36a7b600bbeeed00c67241d29550d578\", element=\"61f0f1ad-5198-495e-96b5-d340a8953768\")>,\n",
       " <selenium.webdriver.remote.webelement.WebElement (session=\"36a7b600bbeeed00c67241d29550d578\", element=\"de566bcd-808c-4cfe-9191-6092e6ebeaff\")>,\n",
       " <selenium.webdriver.remote.webelement.WebElement (session=\"36a7b600bbeeed00c67241d29550d578\", element=\"cac97476-eaa3-4726-a89e-ecda8a63d1c2\")>]"
      ]
     },
     "metadata": {},
     "execution_count": 10
    }
   ],
   "source": [
    "discretionary = driver.find_elements(By.CSS_SELECTOR, '#journey-nav__sublist_1-0 > li:nth-child(3) > a')\n",
    "discretionary"
   ]
  },
  {
   "cell_type": "code",
   "execution_count": 11,
   "metadata": {},
   "outputs": [
    {
     "output_type": "error",
     "ename": "NameError",
     "evalue": "name 'sectors' is not defined",
     "traceback": [
      "\u001b[1;31m---------------------------------------------------------------------------\u001b[0m",
      "\u001b[1;31mNameError\u001b[0m                                 Traceback (most recent call last)",
      "\u001b[1;32m<ipython-input-11-cec8c074cd80>\u001b[0m in \u001b[0;36m<module>\u001b[1;34m\u001b[0m\n\u001b[1;32m----> 1\u001b[1;33m \u001b[0msectors\u001b[0m\u001b[1;33m[\u001b[0m\u001b[1;36m0\u001b[0m\u001b[1;33m]\u001b[0m\u001b[1;33m.\u001b[0m\u001b[0mclick\u001b[0m\u001b[1;33m(\u001b[0m\u001b[1;33m)\u001b[0m\u001b[1;33m\u001b[0m\u001b[1;33m\u001b[0m\u001b[0m\n\u001b[0m",
      "\u001b[1;31mNameError\u001b[0m: name 'sectors' is not defined"
     ]
    }
   ],
   "source": [
    "sectors[0].click() "
   ]
  },
  {
   "cell_type": "code",
   "execution_count": 16,
   "metadata": {},
   "outputs": [
    {
     "output_type": "execute_result",
     "data": {
      "text/plain": [
       "['VIAC', 'LUMN', 'DISCK']"
      ]
     },
     "metadata": {},
     "execution_count": 16
    }
   ],
   "source": [
    "dtable = driver.find_element_by_id(\"main_1-0\").get_attribute('outerHTML')\n",
    "dtables  = pd.read_html(dtable)\n",
    "discretionary_bv = dtables[0]\n",
    "discretionary_bv.columns = [\"tick\", \"Price\", \"Market Cap\", \"12-Month Trailing P/E Ratio\"]\n",
    "discretionary_bv\n",
    "# Locate column containing ticker symbols: \n",
    "discretionary_bv_df = discretionary_bv.iloc[1:]\n",
    "# Only keep tick information within parentheses:\n",
    "discretionary_bv_ticks = [tick[tick.find(\"(\")+1:tick.find(\")\")] for tick in discretionary_bv_df[\"tick\"]]\n",
    "discretionary_bv_ticks"
   ]
  },
  {
   "cell_type": "code",
   "execution_count": 17,
   "metadata": {},
   "outputs": [
    {
     "output_type": "execute_result",
     "data": {
      "text/plain": [
       "['ZM', 'LBRDA', 'JW.A']"
      ]
     },
     "metadata": {},
     "execution_count": 17
    }
   ],
   "source": [
    "discretionary_fg = dtables[1]\n",
    "discretionary_fg.columns = [\"stock\", \"Price\", \"Market Cap\", \"12-Month Trailing Total Return (%)\"]\n",
    "discretionary_fg_df = discretionary_fg.iloc[1:]\n",
    "discretionary_fg_ticks = [tick[tick.find(\"(\")+1:tick.find(\")\")] for tick in discretionary_fg_df[\"stock\"]]\n",
    "discretionary_fg_ticks"
   ]
  },
  {
   "cell_type": "code",
   "execution_count": 18,
   "metadata": {},
   "outputs": [
    {
     "output_type": "execute_result",
     "data": {
      "text/plain": [
       "['ZM', 'ZG', 'TWLO']"
      ]
     },
     "metadata": {},
     "execution_count": 18
    }
   ],
   "source": [
    "discretionary_mm = itables[2]\n",
    "discretionary_mm.columns = [\"Communications Most Momentum\", \"Price\", \"Market Cap\", \"12-Month Trailing Total Return (%)\"]\n",
    "discretionary_mm_df = discretionary_mm.iloc[1:]\n",
    "discretionary_mm_ticks = [tick[tick.find(\"(\")+1:tick.find(\")\")] for tick in discretionary_mm_df[\"Communications Most Momentum\"]]\n",
    "del discretionary_mm_ticks[-2:]\n",
    "discretionary_mm_ticks"
   ]
  },
  {
   "cell_type": "code",
   "execution_count": 15,
   "metadata": {},
   "outputs": [
    {
     "output_type": "error",
     "ename": "ElementNotInteractableException",
     "evalue": "Message: element not interactable\n  (Session info: chrome=85.0.4183.121)\n",
     "traceback": [
      "\u001b[1;31m---------------------------------------------------------------------------\u001b[0m",
      "\u001b[1;31mElementNotInteractableException\u001b[0m           Traceback (most recent call last)",
      "\u001b[1;32m<ipython-input-15-8fe2cc61b8a7>\u001b[0m in \u001b[0;36m<module>\u001b[1;34m\u001b[0m\n\u001b[0;32m      1\u001b[0m \u001b[0mstaples\u001b[0m \u001b[1;33m=\u001b[0m \u001b[0mdriver\u001b[0m\u001b[1;33m.\u001b[0m\u001b[0mfind_elements\u001b[0m\u001b[1;33m(\u001b[0m\u001b[0mBy\u001b[0m\u001b[1;33m.\u001b[0m\u001b[0mCSS_SELECTOR\u001b[0m\u001b[1;33m,\u001b[0m \u001b[1;34m'#journey-nav__sublist_1-0 > li:nth-child(4) > a'\u001b[0m\u001b[1;33m)\u001b[0m\u001b[1;33m\u001b[0m\u001b[1;33m\u001b[0m\u001b[0m\n\u001b[1;32m----> 2\u001b[1;33m \u001b[0mstaples\u001b[0m\u001b[1;33m[\u001b[0m\u001b[1;36m0\u001b[0m\u001b[1;33m]\u001b[0m\u001b[1;33m.\u001b[0m\u001b[0mclick\u001b[0m\u001b[1;33m(\u001b[0m\u001b[1;33m)\u001b[0m\u001b[1;33m\u001b[0m\u001b[1;33m\u001b[0m\u001b[0m\n\u001b[0m",
      "\u001b[1;32m~\\anaconda3\\lib\\site-packages\\selenium\\webdriver\\remote\\webelement.py\u001b[0m in \u001b[0;36mclick\u001b[1;34m(self)\u001b[0m\n\u001b[0;32m     78\u001b[0m     \u001b[1;32mdef\u001b[0m \u001b[0mclick\u001b[0m\u001b[1;33m(\u001b[0m\u001b[0mself\u001b[0m\u001b[1;33m)\u001b[0m\u001b[1;33m:\u001b[0m\u001b[1;33m\u001b[0m\u001b[1;33m\u001b[0m\u001b[0m\n\u001b[0;32m     79\u001b[0m         \u001b[1;34m\"\"\"Clicks the element.\"\"\"\u001b[0m\u001b[1;33m\u001b[0m\u001b[1;33m\u001b[0m\u001b[0m\n\u001b[1;32m---> 80\u001b[1;33m         \u001b[0mself\u001b[0m\u001b[1;33m.\u001b[0m\u001b[0m_execute\u001b[0m\u001b[1;33m(\u001b[0m\u001b[0mCommand\u001b[0m\u001b[1;33m.\u001b[0m\u001b[0mCLICK_ELEMENT\u001b[0m\u001b[1;33m)\u001b[0m\u001b[1;33m\u001b[0m\u001b[1;33m\u001b[0m\u001b[0m\n\u001b[0m\u001b[0;32m     81\u001b[0m \u001b[1;33m\u001b[0m\u001b[0m\n\u001b[0;32m     82\u001b[0m     \u001b[1;32mdef\u001b[0m \u001b[0msubmit\u001b[0m\u001b[1;33m(\u001b[0m\u001b[0mself\u001b[0m\u001b[1;33m)\u001b[0m\u001b[1;33m:\u001b[0m\u001b[1;33m\u001b[0m\u001b[1;33m\u001b[0m\u001b[0m\n",
      "\u001b[1;32m~\\anaconda3\\lib\\site-packages\\selenium\\webdriver\\remote\\webelement.py\u001b[0m in \u001b[0;36m_execute\u001b[1;34m(self, command, params)\u001b[0m\n\u001b[0;32m    631\u001b[0m             \u001b[0mparams\u001b[0m \u001b[1;33m=\u001b[0m \u001b[1;33m{\u001b[0m\u001b[1;33m}\u001b[0m\u001b[1;33m\u001b[0m\u001b[1;33m\u001b[0m\u001b[0m\n\u001b[0;32m    632\u001b[0m         \u001b[0mparams\u001b[0m\u001b[1;33m[\u001b[0m\u001b[1;34m'id'\u001b[0m\u001b[1;33m]\u001b[0m \u001b[1;33m=\u001b[0m \u001b[0mself\u001b[0m\u001b[1;33m.\u001b[0m\u001b[0m_id\u001b[0m\u001b[1;33m\u001b[0m\u001b[1;33m\u001b[0m\u001b[0m\n\u001b[1;32m--> 633\u001b[1;33m         \u001b[1;32mreturn\u001b[0m \u001b[0mself\u001b[0m\u001b[1;33m.\u001b[0m\u001b[0m_parent\u001b[0m\u001b[1;33m.\u001b[0m\u001b[0mexecute\u001b[0m\u001b[1;33m(\u001b[0m\u001b[0mcommand\u001b[0m\u001b[1;33m,\u001b[0m \u001b[0mparams\u001b[0m\u001b[1;33m)\u001b[0m\u001b[1;33m\u001b[0m\u001b[1;33m\u001b[0m\u001b[0m\n\u001b[0m\u001b[0;32m    634\u001b[0m \u001b[1;33m\u001b[0m\u001b[0m\n\u001b[0;32m    635\u001b[0m     \u001b[1;32mdef\u001b[0m \u001b[0mfind_element\u001b[0m\u001b[1;33m(\u001b[0m\u001b[0mself\u001b[0m\u001b[1;33m,\u001b[0m \u001b[0mby\u001b[0m\u001b[1;33m=\u001b[0m\u001b[0mBy\u001b[0m\u001b[1;33m.\u001b[0m\u001b[0mID\u001b[0m\u001b[1;33m,\u001b[0m \u001b[0mvalue\u001b[0m\u001b[1;33m=\u001b[0m\u001b[1;32mNone\u001b[0m\u001b[1;33m)\u001b[0m\u001b[1;33m:\u001b[0m\u001b[1;33m\u001b[0m\u001b[1;33m\u001b[0m\u001b[0m\n",
      "\u001b[1;32m~\\anaconda3\\lib\\site-packages\\selenium\\webdriver\\remote\\webdriver.py\u001b[0m in \u001b[0;36mexecute\u001b[1;34m(self, driver_command, params)\u001b[0m\n\u001b[0;32m    319\u001b[0m         \u001b[0mresponse\u001b[0m \u001b[1;33m=\u001b[0m \u001b[0mself\u001b[0m\u001b[1;33m.\u001b[0m\u001b[0mcommand_executor\u001b[0m\u001b[1;33m.\u001b[0m\u001b[0mexecute\u001b[0m\u001b[1;33m(\u001b[0m\u001b[0mdriver_command\u001b[0m\u001b[1;33m,\u001b[0m \u001b[0mparams\u001b[0m\u001b[1;33m)\u001b[0m\u001b[1;33m\u001b[0m\u001b[1;33m\u001b[0m\u001b[0m\n\u001b[0;32m    320\u001b[0m         \u001b[1;32mif\u001b[0m \u001b[0mresponse\u001b[0m\u001b[1;33m:\u001b[0m\u001b[1;33m\u001b[0m\u001b[1;33m\u001b[0m\u001b[0m\n\u001b[1;32m--> 321\u001b[1;33m             \u001b[0mself\u001b[0m\u001b[1;33m.\u001b[0m\u001b[0merror_handler\u001b[0m\u001b[1;33m.\u001b[0m\u001b[0mcheck_response\u001b[0m\u001b[1;33m(\u001b[0m\u001b[0mresponse\u001b[0m\u001b[1;33m)\u001b[0m\u001b[1;33m\u001b[0m\u001b[1;33m\u001b[0m\u001b[0m\n\u001b[0m\u001b[0;32m    322\u001b[0m             response['value'] = self._unwrap_value(\n\u001b[0;32m    323\u001b[0m                 response.get('value', None))\n",
      "\u001b[1;32m~\\anaconda3\\lib\\site-packages\\selenium\\webdriver\\remote\\errorhandler.py\u001b[0m in \u001b[0;36mcheck_response\u001b[1;34m(self, response)\u001b[0m\n\u001b[0;32m    240\u001b[0m                 \u001b[0malert_text\u001b[0m \u001b[1;33m=\u001b[0m \u001b[0mvalue\u001b[0m\u001b[1;33m[\u001b[0m\u001b[1;34m'alert'\u001b[0m\u001b[1;33m]\u001b[0m\u001b[1;33m.\u001b[0m\u001b[0mget\u001b[0m\u001b[1;33m(\u001b[0m\u001b[1;34m'text'\u001b[0m\u001b[1;33m)\u001b[0m\u001b[1;33m\u001b[0m\u001b[1;33m\u001b[0m\u001b[0m\n\u001b[0;32m    241\u001b[0m             \u001b[1;32mraise\u001b[0m \u001b[0mexception_class\u001b[0m\u001b[1;33m(\u001b[0m\u001b[0mmessage\u001b[0m\u001b[1;33m,\u001b[0m \u001b[0mscreen\u001b[0m\u001b[1;33m,\u001b[0m \u001b[0mstacktrace\u001b[0m\u001b[1;33m,\u001b[0m \u001b[0malert_text\u001b[0m\u001b[1;33m)\u001b[0m\u001b[1;33m\u001b[0m\u001b[1;33m\u001b[0m\u001b[0m\n\u001b[1;32m--> 242\u001b[1;33m         \u001b[1;32mraise\u001b[0m \u001b[0mexception_class\u001b[0m\u001b[1;33m(\u001b[0m\u001b[0mmessage\u001b[0m\u001b[1;33m,\u001b[0m \u001b[0mscreen\u001b[0m\u001b[1;33m,\u001b[0m \u001b[0mstacktrace\u001b[0m\u001b[1;33m)\u001b[0m\u001b[1;33m\u001b[0m\u001b[1;33m\u001b[0m\u001b[0m\n\u001b[0m\u001b[0;32m    243\u001b[0m \u001b[1;33m\u001b[0m\u001b[0m\n\u001b[0;32m    244\u001b[0m     \u001b[1;32mdef\u001b[0m \u001b[0m_value_or_default\u001b[0m\u001b[1;33m(\u001b[0m\u001b[0mself\u001b[0m\u001b[1;33m,\u001b[0m \u001b[0mobj\u001b[0m\u001b[1;33m,\u001b[0m \u001b[0mkey\u001b[0m\u001b[1;33m,\u001b[0m \u001b[0mdefault\u001b[0m\u001b[1;33m)\u001b[0m\u001b[1;33m:\u001b[0m\u001b[1;33m\u001b[0m\u001b[1;33m\u001b[0m\u001b[0m\n",
      "\u001b[1;31mElementNotInteractableException\u001b[0m: Message: element not interactable\n  (Session info: chrome=85.0.4183.121)\n"
     ]
    }
   ],
   "source": [
    "staples = driver.find_elements(By.CSS_SELECTOR, '#journey-nav__sublist_1-0 > li:nth-child(4) > a')\n",
    "staples[0].click()"
   ]
  },
  {
   "cell_type": "code",
   "execution_count": 19,
   "metadata": {},
   "outputs": [
    {
     "output_type": "execute_result",
     "data": {
      "text/plain": [
       "['VIAC', 'LUMN', 'DISCK']"
      ]
     },
     "metadata": {},
     "execution_count": 19
    }
   ],
   "source": [
    "stable = driver.find_element_by_id(\"main_1-0\").get_attribute('outerHTML')\n",
    "stables  = pd.read_html(stable)\n",
    "staples_bv = stables[0]\n",
    "staples_bv.columns = [\"tick\", \"Price\", \"Market Cap\", \"12-Month Trailing P/E Ratio\"]\n",
    "staples_bv\n",
    "# Locate column containing ticker symbols: \n",
    "staples_bv_df = staples_bv.iloc[1:]\n",
    "# Only keep tick information within parentheses:\n",
    "staples_bv_ticks = [tick[tick.find(\"(\")+1:tick.find(\")\")] for tick in staples_bv_df[\"tick\"]]\n",
    "staples_bv_ticks"
   ]
  },
  {
   "cell_type": "code",
   "execution_count": 20,
   "metadata": {},
   "outputs": [
    {
     "output_type": "execute_result",
     "data": {
      "text/plain": [
       "['ZM', 'LBRDA', 'JW.A']"
      ]
     },
     "metadata": {},
     "execution_count": 20
    }
   ],
   "source": [
    "staples_fg = stables[1]\n",
    "staples_fg.columns = [\"stock\", \"Price\", \"Market Cap\", \"12-Month Trailing Total Return (%)\"]\n",
    "staples_fg_df = staples_fg.iloc[1:]\n",
    "staples_fg_ticks = [tick[tick.find(\"(\")+1:tick.find(\")\")] for tick in staples_fg_df[\"stock\"]]\n",
    "staples_fg_ticks"
   ]
  },
  {
   "cell_type": "code",
   "execution_count": 21,
   "metadata": {},
   "outputs": [
    {
     "output_type": "execute_result",
     "data": {
      "text/plain": [
       "['ZM', 'ZG', 'TWLO']"
      ]
     },
     "metadata": {},
     "execution_count": 21
    }
   ],
   "source": [
    "staples_mm = stables[2]\n",
    "staples_mm.columns = [\"Communications Most Momentum\", \"Price\", \"Market Cap\", \"12-Month Trailing Total Return (%)\"]\n",
    "staples_mm_df = staples_mm.iloc[1:]\n",
    "staples_mm_ticks = [tick[tick.find(\"(\")+1:tick.find(\")\")] for tick in staples_mm_df[\"Communications Most Momentum\"]]\n",
    "del staples_mm_ticks[-2:]\n",
    "staples_mm_ticks"
   ]
  },
  {
   "cell_type": "code",
   "execution_count": 22,
   "metadata": {},
   "outputs": [
    {
     "output_type": "error",
     "ename": "ElementNotInteractableException",
     "evalue": "Message: element not interactable\n  (Session info: chrome=85.0.4183.121)\n",
     "traceback": [
      "\u001b[1;31m---------------------------------------------------------------------------\u001b[0m",
      "\u001b[1;31mElementNotInteractableException\u001b[0m           Traceback (most recent call last)",
      "\u001b[1;32m<ipython-input-22-17ec1402c3a3>\u001b[0m in \u001b[0;36m<module>\u001b[1;34m\u001b[0m\n\u001b[0;32m      1\u001b[0m \u001b[0menergy\u001b[0m \u001b[1;33m=\u001b[0m \u001b[0mdriver\u001b[0m\u001b[1;33m.\u001b[0m\u001b[0mfind_elements\u001b[0m\u001b[1;33m(\u001b[0m\u001b[0mBy\u001b[0m\u001b[1;33m.\u001b[0m\u001b[0mCSS_SELECTOR\u001b[0m\u001b[1;33m,\u001b[0m \u001b[1;34m'#journey-nav__sublist_1-0 > li:nth-child(5) > a'\u001b[0m\u001b[1;33m)\u001b[0m\u001b[1;33m\u001b[0m\u001b[1;33m\u001b[0m\u001b[0m\n\u001b[1;32m----> 2\u001b[1;33m \u001b[0menergy\u001b[0m\u001b[1;33m[\u001b[0m\u001b[1;36m0\u001b[0m\u001b[1;33m]\u001b[0m\u001b[1;33m.\u001b[0m\u001b[0mclick\u001b[0m\u001b[1;33m(\u001b[0m\u001b[1;33m)\u001b[0m\u001b[1;33m\u001b[0m\u001b[1;33m\u001b[0m\u001b[0m\n\u001b[0m",
      "\u001b[1;32m~\\anaconda3\\lib\\site-packages\\selenium\\webdriver\\remote\\webelement.py\u001b[0m in \u001b[0;36mclick\u001b[1;34m(self)\u001b[0m\n\u001b[0;32m     78\u001b[0m     \u001b[1;32mdef\u001b[0m \u001b[0mclick\u001b[0m\u001b[1;33m(\u001b[0m\u001b[0mself\u001b[0m\u001b[1;33m)\u001b[0m\u001b[1;33m:\u001b[0m\u001b[1;33m\u001b[0m\u001b[1;33m\u001b[0m\u001b[0m\n\u001b[0;32m     79\u001b[0m         \u001b[1;34m\"\"\"Clicks the element.\"\"\"\u001b[0m\u001b[1;33m\u001b[0m\u001b[1;33m\u001b[0m\u001b[0m\n\u001b[1;32m---> 80\u001b[1;33m         \u001b[0mself\u001b[0m\u001b[1;33m.\u001b[0m\u001b[0m_execute\u001b[0m\u001b[1;33m(\u001b[0m\u001b[0mCommand\u001b[0m\u001b[1;33m.\u001b[0m\u001b[0mCLICK_ELEMENT\u001b[0m\u001b[1;33m)\u001b[0m\u001b[1;33m\u001b[0m\u001b[1;33m\u001b[0m\u001b[0m\n\u001b[0m\u001b[0;32m     81\u001b[0m \u001b[1;33m\u001b[0m\u001b[0m\n\u001b[0;32m     82\u001b[0m     \u001b[1;32mdef\u001b[0m \u001b[0msubmit\u001b[0m\u001b[1;33m(\u001b[0m\u001b[0mself\u001b[0m\u001b[1;33m)\u001b[0m\u001b[1;33m:\u001b[0m\u001b[1;33m\u001b[0m\u001b[1;33m\u001b[0m\u001b[0m\n",
      "\u001b[1;32m~\\anaconda3\\lib\\site-packages\\selenium\\webdriver\\remote\\webelement.py\u001b[0m in \u001b[0;36m_execute\u001b[1;34m(self, command, params)\u001b[0m\n\u001b[0;32m    631\u001b[0m             \u001b[0mparams\u001b[0m \u001b[1;33m=\u001b[0m \u001b[1;33m{\u001b[0m\u001b[1;33m}\u001b[0m\u001b[1;33m\u001b[0m\u001b[1;33m\u001b[0m\u001b[0m\n\u001b[0;32m    632\u001b[0m         \u001b[0mparams\u001b[0m\u001b[1;33m[\u001b[0m\u001b[1;34m'id'\u001b[0m\u001b[1;33m]\u001b[0m \u001b[1;33m=\u001b[0m \u001b[0mself\u001b[0m\u001b[1;33m.\u001b[0m\u001b[0m_id\u001b[0m\u001b[1;33m\u001b[0m\u001b[1;33m\u001b[0m\u001b[0m\n\u001b[1;32m--> 633\u001b[1;33m         \u001b[1;32mreturn\u001b[0m \u001b[0mself\u001b[0m\u001b[1;33m.\u001b[0m\u001b[0m_parent\u001b[0m\u001b[1;33m.\u001b[0m\u001b[0mexecute\u001b[0m\u001b[1;33m(\u001b[0m\u001b[0mcommand\u001b[0m\u001b[1;33m,\u001b[0m \u001b[0mparams\u001b[0m\u001b[1;33m)\u001b[0m\u001b[1;33m\u001b[0m\u001b[1;33m\u001b[0m\u001b[0m\n\u001b[0m\u001b[0;32m    634\u001b[0m \u001b[1;33m\u001b[0m\u001b[0m\n\u001b[0;32m    635\u001b[0m     \u001b[1;32mdef\u001b[0m \u001b[0mfind_element\u001b[0m\u001b[1;33m(\u001b[0m\u001b[0mself\u001b[0m\u001b[1;33m,\u001b[0m \u001b[0mby\u001b[0m\u001b[1;33m=\u001b[0m\u001b[0mBy\u001b[0m\u001b[1;33m.\u001b[0m\u001b[0mID\u001b[0m\u001b[1;33m,\u001b[0m \u001b[0mvalue\u001b[0m\u001b[1;33m=\u001b[0m\u001b[1;32mNone\u001b[0m\u001b[1;33m)\u001b[0m\u001b[1;33m:\u001b[0m\u001b[1;33m\u001b[0m\u001b[1;33m\u001b[0m\u001b[0m\n",
      "\u001b[1;32m~\\anaconda3\\lib\\site-packages\\selenium\\webdriver\\remote\\webdriver.py\u001b[0m in \u001b[0;36mexecute\u001b[1;34m(self, driver_command, params)\u001b[0m\n\u001b[0;32m    319\u001b[0m         \u001b[0mresponse\u001b[0m \u001b[1;33m=\u001b[0m \u001b[0mself\u001b[0m\u001b[1;33m.\u001b[0m\u001b[0mcommand_executor\u001b[0m\u001b[1;33m.\u001b[0m\u001b[0mexecute\u001b[0m\u001b[1;33m(\u001b[0m\u001b[0mdriver_command\u001b[0m\u001b[1;33m,\u001b[0m \u001b[0mparams\u001b[0m\u001b[1;33m)\u001b[0m\u001b[1;33m\u001b[0m\u001b[1;33m\u001b[0m\u001b[0m\n\u001b[0;32m    320\u001b[0m         \u001b[1;32mif\u001b[0m \u001b[0mresponse\u001b[0m\u001b[1;33m:\u001b[0m\u001b[1;33m\u001b[0m\u001b[1;33m\u001b[0m\u001b[0m\n\u001b[1;32m--> 321\u001b[1;33m             \u001b[0mself\u001b[0m\u001b[1;33m.\u001b[0m\u001b[0merror_handler\u001b[0m\u001b[1;33m.\u001b[0m\u001b[0mcheck_response\u001b[0m\u001b[1;33m(\u001b[0m\u001b[0mresponse\u001b[0m\u001b[1;33m)\u001b[0m\u001b[1;33m\u001b[0m\u001b[1;33m\u001b[0m\u001b[0m\n\u001b[0m\u001b[0;32m    322\u001b[0m             response['value'] = self._unwrap_value(\n\u001b[0;32m    323\u001b[0m                 response.get('value', None))\n",
      "\u001b[1;32m~\\anaconda3\\lib\\site-packages\\selenium\\webdriver\\remote\\errorhandler.py\u001b[0m in \u001b[0;36mcheck_response\u001b[1;34m(self, response)\u001b[0m\n\u001b[0;32m    240\u001b[0m                 \u001b[0malert_text\u001b[0m \u001b[1;33m=\u001b[0m \u001b[0mvalue\u001b[0m\u001b[1;33m[\u001b[0m\u001b[1;34m'alert'\u001b[0m\u001b[1;33m]\u001b[0m\u001b[1;33m.\u001b[0m\u001b[0mget\u001b[0m\u001b[1;33m(\u001b[0m\u001b[1;34m'text'\u001b[0m\u001b[1;33m)\u001b[0m\u001b[1;33m\u001b[0m\u001b[1;33m\u001b[0m\u001b[0m\n\u001b[0;32m    241\u001b[0m             \u001b[1;32mraise\u001b[0m \u001b[0mexception_class\u001b[0m\u001b[1;33m(\u001b[0m\u001b[0mmessage\u001b[0m\u001b[1;33m,\u001b[0m \u001b[0mscreen\u001b[0m\u001b[1;33m,\u001b[0m \u001b[0mstacktrace\u001b[0m\u001b[1;33m,\u001b[0m \u001b[0malert_text\u001b[0m\u001b[1;33m)\u001b[0m\u001b[1;33m\u001b[0m\u001b[1;33m\u001b[0m\u001b[0m\n\u001b[1;32m--> 242\u001b[1;33m         \u001b[1;32mraise\u001b[0m \u001b[0mexception_class\u001b[0m\u001b[1;33m(\u001b[0m\u001b[0mmessage\u001b[0m\u001b[1;33m,\u001b[0m \u001b[0mscreen\u001b[0m\u001b[1;33m,\u001b[0m \u001b[0mstacktrace\u001b[0m\u001b[1;33m)\u001b[0m\u001b[1;33m\u001b[0m\u001b[1;33m\u001b[0m\u001b[0m\n\u001b[0m\u001b[0;32m    243\u001b[0m \u001b[1;33m\u001b[0m\u001b[0m\n\u001b[0;32m    244\u001b[0m     \u001b[1;32mdef\u001b[0m \u001b[0m_value_or_default\u001b[0m\u001b[1;33m(\u001b[0m\u001b[0mself\u001b[0m\u001b[1;33m,\u001b[0m \u001b[0mobj\u001b[0m\u001b[1;33m,\u001b[0m \u001b[0mkey\u001b[0m\u001b[1;33m,\u001b[0m \u001b[0mdefault\u001b[0m\u001b[1;33m)\u001b[0m\u001b[1;33m:\u001b[0m\u001b[1;33m\u001b[0m\u001b[1;33m\u001b[0m\u001b[0m\n",
      "\u001b[1;31mElementNotInteractableException\u001b[0m: Message: element not interactable\n  (Session info: chrome=85.0.4183.121)\n"
     ]
    }
   ],
   "source": [
    "energy = driver.find_elements(By.CSS_SELECTOR, '#journey-nav__sublist_1-0 > li:nth-child(5) > a')\n",
    "energy[0].click()"
   ]
  },
  {
   "cell_type": "code",
   "execution_count": 23,
   "metadata": {},
   "outputs": [
    {
     "output_type": "execute_result",
     "data": {
      "text/plain": [
       "['VIAC', 'LUMN', 'DISCK']"
      ]
     },
     "metadata": {},
     "execution_count": 23
    }
   ],
   "source": [
    "etable = driver.find_element_by_id(\"main_1-0\").get_attribute('outerHTML')\n",
    "etables  = pd.read_html(etable)\n",
    "energy_bv = etables[0]\n",
    "energy_bv.columns = [\"tick\", \"Price\", \"Market Cap\", \"12-Month Trailing P/E Ratio\"]\n",
    "energy_bv\n",
    "# Locate column containing ticker symbols: \n",
    "energy_bv_df = energy_bv.iloc[1:]\n",
    "# Only keep tick information within parentheses:\n",
    "energy_bv_ticks = [tick[tick.find(\"(\")+1:tick.find(\")\")] for tick in energy_bv_df[\"tick\"]]\n",
    "energy_bv_ticks"
   ]
  },
  {
   "cell_type": "code",
   "execution_count": 37,
   "metadata": {},
   "outputs": [
    {
     "data": {
      "text/plain": [
       "['VLO', 'AM', 'WMB']"
      ]
     },
     "execution_count": 37,
     "metadata": {},
     "output_type": "execute_result"
    }
   ],
   "source": [
    "energy_fg = etables[1]\n",
    "energy_fg.columns = [\"stock\", \"Price\", \"Market Cap\", \"12-Month Trailing Total Return (%)\"]\n",
    "energy_fg_df = energy_fg.iloc[1:]\n",
    "energy_fg_ticks = [tick[tick.find(\"(\")+1:tick.find(\")\")] for tick in energy_fg_df[\"stock\"]]\n",
    "energy_fg_ticks"
   ]
  },
  {
   "cell_type": "code",
   "execution_count": 38,
   "metadata": {},
   "outputs": [
    {
     "data": {
      "text/plain": [
       "['EQT', 'COG', 'AM']"
      ]
     },
     "execution_count": 38,
     "metadata": {},
     "output_type": "execute_result"
    }
   ],
   "source": [
    "energy_mm = etables[2]\n",
    "energy_mm.columns = [\"Communications Most Momentum\", \"Price\", \"Market Cap\", \"12-Month Trailing Total Return (%)\"]\n",
    "energy_mm_df = energy_mm.iloc[1:]\n",
    "energy_mm_ticks = [tick[tick.find(\"(\")+1:tick.find(\")\")] for tick in energy_mm_df[\"Communications Most Momentum\"]]\n",
    "del energy_mm_ticks[-2:]\n",
    "energy_mm_ticks"
   ]
  },
  {
   "cell_type": "code",
   "execution_count": 39,
   "metadata": {},
   "outputs": [],
   "source": [
    "financial = driver.find_elements(By.CSS_SELECTOR, '#journey-nav__sublist_1-0 > li:nth-child(6) > a')\n",
    "financial[0].click()"
   ]
  },
  {
   "cell_type": "code",
   "execution_count": 41,
   "metadata": {},
   "outputs": [
    {
     "data": {
      "text/plain": [
       "['BHF', 'UNM', 'MET']"
      ]
     },
     "execution_count": 41,
     "metadata": {},
     "output_type": "execute_result"
    }
   ],
   "source": [
    "ftable = driver.find_element_by_id(\"main_1-0\").get_attribute('outerHTML')\n",
    "ftables  = pd.read_html(ftable)\n",
    "financial_bv = ftables[0]\n",
    "financial_bv.columns = [\"tick\", \"Price\", \"Market Cap\", \"12-Month Trailing P/E Ratio\"]\n",
    "financial_bv\n",
    "# Locate column containing ticker symbols: \n",
    "financial_bv_df = financial_bv.iloc[1:]\n",
    "# Only keep tick information within parentheses:\n",
    "financial_bv_ticks = [tick[tick.find(\"(\")+1:tick.find(\")\")] for tick in financial_bv_df[\"tick\"]]\n",
    "financial_bv_ticks"
   ]
  },
  {
   "cell_type": "code",
   "execution_count": 42,
   "metadata": {},
   "outputs": [
    {
     "data": {
      "text/plain": [
       "['WTM', 'ARES', 'PNC']"
      ]
     },
     "execution_count": 42,
     "metadata": {},
     "output_type": "execute_result"
    }
   ],
   "source": [
    "financial_fg = ftables[1]\n",
    "financial_fg.columns = [\"stock\", \"Price\", \"Market Cap\", \"12-Month Trailing Total Return (%)\"]\n",
    "financial_fg_df = financial_fg.iloc[1:]\n",
    "financial_fg_ticks = [tick[tick.find(\"(\")+1:tick.find(\")\")] for tick in financial_fg_df[\"stock\"]]\n",
    "financial_fg_ticks"
   ]
  },
  {
   "cell_type": "code",
   "execution_count": 43,
   "metadata": {},
   "outputs": [
    {
     "data": {
      "text/plain": [
       "['ZM', 'ZG', 'TWLO']"
      ]
     },
     "execution_count": 43,
     "metadata": {},
     "output_type": "execute_result"
    }
   ],
   "source": [
    "financial_mm = itables[2]\n",
    "financial_mm.columns = [\"Communications Most Momentum\", \"Price\", \"Market Cap\", \"12-Month Trailing Total Return (%)\"]\n",
    "financial_mm_df = financial_mm.iloc[1:]\n",
    "financial_mm_ticks = [tick[tick.find(\"(\")+1:tick.find(\")\")] for tick in financial_mm_df[\"Communications Most Momentum\"]]\n",
    "del financial_mm_ticks[-2:]\n",
    "financial_mm_ticks"
   ]
  },
  {
   "cell_type": "code",
   "execution_count": 44,
   "metadata": {},
   "outputs": [],
   "source": [
    "healthcare = driver.find_elements(By.CSS_SELECTOR, '#journey-nav__sublist_1-0 > li:nth-child(7) > a')\n",
    "healthcare[0].click()"
   ]
  },
  {
   "cell_type": "code",
   "execution_count": 45,
   "metadata": {},
   "outputs": [
    {
     "data": {
      "text/plain": [
       "['BIIB', 'BIO', 'CVS']"
      ]
     },
     "execution_count": 45,
     "metadata": {},
     "output_type": "execute_result"
    }
   ],
   "source": [
    "htable = driver.find_element_by_id(\"main_1-0\").get_attribute('outerHTML')\n",
    "htables  = pd.read_html(htable)\n",
    "healthcare_bv = htables[0]\n",
    "healthcare_bv.columns = [\"tick\", \"Price\", \"Market Cap\", \"12-Month Trailing P/E Ratio\"]\n",
    "healthcare_bv\n",
    "# Locate column containing ticker symbols: \n",
    "healthcare_bv_df = healthcare_bv.iloc[1:]\n",
    "# Only keep tick information within parentheses:\n",
    "healthcare_bv_ticks = [tick[tick.find(\"(\")+1:tick.find(\")\")] for tick in healthcare_bv_df[\"tick\"]]\n",
    "healthcare_bv_ticks"
   ]
  },
  {
   "cell_type": "code",
   "execution_count": 46,
   "metadata": {},
   "outputs": [
    {
     "data": {
      "text/plain": [
       "['QDEL', 'PODD', 'PRGO']"
      ]
     },
     "execution_count": 46,
     "metadata": {},
     "output_type": "execute_result"
    }
   ],
   "source": [
    "healthcare_fg = htables[1]\n",
    "healthcare_fg.columns = [\"stock\", \"Price\", \"Market Cap\", \"12-Month Trailing Total Return (%)\"]\n",
    "healthcare_fg_df = healthcare_fg.iloc[1:]\n",
    "healthcare_fg_ticks = [tick[tick.find(\"(\")+1:tick.find(\")\")] for tick in healthcare_fg_df[\"stock\"]]\n",
    "healthcare_fg_ticks"
   ]
  },
  {
   "cell_type": "code",
   "execution_count": 47,
   "metadata": {},
   "outputs": [
    {
     "data": {
      "text/plain": [
       "['LVGO', 'IMMU', 'MRNA']"
      ]
     },
     "execution_count": 47,
     "metadata": {},
     "output_type": "execute_result"
    }
   ],
   "source": [
    "healthcare_mm = htables[2]\n",
    "healthcare_mm.columns = [\"Communications Most Momentum\", \"Price\", \"Market Cap\", \"12-Month Trailing Total Return (%)\"]\n",
    "healthcare_mm_df = healthcare_mm.iloc[1:]\n",
    "healthcare_mm_ticks = [tick[tick.find(\"(\")+1:tick.find(\")\")] for tick in healthcare_mm_df[\"Communications Most Momentum\"]]\n",
    "del healthcare_mm_ticks[-2:]\n",
    "healthcare_mm_ticks"
   ]
  },
  {
   "cell_type": "code",
   "execution_count": 48,
   "metadata": {},
   "outputs": [],
   "source": [
    "industrial = driver.find_elements(By.CSS_SELECTOR, '#journey-nav__sublist_1-0 > li:nth-child(8) > a')\n",
    "industrial[0].click()"
   ]
  },
  {
   "cell_type": "code",
   "execution_count": 49,
   "metadata": {},
   "outputs": [
    {
     "data": {
      "text/plain": [
       "['EAF', 'AL', 'HII']"
      ]
     },
     "execution_count": 49,
     "metadata": {},
     "output_type": "execute_result"
    }
   ],
   "source": [
    "intable = driver.find_element_by_id(\"main_1-0\").get_attribute('outerHTML')\n",
    "intables  = pd.read_html(intable)\n",
    "industrial_bv = intables[0]\n",
    "industrial_bv.columns = [\"tick\", \"Price\", \"Market Cap\", \"12-Month Trailing P/E Ratio\"]\n",
    "industrial_bv\n",
    "# Locate column containing ticker symbols: \n",
    "industrial_bv_df = industrial_bv.iloc[1:]\n",
    "# Only keep tick information within parentheses:\n",
    "industrial_bv_ticks = [tick[tick.find(\"(\")+1:tick.find(\")\")] for tick in industrial_bv_df[\"tick\"]]\n",
    "industrial_bv_ticks"
   ]
  },
  {
   "cell_type": "code",
   "execution_count": 50,
   "metadata": {},
   "outputs": [
    {
     "data": {
      "text/plain": [
       "['ENR', 'PWR', 'VRT']"
      ]
     },
     "execution_count": 50,
     "metadata": {},
     "output_type": "execute_result"
    }
   ],
   "source": [
    "industrial_fg = intables[1]\n",
    "industrial_fg.columns = [\"stock\", \"Price\", \"Market Cap\", \"12-Month Trailing Total Return (%)\"]\n",
    "industrial_fg_df = industrial_fg.iloc[1:]\n",
    "industrial_fg_ticks = [tick[tick.find(\"(\")+1:tick.find(\")\")] for tick in industrial_fg_df[\"stock\"]]\n",
    "industrial_fg_ticks"
   ]
  },
  {
   "cell_type": "code",
   "execution_count": 51,
   "metadata": {},
   "outputs": [
    {
     "data": {
      "text/plain": [
       "['GNRC', 'FDX', 'VRT']"
      ]
     },
     "execution_count": 51,
     "metadata": {},
     "output_type": "execute_result"
    }
   ],
   "source": [
    "industrial_mm = intables[2]\n",
    "industrial_mm.columns = [\"Communications Most Momentum\", \"Price\", \"Market Cap\", \"12-Month Trailing Total Return (%)\"]\n",
    "industrial_mm_df = industrial_mm.iloc[1:]\n",
    "industrial_mm_ticks = [tick[tick.find(\"(\")+1:tick.find(\")\")] for tick in industrial_mm_df[\"Communications Most Momentum\"]]\n",
    "del industrial_mm_ticks[-2:]\n",
    "industrial_mm_ticks"
   ]
  },
  {
   "cell_type": "code",
   "execution_count": 52,
   "metadata": {},
   "outputs": [],
   "source": [
    "materials = driver.find_elements(By.CSS_SELECTOR, '#journey-nav__sublist_1-0 > li:nth-child(9) > a')\n",
    "materials[0].click()"
   ]
  },
  {
   "cell_type": "code",
   "execution_count": 56,
   "metadata": {},
   "outputs": [
    {
     "data": {
      "text/plain": [
       "['ARD', 'MGM', 'EBAY']"
      ]
     },
     "execution_count": 56,
     "metadata": {},
     "output_type": "execute_result"
    }
   ],
   "source": [
    "motable = driver.find_element_by_id(\"main_1-0\").get_attribute('outerHTML')\n",
    "motables  = pd.read_html(motable)\n",
    "materials_bv = motables[0]\n",
    "materials_bv.columns = [\"tick\", \"Price\", \"Market Cap\", \"12-Month Trailing P/E Ratio\"]\n",
    "materials_bv\n",
    "# Locate column containing ticker symbols: \n",
    "materials_bv_df = discretionary_bv.iloc[1:]\n",
    "# Only keep tick information within parentheses:\n",
    "materials_bv_ticks = [tick[tick.find(\"(\")+1:tick.find(\")\")] for tick in materials_bv_df[\"tick\"]]\n",
    "materials_bv_ticks"
   ]
  },
  {
   "cell_type": "code",
   "execution_count": 57,
   "metadata": {},
   "outputs": [
    {
     "data": {
      "text/plain": [
       "['EXP', 'RGLD', 'MDU']"
      ]
     },
     "execution_count": 57,
     "metadata": {},
     "output_type": "execute_result"
    }
   ],
   "source": [
    "materials_fg = motables[1]\n",
    "materials_fg.columns = [\"stock\", \"Price\", \"Market Cap\", \"12-Month Trailing Total Return (%)\"]\n",
    "materials_fg_df = materials_fg.iloc[1:]\n",
    "materials_fg_ticks = [tick[tick.find(\"(\")+1:tick.find(\")\")] for tick in materials_fg_df[\"stock\"]]\n",
    "materials_fg_ticks"
   ]
  },
  {
   "cell_type": "code",
   "execution_count": 58,
   "metadata": {},
   "outputs": [
    {
     "data": {
      "text/plain": [
       "['NEM', 'FCX', 'SMG']"
      ]
     },
     "execution_count": 58,
     "metadata": {},
     "output_type": "execute_result"
    }
   ],
   "source": [
    "materials_mm = motables[2]\n",
    "materials_mm.columns = [\"Communications Most Momentum\", \"Price\", \"Market Cap\", \"12-Month Trailing Total Return (%)\"]\n",
    "materials_mm_df = materials_mm.iloc[1:]\n",
    "materials_mm_ticks = [tick[tick.find(\"(\")+1:tick.find(\")\")] for tick in materials_mm_df[\"Communications Most Momentum\"]]\n",
    "del materials_mm_ticks[-2:]\n",
    "materials_mm_ticks"
   ]
  },
  {
   "cell_type": "code",
   "execution_count": 59,
   "metadata": {},
   "outputs": [],
   "source": [
    "real_estate = driver.find_elements(By.CSS_SELECTOR, '#journey-nav__sublist_1-0 > li:nth-child(10) > a')\n",
    "real_estate[0].click()"
   ]
  },
  {
   "cell_type": "code",
   "execution_count": 60,
   "metadata": {},
   "outputs": [
    {
     "data": {
      "text/plain": [
       "['BPYU', 'KIM', 'EQC']"
      ]
     },
     "execution_count": 60,
     "metadata": {},
     "output_type": "execute_result"
    }
   ],
   "source": [
    "retable = driver.find_element_by_id(\"main_1-0\").get_attribute('outerHTML')\n",
    "retables  = pd.read_html(retable)\n",
    "real_estate_bv = retables[0]\n",
    "real_estate_bv.columns = [\"tick\", \"Price\", \"Market Cap\", \"12-Month Trailing P/E Ratio\"]\n",
    "real_estate_bv\n",
    "# Locate column containing ticker symbols: \n",
    "real_estate_bv_df = real_estate_bv.iloc[1:]\n",
    "# Only keep tick information within parentheses:\n",
    "real_estate_bv_ticks = [tick[tick.find(\"(\")+1:tick.find(\")\")] for tick in real_estate_bv_df[\"tick\"]]\n",
    "real_estate_bv_ticks"
   ]
  },
  {
   "cell_type": "code",
   "execution_count": 61,
   "metadata": {},
   "outputs": [
    {
     "data": {
      "text/plain": [
       "['KIM', 'COLD', 'ARE']"
      ]
     },
     "execution_count": 61,
     "metadata": {},
     "output_type": "execute_result"
    }
   ],
   "source": [
    "real_estate_fg = retables[1]\n",
    "real_estate_fg.columns = [\"stock\", \"Price\", \"Market Cap\", \"12-Month Trailing Total Return (%)\"]\n",
    "real_estate_fg_df = real_estate_fg.iloc[1:]\n",
    "real_estate_fg_ticks = [tick[tick.find(\"(\")+1:tick.find(\")\")] for tick in real_estate_fg_df[\"stock\"]]\n",
    "real_estate_fg_ticks"
   ]
  },
  {
   "cell_type": "code",
   "execution_count": 62,
   "metadata": {},
   "outputs": [
    {
     "data": {
      "text/plain": [
       "['CSGP', 'EQIX', 'SBAC']"
      ]
     },
     "execution_count": 62,
     "metadata": {},
     "output_type": "execute_result"
    }
   ],
   "source": [
    "real_estate_mm = retables[2]\n",
    "real_estate_mm.columns = [\"Communications Most Momentum\", \"Price\", \"Market Cap\", \"12-Month Trailing Total Return (%)\"]\n",
    "real_estate_mm_df = real_estate_mm.iloc[1:]\n",
    "real_estate_mm_ticks = [tick[tick.find(\"(\")+1:tick.find(\")\")] for tick in real_estate_mm_df[\"Communications Most Momentum\"]]\n",
    "del real_estate_mm_ticks[-2:]\n",
    "real_estate_mm_ticks"
   ]
  },
  {
   "cell_type": "code",
   "execution_count": 63,
   "metadata": {},
   "outputs": [],
   "source": [
    "tech = driver.find_elements(By.CSS_SELECTOR, '#journey-nav__sublist_1-0 > li:nth-child(11) > a')\n",
    "tech[0].click()"
   ]
  },
  {
   "cell_type": "code",
   "execution_count": 64,
   "metadata": {},
   "outputs": [
    {
     "data": {
      "text/plain": [
       "['NLOK', 'XRX', 'NCR']"
      ]
     },
     "execution_count": 64,
     "metadata": {},
     "output_type": "execute_result"
    }
   ],
   "source": [
    "tetable = driver.find_element_by_id(\"main_1-0\").get_attribute('outerHTML')\n",
    "tetables  = pd.read_html(tetable)\n",
    "tech_bv = tetables[0]\n",
    "tech_bv.columns = [\"tick\", \"Price\", \"Market Cap\", \"12-Month Trailing P/E Ratio\"]\n",
    "tech_bv\n",
    "# Locate column containing ticker symbols: \n",
    "tech_bv_df = tech_bv.iloc[1:]\n",
    "# Only keep tick information within parentheses:\n",
    "tech_bv_ticks = [tick[tick.find(\"(\")+1:tick.find(\")\")] for tick in tech_bv_df[\"tick\"]]\n",
    "tech_bv_ticks"
   ]
  },
  {
   "cell_type": "code",
   "execution_count": 65,
   "metadata": {},
   "outputs": [
    {
     "data": {
      "text/plain": [
       "['CRM', 'WEX', 'NLOK']"
      ]
     },
     "execution_count": 65,
     "metadata": {},
     "output_type": "execute_result"
    }
   ],
   "source": [
    "tech_fg = tetables[1]\n",
    "tech_fg.columns = [\"stock\", \"Price\", \"Market Cap\", \"12-Month Trailing Total Return (%)\"]\n",
    "tech_fg_df = tech_fg.iloc[1:]\n",
    "tech_fg_ticks = [tick[tick.find(\"(\")+1:tick.find(\")\")] for tick in tech_fg_df[\"stock\"]]\n",
    "tech_fg_ticks"
   ]
  },
  {
   "cell_type": "code",
   "execution_count": 67,
   "metadata": {},
   "outputs": [
    {
     "data": {
      "text/plain": [
       "['FSLY', 'DOCU', 'ENPH']"
      ]
     },
     "execution_count": 67,
     "metadata": {},
     "output_type": "execute_result"
    }
   ],
   "source": [
    "tech_mm = tetables[2]\n",
    "tech_mm.columns = [\"Communications Most Momentum\", \"Price\", \"Market Cap\", \"12-Month Trailing Total Return (%)\"]\n",
    "tech_mm_df = discretionary_mm.iloc[1:]\n",
    "tech_mm_ticks = [tick[tick.find(\"(\")+1:tick.find(\")\")] for tick in tech_mm_df[\"Communications Most Momentum\"]]\n",
    "del tech_mm_ticks[-2:]\n",
    "tech_mm_ticks"
   ]
  },
  {
   "cell_type": "code",
   "execution_count": 68,
   "metadata": {},
   "outputs": [],
   "source": [
    "utilities = driver.find_elements(By.CSS_SELECTOR, '#journey-nav__sublist_1-0 > li:nth-child(12) > a')\n",
    "utilities[0].click()"
   ]
  },
  {
   "cell_type": "code",
   "execution_count": 69,
   "metadata": {},
   "outputs": [
    {
     "data": {
      "text/plain": [
       "['NRG', 'SRE', 'PPL']"
      ]
     },
     "execution_count": 69,
     "metadata": {},
     "output_type": "execute_result"
    }
   ],
   "source": [
    "utable = driver.find_element_by_id(\"main_1-0\").get_attribute('outerHTML')\n",
    "utables  = pd.read_html(utable)\n",
    "utilities_bv = utables[0]\n",
    "utilities_bv.columns = [\"tick\", \"Price\", \"Market Cap\", \"12-Month Trailing P/E Ratio\"]\n",
    "utilities_bv\n",
    "# Locate column containing ticker symbols: \n",
    "utilities_bv_df = utilities_bv.iloc[1:]\n",
    "# Only keep tick information within parentheses:\n",
    "utilities_bv_ticks = [tick[tick.find(\"(\")+1:tick.find(\")\")] for tick in utilities_bv_df[\"tick\"]]\n",
    "utilities_bv_ticks"
   ]
  },
  {
   "cell_type": "code",
   "execution_count": 71,
   "metadata": {},
   "outputs": [
    {
     "data": {
      "text/plain": [
       "['ES', 'SRE', 'PEG']"
      ]
     },
     "execution_count": 71,
     "metadata": {},
     "output_type": "execute_result"
    }
   ],
   "source": [
    "utilities_fg = utables[1]\n",
    "utilities_fg.columns = [\"stock\", \"Price\", \"Market Cap\", \"12-Month Trailing Total Return (%)\"]\n",
    "utilities_fg_df = utilities_fg.iloc[1:]\n",
    "utilities_fg_ticks = [tick[tick.find(\"(\")+1:tick.find(\")\")] for tick in utilities_fg_df[\"stock\"]]\n",
    "utilities_fg_ticks"
   ]
  },
  {
   "cell_type": "code",
   "execution_count": 72,
   "metadata": {},
   "outputs": [
    {
     "data": {
      "text/plain": [
       "['NEE', 'AWK', 'AES']"
      ]
     },
     "execution_count": 72,
     "metadata": {},
     "output_type": "execute_result"
    }
   ],
   "source": [
    "utilities_mm = utables[2]\n",
    "utilities_mm.columns = [\"Communications Most Momentum\", \"Price\", \"Market Cap\", \"12-Month Trailing Total Return (%)\"]\n",
    "utilities_mm_df = utilities_mm.iloc[1:]\n",
    "utilities_mm_ticks = [tick[tick.find(\"(\")+1:tick.find(\")\")] for tick in utilities_mm_df[\"Communications Most Momentum\"]]\n",
    "del utilities_mm_ticks[-2:]\n",
    "utilities_mm_ticks"
   ]
  },
  {
   "cell_type": "code",
   "execution_count": null,
   "metadata": {},
   "outputs": [],
   "source": [
    "lists=[communications_bv_ticks,communications_fg_ticks,communications_mm_ticks, discretionary_bv_ticks,discretionary_fg_ticks,discretionary_mm_ticks,staples_bv_ticks,staples_fg_ticks,staples_mm_ticks,energy_bv_ticks,energy_fg_ticks,energy_mm_ticks, financial_bv_ticks,financial_fg_ticks,financial_mm_ticks,healthcare_bv_ticks,healthcare_fg_ticks,healthcare_mm_ticks,industrial_bv_ticks,industrial_fg_ticks,industrial_mm_ticks,tech_bv_ticks,tech_fg_ticks,tech_mm_ticks,materials_bv_ticks,materials_fg_ticks,materials_mm_ticks,real_estate_bv_ticks,real_estate_fg_ticks,real_estate_mm_ticks,utilities_bv_ticks,utilities_fg_ticks,utilities_mm_ticks]\n",
    "stock_list = [item for sublist in lists for item in sublist]"
   ]
  },
  {
   "cell_type": "code",
   "execution_count": 1,
   "metadata": {},
   "outputs": [
    {
     "output_type": "error",
     "ename": "NameError",
     "evalue": "name 'pd' is not defined",
     "traceback": [
      "\u001b[1;31m---------------------------------------------------------------------------\u001b[0m",
      "\u001b[1;31mNameError\u001b[0m                                 Traceback (most recent call last)",
      "\u001b[1;32m<ipython-input-1-0dee7969aec2>\u001b[0m in \u001b[0;36m<module>\u001b[1;34m\u001b[0m\n\u001b[1;32m----> 1\u001b[1;33m \u001b[0msp500_df\u001b[0m\u001b[1;33m=\u001b[0m\u001b[0mpd\u001b[0m\u001b[1;33m.\u001b[0m\u001b[0mread_csv\u001b[0m\u001b[1;33m(\u001b[0m\u001b[1;34m'../data/external/sp500.csv'\u001b[0m\u001b[1;33m)\u001b[0m\u001b[1;33m\u001b[0m\u001b[1;33m\u001b[0m\u001b[0m\n\u001b[0m",
      "\u001b[1;31mNameError\u001b[0m: name 'pd' is not defined"
     ]
    }
   ],
   "source": [
    "sp500_df=pd.read_csv('../data/external/sp500.csv')"
   ]
  },
  {
   "cell_type": "code",
   "execution_count": null,
   "metadata": {},
   "outputs": [],
   "source": [
    "sector_df=pd.DataFrame()\n",
    "sector_df[\"ids\"]=sector_l\n",
    "sector_df[\"labels\"]=sector_l"
   ]
  },
  {
   "cell_type": "code",
   "execution_count": null,
   "metadata": {},
   "outputs": [],
   "source": [
    "from itertools import cycle\n",
    "perf_df= pd.DataFrame(np.arange(1,34), columns=['ids'])\n",
    "seq = cycle(['Best Value','Fastest Growth','Most Momentum'])\n",
    "perf_df['labels'] = [next(seq) for count in range(perf_df.shape[0])]"
   ]
  },
  {
   "cell_type": "code",
   "execution_count": null,
   "metadata": {},
   "outputs": [],
   "source": [
    "lists=[]\n",
    "for i in range(len(sector_l)):\n",
    "    \n",
    "    \n",
    "    seq = cycle([sector_l[i]])\n",
    "    lists.append([next(seq) for count in range(3)])\n",
    "\n",
    "combined = [item for sublist in lists for item in sublist]\n",
    "perf_df['ids']=combined \n",
    "perf_df['parents']=combined\n",
    "perf_df['ids']=perf_df['ids'] + '-' + perf_df['labels']\n",
    "perf_df"
   ]
  },
  {
   "cell_type": "code",
   "execution_count": null,
   "metadata": {},
   "outputs": [],
   "source": [
    "stocks_df=pd.DataFrame()\n",
    "stocks_df['parents']=perf_df['parents'] + '-' + perf_df['labels']\n",
    "stocks_df"
   ]
  },
  {
   "cell_type": "code",
   "execution_count": null,
   "metadata": {},
   "outputs": [],
   "source": [
    "driver.quit()"
   ]
  },
  {
   "cell_type": "code",
   "execution_count": null,
   "metadata": {},
   "outputs": [],
   "source": []
  }
 ],
 "metadata": {
  "kernelspec": {
   "display_name": "Python 3",
   "language": "python",
   "name": "python3"
  },
  "language_info": {
   "codemirror_mode": {
    "name": "ipython",
    "version": 3
   },
   "file_extension": ".py",
   "mimetype": "text/x-python",
   "name": "python",
   "nbconvert_exporter": "python",
   "pygments_lexer": "ipython3",
   "version": "3.7.6-final"
  }
 },
 "nbformat": 4,
 "nbformat_minor": 4
}