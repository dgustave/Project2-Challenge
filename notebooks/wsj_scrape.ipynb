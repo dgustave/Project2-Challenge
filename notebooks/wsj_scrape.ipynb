{
 "cells": [
  {
   "cell_type": "markdown",
   "metadata": {},
   "source": [
    "# Step 1: Install Python packages"
   ]
  },
  {
   "cell_type": "code",
   "execution_count": 12,
   "metadata": {},
   "outputs": [],
   "source": [
    "import os\n",
    "import html5lib\n",
    "import pandas as pd\n",
    "from selenium import webdriver                   \n",
    "from selenium.webdriver.common.keys import Keys   \n",
    "from selenium.webdriver.common.by import By\n",
    "from selenium.webdriver.support.ui import WebDriverWait\n",
    "from selenium.webdriver.support import expected_conditions as EC\n",
    "from selenium.common.exceptions import TimeoutException\n",
    "from bs4 import BeautifulSoup as bs    "
   ]
  },
  {
   "cell_type": "markdown",
   "metadata": {},
   "source": [
    "# Step 2: Preparation"
   ]
  },
  {
   "cell_type": "code",
   "execution_count": 37,
   "metadata": {},
   "outputs": [],
   "source": [
    "wsj = \"https://www.wsj.com/market-data/stocks?mod=nav_top_subsection\"\n",
    "# Locate Driver in system\n",
    "current_path = os.getcwd()\n",
    "# save the .exe file under the same directory of the web-scrape python script.\n",
    "Path = os.path.join(current_path, \"chromedriver\")\n",
    "# Initialize Chrome driver and start browser session controlled by automated test software.\n",
    "driver = webdriver.Chrome(executable_path='chromedriver')\n",
    "# Get the URL\n",
    "driver.get(wsj)\n",
    "timeout = 30\n",
    "try:\n",
    "    WebDriverWait(driver, timeout).until(EC.visibility_of_element_located((By.ID, \"root\")))\n",
    "except TimeoutException:\n",
    "    driver.quit()\n",
    "table = driver.find_element_by_id(\"root\").get_attribute('outerHTML')"
   ]
  },
  {
   "cell_type": "code",
   "execution_count": 38,
   "metadata": {},
   "outputs": [
    {
     "data": {
      "text/plain": [
       "[              Unnamed: 0      Last     Chg  %Chg\n",
       " 0                   DJIA  28344.29  195.65  0.70\n",
       " 1       Nasdaq Composite  11384.93   52.44  0.46\n",
       " 2                S&P 500   3429.83   21.20  0.62\n",
       " 3  DJ Total Stock Market  35205.95  277.82  0.80\n",
       " 4           Russell 2000   1615.36   33.39  2.11\n",
       " 5         NYSE Composite  13053.18  103.53  0.80\n",
       " 6           Barron's 400    747.31    9.53  1.29\n",
       " 7        CBOE Volatility     27.82   -0.14 -0.50\n",
       " 8           DJIA Futures  28175.00  180.00  0.64\n",
       " 9        S&P 500 Futures   3414.25   21.35  0.63,\n",
       "   Unnamed: 0_level_0               NYSE             Nasdaq\n",
       "               Issues Unnamed: 1_level_1 Unnamed: 2_level_1\n",
       "            Issues At Unnamed: 1_level_2 Unnamed: 2_level_2\n",
       "         Share Volume Unnamed: 1_level_3 Unnamed: 2_level_3\n",
       " 0          Advancing               2182               2533\n",
       " 1          Declining                860                913\n",
       " 2          Unchanged                 78                 81\n",
       " 3              Total               3120               3527\n",
       " 4          New Highs                140                128\n",
       " 5           New Lows                 14                 15\n",
       " 6              Total         2463717686         2790329952\n",
       " 7          Advancing         1737515588         2113733975\n",
       " 8          Declining          715172972          657440518\n",
       " 9          Unchanged           11029126           19155459,\n",
       "                           Unnamed: 0  Volume    Last    Chg  % Chg\n",
       " 0        Electro-Sensors Inc. (ELSE)    7.3M    5.93   2.48  71.87\n",
       " 1     Westwater Resources Inc. (WWR)  108.1M   11.08   2.80  33.82\n",
       " 2            ReneSola Ltd. ADR (SOL)    5.2M    2.82   0.69  32.39\n",
       " 3            Alteryx Inc. Cl A (AYX)    9.4M  147.38  33.49  29.41\n",
       " 4  TransAct Technologies Inc. (TACT)  589.2K    6.60   1.50  29.41,\n",
       "                          New Highs  Unnamed: 1\n",
       " 0                   Nike Inc. Cl B      130.38\n",
       " 1                 McDonald's Corp.      226.72\n",
       " 2                    Danaher Corp.      218.68\n",
       " 3  United Parcel Service Inc. Cl B      171.98\n",
       " 4                 Square Inc. Cl A      181.89,\n",
       "                          New Lows  Unnamed: 1\n",
       " 0      Palantir Technologies Inc.        8.92\n",
       " 1                 Asana Inc. Cl A       24.94\n",
       " 2  Guangshen Railway Co. Ltd. ADR        8.25\n",
       " 3            VIA optronics AG ADR        8.72\n",
       " 4        CONSOL Coal Resources LP        3.13,\n",
       "                 Unnamed: 0  % Chg\n",
       " 0                  S&P 500   0.58\n",
       " 1   Communication Services  -0.20\n",
       " 2   Consumer Discretionary  -0.06\n",
       " 3         Consumer Staples   0.43\n",
       " 4                   Energy   1.11\n",
       " 5               Financials   1.36\n",
       " 6              Health Care   0.09\n",
       " 7              Industrials   0.89\n",
       " 8   Information Technology   0.36\n",
       " 9                Materials   1.25\n",
       " 10             Real Estate   0.34\n",
       " 11               Utilities   1.83]"
      ]
     },
     "execution_count": 38,
     "metadata": {},
     "output_type": "execute_result"
    }
   ],
   "source": [
    "tables  = pd.read_html(table)\n",
    "tables"
   ]
  },
  {
   "cell_type": "code",
   "execution_count": 47,
   "metadata": {},
   "outputs": [],
   "source": [
    "wsj_tables =[df for df in tables]"
   ]
  },
  {
   "cell_type": "code",
   "execution_count": 51,
   "metadata": {},
   "outputs": [
    {
     "data": {
      "text/html": [
       "<div>\n",
       "<style scoped>\n",
       "    .dataframe tbody tr th:only-of-type {\n",
       "        vertical-align: middle;\n",
       "    }\n",
       "\n",
       "    .dataframe tbody tr th {\n",
       "        vertical-align: top;\n",
       "    }\n",
       "\n",
       "    .dataframe thead th {\n",
       "        text-align: right;\n",
       "    }\n",
       "</style>\n",
       "<table border=\"1\" class=\"dataframe\">\n",
       "  <thead>\n",
       "    <tr style=\"text-align: right;\">\n",
       "      <th></th>\n",
       "      <th>S&amp;P 500 &amp; Sectors</th>\n",
       "      <th>% Change</th>\n",
       "    </tr>\n",
       "  </thead>\n",
       "  <tbody>\n",
       "    <tr>\n",
       "      <th>0</th>\n",
       "      <td>S&amp;P 500</td>\n",
       "      <td>0.58</td>\n",
       "    </tr>\n",
       "    <tr>\n",
       "      <th>1</th>\n",
       "      <td>Communication Services</td>\n",
       "      <td>-0.20</td>\n",
       "    </tr>\n",
       "    <tr>\n",
       "      <th>2</th>\n",
       "      <td>Consumer Discretionary</td>\n",
       "      <td>-0.06</td>\n",
       "    </tr>\n",
       "    <tr>\n",
       "      <th>3</th>\n",
       "      <td>Consumer Staples</td>\n",
       "      <td>0.43</td>\n",
       "    </tr>\n",
       "    <tr>\n",
       "      <th>4</th>\n",
       "      <td>Energy</td>\n",
       "      <td>1.11</td>\n",
       "    </tr>\n",
       "    <tr>\n",
       "      <th>5</th>\n",
       "      <td>Financials</td>\n",
       "      <td>1.36</td>\n",
       "    </tr>\n",
       "    <tr>\n",
       "      <th>6</th>\n",
       "      <td>Health Care</td>\n",
       "      <td>0.09</td>\n",
       "    </tr>\n",
       "    <tr>\n",
       "      <th>7</th>\n",
       "      <td>Industrials</td>\n",
       "      <td>0.89</td>\n",
       "    </tr>\n",
       "    <tr>\n",
       "      <th>8</th>\n",
       "      <td>Information Technology</td>\n",
       "      <td>0.36</td>\n",
       "    </tr>\n",
       "    <tr>\n",
       "      <th>9</th>\n",
       "      <td>Materials</td>\n",
       "      <td>1.25</td>\n",
       "    </tr>\n",
       "    <tr>\n",
       "      <th>10</th>\n",
       "      <td>Real Estate</td>\n",
       "      <td>0.34</td>\n",
       "    </tr>\n",
       "    <tr>\n",
       "      <th>11</th>\n",
       "      <td>Utilities</td>\n",
       "      <td>1.83</td>\n",
       "    </tr>\n",
       "  </tbody>\n",
       "</table>\n",
       "</div>"
      ],
      "text/plain": [
       "         S&P 500 & Sectors  % Change\n",
       "0                  S&P 500      0.58\n",
       "1   Communication Services     -0.20\n",
       "2   Consumer Discretionary     -0.06\n",
       "3         Consumer Staples      0.43\n",
       "4                   Energy      1.11\n",
       "5               Financials      1.36\n",
       "6              Health Care      0.09\n",
       "7              Industrials      0.89\n",
       "8   Information Technology      0.36\n",
       "9                Materials      1.25\n",
       "10             Real Estate      0.34\n",
       "11               Utilities      1.83"
      ]
     },
     "execution_count": 51,
     "metadata": {},
     "output_type": "execute_result"
    }
   ],
   "source": [
    "sp500_sectors_df = wsj_tables[5]\n",
    "sp500_sectors_df.columns = [\"S&P 500 & Sectors\", \"% Change\"]\n",
    "sp500_sectors_df.reset_index(drop=True, inplace=True)\n",
    "sp500_sectors_df"
   ]
  },
  {
   "cell_type": "code",
   "execution_count": 54,
   "metadata": {},
   "outputs": [
    {
     "data": {
      "text/plain": [
       "'<table border=\"1\" class=\"dataframe\">\\n  <thead>\\n    <tr style=\"text-align: right;\">\\n      <th></th>\\n      <th>S&amp;P 500 &amp; Sectors</th>\\n      <th>% Change</th>\\n    </tr>\\n  </thead>\\n  <tbody>\\n    <tr>\\n      <th>0</th>\\n      <td>S&amp;P 500</td>\\n      <td>0.58</td>\\n    </tr>\\n    <tr>\\n      <th>1</th>\\n      <td>Communication Services</td>\\n      <td>-0.20</td>\\n    </tr>\\n    <tr>\\n      <th>2</th>\\n      <td>Consumer Discretionary</td>\\n      <td>-0.06</td>\\n    </tr>\\n    <tr>\\n      <th>3</th>\\n      <td>Consumer Staples</td>\\n      <td>0.43</td>\\n    </tr>\\n    <tr>\\n      <th>4</th>\\n      <td>Energy</td>\\n      <td>1.11</td>\\n    </tr>\\n    <tr>\\n      <th>5</th>\\n      <td>Financials</td>\\n      <td>1.36</td>\\n    </tr>\\n    <tr>\\n      <th>6</th>\\n      <td>Health Care</td>\\n      <td>0.09</td>\\n    </tr>\\n    <tr>\\n      <th>7</th>\\n      <td>Industrials</td>\\n      <td>0.89</td>\\n    </tr>\\n    <tr>\\n      <th>8</th>\\n      <td>Information Technology</td>\\n      <td>0.36</td>\\n    </tr>\\n    <tr>\\n      <th>9</th>\\n      <td>Materials</td>\\n      <td>1.25</td>\\n    </tr>\\n    <tr>\\n      <th>10</th>\\n      <td>Real Estate</td>\\n      <td>0.34</td>\\n    </tr>\\n    <tr>\\n      <th>11</th>\\n      <td>Utilities</td>\\n      <td>1.83</td>\\n    </tr>\\n  </tbody>\\n</table>'"
      ]
     },
     "execution_count": 54,
     "metadata": {},
     "output_type": "execute_result"
    }
   ],
   "source": [
    "sp500_sectors_html = sp500_sectors_df.to_html()\n",
    "sp500_sectors_table = str(sp500_sectors_html)\n",
    "sp500_sectors_table"
   ]
  },
  {
   "cell_type": "code",
   "execution_count": 197,
   "metadata": {},
   "outputs": [
    {
     "data": {
      "text/plain": [
       "'https://www.wsj.com/market-data/quotes/index/US/S&P%20US/SPX?mod=md_usstk_overview_quote'"
      ]
     },
     "execution_count": 197,
     "metadata": {},
     "output_type": "execute_result"
    }
   ],
   "source": [
    "# The index of the links needed\n",
    "# 0\tS&P 500\n",
    "# 1\tCommunication Services\n",
    "# 2\tConsumer Discretionary\n",
    "# 3\tConsumer Staples\n",
    "# 4\tEnergy\n",
    "# 5\tFinancials\n",
    "# 6\tHealth Care\n",
    "# 7\tIndustrials\n",
    "# 8\tInformation Technology\n",
    "# 9\tMaterials\n",
    "# 10\tReal Estate\n",
    "# 11\tUtilities\n",
    "sp500_links = [(driver.find_elements_by_partial_link_text(sector)) for sector in sp500_sectors_df[\"S&P 500 & Sectors\"]]\n",
    "sp500_link[0], sp500_link[0], sp500_link[0],\n",
    "# for sector in sp500_sectors_df[\"S&P 500 & Sectors\"]: \n",
    "#     sector = driver.find_elements_by_partial_link_text(sector)\n",
    "#     for links in sector: \n",
    "#          links.get_attribute(\"href\")\n",
    "# links\n",
    "\n",
    "# sp500_link = [links.get_attribute(\"href\") for links in sp500_links[0]]\n",
    "# Communication Services\n",
    "# Consumer Discretionary\n",
    "# Consumer Staples\n",
    "# Energy\n",
    "# Financials\n",
    "# Health Care\n",
    "# Industrials\n",
    "# Information Technology\n",
    "# Materials\n",
    "# Real Estate\n",
    "# Utilities\n",
    "# .find_elements_by_tag_name('a')\n",
    "# .get_attribute(\"href\")\n",
    "# sp500_links = [sp500_link.find_elements_by_class_name(\"WSJTables--table__cell--2u6629rx WSJTables--is-first--f1NiiZJm WSJTheme--table__cell--3njwWeaF \") for sp500_link in page_links]\n",
    "# sp500_links\n",
    "# sp500_element.get_attribute(\"href\")"
   ]
  },
  {
   "cell_type": "code",
   "execution_count": 35,
   "metadata": {},
   "outputs": [],
   "source": []
  },
  {
   "cell_type": "code",
   "execution_count": 35,
   "metadata": {},
   "outputs": [],
   "source": []
  },
  {
   "cell_type": "code",
   "execution_count": 35,
   "metadata": {},
   "outputs": [],
   "source": []
  },
  {
   "cell_type": "code",
   "execution_count": 35,
   "metadata": {},
   "outputs": [],
   "source": [
    "driver.quit()"
   ]
  },
  {
   "cell_type": "code",
   "execution_count": null,
   "metadata": {},
   "outputs": [],
   "source": [
    "# def wsjTable(url):\n",
    "#     tables = pd.read_html(url, attrs={'class': \"WSJTables--table--1QzSOCfq WSJTheme--table--Tzxxxq4J \"})\n",
    "# #     sp500_sector_df = tables[0]\n",
    "# #     sp500_sector_df.columns = [\"S&P 500\", \"% Change\"]\n",
    "# #     sp500_sector_html =  sp500_sector_df.to_html()\n",
    "# #     sp500_sector_list = [str(sp500_sector_html)]\n",
    "# #     return sp500_sector_list\n",
    "# wsjTable(\"http://www.wsj.com/market-data/stocks?mod=nav_top_subsection\")"
   ]
  },
  {
   "cell_type": "code",
   "execution_count": null,
   "metadata": {},
   "outputs": [],
   "source": [
    "# def initScrape():\n",
    "#     wsj = \"https://www.wsj.com/market-data/stocks?mod=nav_top_subsection\"\n",
    "#     wsjTable(wsj)\n",
    "# #     # Locate Driver in system\n",
    "# #     current_path = os.getcwd()\n",
    "# #     # save the .exe file under the same directory of the web-scrape python script.\n",
    "# #     Path = os.path.join(current_path, \"chromedriver\")\n",
    "# #     # Initialize Chrome driver and start browser session.\n",
    "# #     service = Service(Path)\n",
    "# #     service.start()\n",
    "# #     # Open a blank Chrome Browser and inform it is controlled by automated test software.\n",
    "# #     browser = webdriver.Remote(service.service_url)\n",
    "# #     # It implicity waits 30 seconds to perform all task in the browsers session. \n",
    "# #     browser.implicitly_wait(30) \n",
    "# #     scrapeWsj(wsj)\n",
    "# #     broswer.quit()\n",
    "#     wsj_dict = {\"S&P 500 Sectors\": sp500_sector_list}\n",
    "#     return wsj_dict"
   ]
  },
  {
   "cell_type": "markdown",
   "metadata": {},
   "source": [
    "# Step 3: Find the IDs of the items we want to scrape for"
   ]
  },
  {
   "cell_type": "code",
   "execution_count": null,
   "metadata": {},
   "outputs": [],
   "source": []
  },
  {
   "cell_type": "markdown",
   "metadata": {},
   "source": [
    "# Step 4: Techniques to make more human-like web-scrapers"
   ]
  },
  {
   "cell_type": "code",
   "execution_count": null,
   "metadata": {},
   "outputs": [],
   "source": [
    "# If the website detects us as a web-scraper, it will cut our connection so we cannot pull more data and have to re-start our scraper. This largely impacts the efficiency of the scraper and involves a lot of manual interference. There are a few techniques we can use to make the scraper more human-like:\n",
    "# (1) Randomize the sleep time\n",
    "# This can be easily implemented as below wherever needed:\n",
    "#sleep for sometime between 5 and 8 seconds\n",
    "# time.sleep(random.uniform(5,8))\n",
    "# (2) Randomize the user agent for the web browser\n",
    "# This is also easy and can be added to the browser options as below:\n",
    "# ua = UserAgent()\n",
    "# userAgent = ua.random\n",
    "# Firefox_options = webdriver.FirefoxOptions()\n",
    "# Firefox_options.add_argument(f’user-agent={userAgent}’)\n",
    "# browser = webdriver.Firefox(executable_path = DRIVER_BIN, options=Firefox_options)\n",
    "# (3) Use dynamic proxy/IP\n",
    "# This requires more work than the above two. Usually free proxies are not stable and most of them don’t respond to requests, so we need to first a free proxy that responds to our requests. This website (also named as “url” in the script below) provides a lot of free proxies which we scrape down for our use. We will use Python BeautifulSoup package to scrape a list of proxies, and use Python requests package to test whether the proxy responds to our requests to the link.\n",
    "# def get_proxy(link):\n",
    "#     url = \"https://www.sslproxies.org/\"\n",
    "#     r = requests.get(url)\n",
    "#     soup = BeautifulSoup(r.content, 'html5lib')\n",
    "#     proxies_list = list(map(lambda x: x[0]+':'+x[1], list(zip(map(lambda x: x.text, soup.findAll('td')[::8]), map(lambda x: x.text, soup.findAll('td')[1::8])))))\n",
    "#     while 1:\n",
    "#         try:\n",
    "#             selected_ip = choice(proxies_list)\n",
    "#             proxy = {'https': selected_ip, 'http': selected_ip}\n",
    "#             headers = {'User-Agent': ua.random}\n",
    "#             print('Using proxy:{}'.format(proxy))\n",
    "#             r = requests.request('get', link, proxies=proxy, headers=headers, timeout=5)\n",
    "#             break\n",
    "#         except:\n",
    "#             pass\n",
    "        \n",
    "#     return proxy\n",
    "# We then add the working proxy to the browser option, similar to how we added the fake user agent:\n",
    "# link = \"https://www.expedia.com\"\n",
    "# proxy = get_proxy(link)\n",
    "# Firefox_options.add_argument('--proxy-server=%s' % proxy)\n",
    "# browser = webdriver.Firefox(executable_path = DRIVER_BIN, options=Firefox_options)"
   ]
  },
  {
   "cell_type": "markdown",
   "metadata": {},
   "source": [
    "# Step 5: The full code that runs the scraper and save the data to .csv files"
   ]
  },
  {
   "cell_type": "code",
   "execution_count": null,
   "metadata": {},
   "outputs": [],
   "source": [
    "# def scrapeWsj(wsj): \n",
    "#     tables = pd.read_html(wsj)\n",
    "#     sp500_sector_df = tables[0]\n",
    "#     sp500_sector_df.columns = [\"S&P 500\", \"% Change\"]\n",
    "#     sp500_sector_html =  sp500_sector_df.to_html()\n",
    "#     sp500_sector_list = [str(sp500_sector_html)]\n",
    "# #     browser.get(wsj)\n",
    "#     return sp500_sector_list"
   ]
  },
  {
   "cell_type": "code",
   "execution_count": null,
   "metadata": {},
   "outputs": [],
   "source": [
    "# initScrape()"
   ]
  },
  {
   "cell_type": "code",
   "execution_count": null,
   "metadata": {},
   "outputs": [],
   "source": []
  }
 ],
 "metadata": {
  "kernelspec": {
   "display_name": "Python 3",
   "language": "python",
   "name": "python3"
  },
  "language_info": {
   "codemirror_mode": {
    "name": "ipython",
    "version": 3
   },
   "file_extension": ".py",
   "mimetype": "text/x-python",
   "name": "python",
   "nbconvert_exporter": "python",
   "pygments_lexer": "ipython3",
   "version": "3.8.3"
  }
 },
 "nbformat": 4,
 "nbformat_minor": 4
}
